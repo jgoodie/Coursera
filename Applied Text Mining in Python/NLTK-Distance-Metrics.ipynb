{
 "cells": [
  {
   "cell_type": "code",
   "execution_count": 1,
   "metadata": {},
   "outputs": [],
   "source": [
    "import numpy as np\n",
    "import pandas as pd\n",
    "import nltk\n",
    "from nltk.corpus import words\n",
    "correct_spellings = words.words()\n",
    "entries=['cormulent', 'incendenece', 'validrate']"
   ]
  },
  {
   "cell_type": "code",
   "execution_count": 93,
   "metadata": {
    "scrolled": false
   },
   "outputs": [
    {
     "name": "stderr",
     "output_type": "stream",
     "text": [
      "/usr/local/Cellar/python3/3.6.4_1/Frameworks/Python.framework/Versions/3.6/lib/python3.6/site-packages/ipykernel_launcher.py:5: DeprecationWarning: generator 'ngrams' raised StopIteration\n",
      "  \"\"\"\n",
      "/usr/local/Cellar/python3/3.6.4_1/Frameworks/Python.framework/Versions/3.6/lib/python3.6/site-packages/ipykernel_launcher.py:8: DeprecationWarning: generator 'ngrams' raised StopIteration\n",
      "  \n",
      "/usr/local/Cellar/python3/3.6.4_1/Frameworks/Python.framework/Versions/3.6/lib/python3.6/site-packages/ipykernel_launcher.py:11: DeprecationWarning: generator 'ngrams' raised StopIteration\n",
      "  # This is added back by InteractiveShellApp.init_path()\n"
     ]
    },
    {
     "data": {
      "text/plain": [
       "['corpulent', 'indecence', 'validate']"
      ]
     },
     "execution_count": 93,
     "metadata": {},
     "output_type": "execute_result"
    }
   ],
   "source": [
    "def answer_nine(entries=['cormulent', 'incendenece', 'validrate']):\n",
    "    # get first letter of each word with c\n",
    "    c = [i for i in correct_spellings if i[0]=='c']\n",
    "    # calculate the distance of each word with entry and link both together\n",
    "    one = [(nltk.jaccard_distance(set(nltk.ngrams(entries[0], n=3)), set(nltk.ngrams(a, n=3))), a) for a in c]\n",
    "\n",
    "    i1 = [i for i in correct_spellings if i[0]=='i']\n",
    "    two = [(nltk.jaccard_distance(set(nltk.ngrams(entries[1], n=3)), set(nltk.ngrams(a, n=3))), a) for a in i1]\n",
    "\n",
    "    v = [i for i in correct_spellings if i[0]=='v']\n",
    "    three = [(nltk.jaccard_distance(set(nltk.ngrams(entries[2], n=3)), set(nltk.ngrams(a, n=3))), a) for a in v]\n",
    "\n",
    "    # sort them to ascending order so shortest distance is on top.\n",
    "    # extract the word only\n",
    "    output = [sorted(one)[0][1], sorted(two)[0][1], sorted(three)[0][1]]\n",
    "\n",
    "    return output\n",
    "\n",
    "answer_nine()"
   ]
  },
  {
   "cell_type": "code",
   "execution_count": 101,
   "metadata": {
    "scrolled": true
   },
   "outputs": [
    {
     "name": "stderr",
     "output_type": "stream",
     "text": [
      "/usr/local/Cellar/python3/3.6.4_1/Frameworks/Python.framework/Versions/3.6/lib/python3.6/site-packages/ipykernel_launcher.py:6: DeprecationWarning: generator 'ngrams' raised StopIteration\n",
      "  \n",
      "/usr/local/Cellar/python3/3.6.4_1/Frameworks/Python.framework/Versions/3.6/lib/python3.6/site-packages/ipykernel_launcher.py:9: DeprecationWarning: generator 'ngrams' raised StopIteration\n",
      "  if __name__ == '__main__':\n",
      "/usr/local/Cellar/python3/3.6.4_1/Frameworks/Python.framework/Versions/3.6/lib/python3.6/site-packages/ipykernel_launcher.py:12: DeprecationWarning: generator 'ngrams' raised StopIteration\n",
      "  if sys.path[0] == '':\n"
     ]
    },
    {
     "data": {
      "text/plain": [
       "['cormus', 'incendiary', 'valid']"
      ]
     },
     "execution_count": 101,
     "metadata": {},
     "output_type": "execute_result"
    }
   ],
   "source": [
    "def answer_ten(entries=['cormulent', 'incendenece', 'validrate']):\n",
    "\n",
    "    # get first letter of each word with c\n",
    "    c = [i for i in correct_spellings if i[0]=='c']\n",
    "    # calculate the distance of each word with entry and link both together\n",
    "    one = [(nltk.jaccard_distance(set(nltk.ngrams(entries[0], n=4)), \\\n",
    "                                  set(nltk.ngrams(a, n=4))), a) for a in c]\n",
    "\n",
    "    i1 = [i for i in correct_spellings if i[0]=='i']\n",
    "    two = [(nltk.jaccard_distance(set(nltk.ngrams(entries[1], n=4)), \\\n",
    "                                  set(nltk.ngrams(a, n=4))), a) for a in i1]\n",
    "\n",
    "    v = [i for i in correct_spellings if i[0]=='v']\n",
    "    three = [(nltk.jaccard_distance(set(nltk.ngrams(entries[2], n=4)), \\\n",
    "                                  set(nltk.ngrams(a, n=4))), a) for a in v]\n",
    "\n",
    "    # sort them to ascending order so shortest distance is on top.\n",
    "    # extract the word only\n",
    "    output = [sorted(one)[0][1], sorted(two)[0][1], sorted(three)[0][1]]\n",
    "\n",
    "    return output\n",
    "\n",
    "answer_ten()"
   ]
  },
  {
   "cell_type": "code",
   "execution_count": 103,
   "metadata": {},
   "outputs": [
    {
     "data": {
      "text/plain": [
       "['corpulent', 'intendence', 'validate']"
      ]
     },
     "execution_count": 103,
     "metadata": {},
     "output_type": "execute_result"
    }
   ],
   "source": [
    "def answer_eleven(entries=['cormulent', 'incendenece', 'validrate']):\n",
    "\n",
    "    from nltk.corpus import words\n",
    "\n",
    "    correct_spellings = words.words()\n",
    "\n",
    "    # get first letter of each word with c\n",
    "    c = [i for i in correct_spellings if i[0]=='c']\n",
    "    # calculate the distance of each word with entry and link both together\n",
    "    one = [((nltk.edit_distance(entries[0], a)), a) for a in c]\n",
    "\n",
    "    i1 = [i for i in correct_spellings if i[0]=='i']\n",
    "    two = [((nltk.edit_distance(entries[1], a)), a) for a in i1]\n",
    "\n",
    "    v = [i for i in correct_spellings if i[0]=='v']\n",
    "    three = [((nltk.edit_distance(entries[2], a)), a) for a in v]\n",
    "\n",
    "    # sort them to ascending order so shortest distance is on top.\n",
    "    # extract the word only\n",
    "    output = [sorted(one)[0][1], sorted(two)[0][1], sorted(three)[0][1]]\n",
    "\n",
    "    return output\n",
    "\n",
    "answer_eleven()"
   ]
  },
  {
   "cell_type": "code",
   "execution_count": null,
   "metadata": {},
   "outputs": [],
   "source": [
    "\n",
    "l = []\n",
    "for e in entries:\n",
    "    l.append([i for i in correct_spellings if i[0]==e[0]])"
   ]
  },
  {
   "cell_type": "code",
   "execution_count": null,
   "metadata": {
    "scrolled": true
   },
   "outputs": [],
   "source": [
    "k = []\n",
    "for x in np.arange(len(l)):\n",
    "    for y in l[x]:\n",
    "        k.append((nltk.jaccard_distance(set(nltk.ngrams(entries[x], n=3)), set(nltk.ngrams(y, n=3))), y))"
   ]
  },
  {
   "cell_type": "code",
   "execution_count": null,
   "metadata": {},
   "outputs": [],
   "source": [
    "sorted(k)"
   ]
  },
  {
   "cell_type": "code",
   "execution_count": null,
   "metadata": {},
   "outputs": [],
   "source": [
    "set(nltk.ngrams(entries[0], n=3))"
   ]
  },
  {
   "cell_type": "code",
   "execution_count": null,
   "metadata": {},
   "outputs": [],
   "source": [
    "#(nltk.jaccard_distance(set(nltk.ngrams(entries[0], n=3)), set(nltk.ngrams(a, n=3))), a)"
   ]
  },
  {
   "cell_type": "code",
   "execution_count": null,
   "metadata": {},
   "outputs": [],
   "source": [
    "#[i for i in correct_spellings if i[0]=='c']"
   ]
  },
  {
   "cell_type": "code",
   "execution_count": 2,
   "metadata": {
    "scrolled": true
   },
   "outputs": [
    {
     "data": {
      "text/plain": [
       "0.4"
      ]
     },
     "execution_count": 2,
     "metadata": {},
     "output_type": "execute_result"
    }
   ],
   "source": [
    "word1 = \"recipe\"\n",
    "word2 = \"recipt\"\n",
    "nltk.jaccard_distance(set(nltk.ngrams(word1, n=3)), set(nltk.ngrams(word2, n=3)))"
   ]
  },
  {
   "cell_type": "code",
   "execution_count": 40,
   "metadata": {},
   "outputs": [],
   "source": [
    "cs = pd.DataFrame()"
   ]
  },
  {
   "cell_type": "code",
   "execution_count": 42,
   "metadata": {},
   "outputs": [],
   "source": [
    "k = []\n",
    "for e in enumerate(entries):\n",
    "    for i,g in enumerate(correct_spellings):\n",
    "        if g[0]==e[1][0]:\n",
    "            k.append(g)\n",
    "    cs[e[0]] = pd.Series(k)    \n",
    "    k=[]"
   ]
  },
  {
   "cell_type": "code",
   "execution_count": 89,
   "metadata": {},
   "outputs": [
    {
     "name": "stderr",
     "output_type": "stream",
     "text": [
      "/usr/local/Cellar/python3/3.6.4_1/Frameworks/Python.framework/Versions/3.6/lib/python3.6/site-packages/ipykernel_launcher.py:8: DeprecationWarning: generator 'ngrams' raised StopIteration\n",
      "  \n"
     ]
    }
   ],
   "source": [
    "#one = [(nltk.jaccard_distance(set(nltk.ngrams(entries[0], n=3)), set(nltk.ngrams(a, n=3))), a) for a in c]\n",
    "l = []\n",
    "res = []\n",
    "for e in enumerate(entries):\n",
    "    for a in cs[e[0]]:\n",
    "        if str(a) != 'nan':\n",
    "            #print(e[1] + \" \" + a)\n",
    "            dist = nltk.jaccard_distance(set(nltk.ngrams(e[1], n=3)), set(nltk.ngrams(a, n=3)))\n",
    "            l.append([dist, a])\n",
    "    res.append(l)\n",
    "    l = []"
   ]
  },
  {
   "cell_type": "code",
   "execution_count": 99,
   "metadata": {
    "scrolled": true
   },
   "outputs": [
    {
     "data": {
      "text/plain": [
       "['corpulent', 'indecence', 'validate']"
      ]
     },
     "execution_count": 99,
     "metadata": {},
     "output_type": "execute_result"
    }
   ],
   "source": [
    "#sorted(res[2])[0][1]\n",
    "correct = []\n",
    "for x in np.arange(len(res)):\n",
    "    correct.append(sorted(res[x])[0][1])\n",
    "correct"
   ]
  },
  {
   "cell_type": "code",
   "execution_count": 100,
   "metadata": {},
   "outputs": [
    {
     "name": "stderr",
     "output_type": "stream",
     "text": [
      "/usr/local/Cellar/python3/3.6.4_1/Frameworks/Python.framework/Versions/3.6/lib/python3.6/site-packages/ipykernel_launcher.py:21: DeprecationWarning: generator 'ngrams' raised StopIteration\n"
     ]
    },
    {
     "data": {
      "text/plain": [
       "['corpulent', 'indecence', 'validate']"
      ]
     },
     "execution_count": 100,
     "metadata": {},
     "output_type": "execute_result"
    }
   ],
   "source": [
    "def answer_nine(entries=['cormulent', 'incendenece', 'validrate']):\n",
    "    import nltk\n",
    "    import numpy as np\n",
    "    import pandas as pd\n",
    "    ### Create DF for all the words beginning with 'c', 'i' and 'v'\n",
    "    cs = pd.DataFrame()\n",
    "    k = []\n",
    "    for e in enumerate(entries):\n",
    "        for i,g in enumerate(correct_spellings):\n",
    "            if g[0]==e[1][0]:\n",
    "                k.append(g)\n",
    "        cs[e[0]] = pd.Series(k)    \n",
    "        k=[]\n",
    "    ### Calculate the Jaccard Distance\n",
    "    l = []\n",
    "    res = []\n",
    "    for e in enumerate(entries):\n",
    "        for a in cs[e[0]]:\n",
    "            if str(a) != 'nan':\n",
    "                #print(e[1] + \" \" + a)\n",
    "                dist = nltk.jaccard_distance(set(nltk.ngrams(e[1], n=3)), set(nltk.ngrams(a, n=3)))\n",
    "                l.append([dist, a])\n",
    "        res.append(l)\n",
    "        l = []\n",
    "    ### Return the \"correct\" spelling\n",
    "    correct = []\n",
    "    for x in np.arange(len(res)):\n",
    "        correct.append(sorted(res[x])[0][1]) \n",
    "    return(correct)\n",
    "\n",
    "answer_nine()"
   ]
  },
  {
   "cell_type": "code",
   "execution_count": 102,
   "metadata": {},
   "outputs": [
    {
     "name": "stderr",
     "output_type": "stream",
     "text": [
      "/usr/local/Cellar/python3/3.6.4_1/Frameworks/Python.framework/Versions/3.6/lib/python3.6/site-packages/ipykernel_launcher.py:21: DeprecationWarning: generator 'ngrams' raised StopIteration\n"
     ]
    },
    {
     "data": {
      "text/plain": [
       "['cormus', 'incendiary', 'valid']"
      ]
     },
     "execution_count": 102,
     "metadata": {},
     "output_type": "execute_result"
    }
   ],
   "source": [
    "def answer_ten(entries=['cormulent', 'incendenece', 'validrate']):\n",
    "    import nltk\n",
    "    import numpy as np\n",
    "    import pandas as pd\n",
    "    ### Create DF for all the words beginning with 'c', 'i' and 'v'\n",
    "    cs = pd.DataFrame()\n",
    "    k = []\n",
    "    for e in enumerate(entries):\n",
    "        for i,g in enumerate(correct_spellings):\n",
    "            if g[0]==e[1][0]:\n",
    "                k.append(g)\n",
    "        cs[e[0]] = pd.Series(k)    \n",
    "        k=[]\n",
    "    ### Calculate the Jaccard Distance\n",
    "    l = []\n",
    "    res = []\n",
    "    for e in enumerate(entries):\n",
    "        for a in cs[e[0]]:\n",
    "            if str(a) != 'nan':\n",
    "                #print(e[1] + \" \" + a)\n",
    "                dist = nltk.jaccard_distance(set(nltk.ngrams(e[1], n=4)), set(nltk.ngrams(a, n=4)))\n",
    "                l.append([dist, a])\n",
    "        res.append(l)\n",
    "        l = []\n",
    "    ### Return the \"correct\" spelling\n",
    "    correct = []\n",
    "    for x in np.arange(len(res)):\n",
    "        correct.append(sorted(res[x])[0][1]) \n",
    "    return(correct)\n",
    "\n",
    "answer_ten()"
   ]
  },
  {
   "cell_type": "code",
   "execution_count": null,
   "metadata": {
    "collapsed": true
   },
   "outputs": [],
   "source": [
    "#nltk.edit_distance(entries[2], a)"
   ]
  },
  {
   "cell_type": "code",
   "execution_count": 104,
   "metadata": {},
   "outputs": [
    {
     "data": {
      "text/plain": [
       "['corpulent', 'intendence', 'validate']"
      ]
     },
     "execution_count": 104,
     "metadata": {},
     "output_type": "execute_result"
    }
   ],
   "source": [
    "def answer_eleven(entries=['cormulent', 'incendenece', 'validrate']):\n",
    "    import nltk\n",
    "    import numpy as np\n",
    "    import pandas as pd\n",
    "    ### Create DF for all the words beginning with 'c', 'i' and 'v'\n",
    "    cs = pd.DataFrame()\n",
    "    k = []\n",
    "    for e in enumerate(entries):\n",
    "        for i,g in enumerate(correct_spellings):\n",
    "            if g[0]==e[1][0]:\n",
    "                k.append(g)\n",
    "        cs[e[0]] = pd.Series(k)    \n",
    "        k=[]\n",
    "    ### Calculate the Jaccard Distance\n",
    "    l = []\n",
    "    res = []\n",
    "    for e in enumerate(entries):\n",
    "        for a in cs[e[0]]:\n",
    "            if str(a) != 'nan':\n",
    "                #dist = nltk.jaccard_distance(set(nltk.ngrams(e[1], n=4)), set(nltk.ngrams(a, n=4)))\n",
    "                dist = nltk.edit_distance(e[1], a)\n",
    "                l.append([dist, a])\n",
    "        res.append(l)\n",
    "        l = []\n",
    "    ### Return the \"correct\" spelling\n",
    "    correct = []\n",
    "    for x in np.arange(len(res)):\n",
    "        correct.append(sorted(res[x])[0][1]) \n",
    "    return(correct)\n",
    "\n",
    "answer_eleven()"
   ]
  }
 ],
 "metadata": {
  "kernelspec": {
   "display_name": "Python 3",
   "language": "python",
   "name": "python3"
  },
  "language_info": {
   "codemirror_mode": {
    "name": "ipython",
    "version": 3
   },
   "file_extension": ".py",
   "mimetype": "text/x-python",
   "name": "python",
   "nbconvert_exporter": "python",
   "pygments_lexer": "ipython3",
   "version": "3.6.4"
  }
 },
 "nbformat": 4,
 "nbformat_minor": 2
}
