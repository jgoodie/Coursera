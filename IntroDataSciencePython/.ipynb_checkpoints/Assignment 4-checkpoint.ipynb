{
 "cells": [
  {
   "cell_type": "markdown",
   "metadata": {},
   "source": [
    "---\n",
    "\n",
    "_You are currently looking at **version 1.1** of this notebook. To download notebooks and datafiles, as well as get help on Jupyter notebooks in the Coursera platform, visit the [Jupyter Notebook FAQ](https://www.coursera.org/learn/python-data-analysis/resources/0dhYG) course resource._\n",
    "\n",
    "---"
   ]
  },
  {
   "cell_type": "code",
   "execution_count": 1,
   "metadata": {
    "collapsed": true
   },
   "outputs": [],
   "source": [
    "import pandas as pd\n",
    "import numpy as np\n",
    "from scipy.stats import ttest_ind"
   ]
  },
  {
   "cell_type": "markdown",
   "metadata": {},
   "source": [
    "# Assignment 4 - Hypothesis Testing\n",
    "This assignment requires more individual learning than previous assignments - you are encouraged to check out the [pandas documentation](http://pandas.pydata.org/pandas-docs/stable/) to find functions or methods you might not have used yet, or ask questions on [Stack Overflow](http://stackoverflow.com/) and tag them as pandas and python related. And of course, the discussion forums are open for interaction with your peers and the course staff.\n",
    "\n",
    "Definitions:\n",
    "* A _quarter_ is a specific three month period, Q1 is January through March, Q2 is April through June, Q3 is July through September, Q4 is October through December.\n",
    "* A _recession_ is defined as starting with two consecutive quarters of GDP decline, and ending with two consecutive quarters of GDP growth.\n",
    "* A _recession bottom_ is the quarter within a recession which had the lowest GDP.\n",
    "* A _university town_ is a city which has a high percentage of university students compared to the total population of the city.\n",
    "\n",
    "**Hypothesis**: University towns have their mean housing prices less effected by recessions. Run a t-test to compare the ratio of the mean price of houses in university towns the quarter before the recession starts compared to the recession bottom. (`price_ratio=quarter_before_recession/recession_bottom`)\n",
    "\n",
    "The following data files are available for this assignment:\n",
    "* From the [Zillow research data site](http://www.zillow.com/research/data/) there is housing data for the United States. In particular the datafile for [all homes at a city level](http://files.zillowstatic.com/research/public/City/City_Zhvi_AllHomes.csv), ```City_Zhvi_AllHomes.csv```, has median home sale prices at a fine grained level.\n",
    "* From the Wikipedia page on college towns is a list of [university towns in the United States](https://en.wikipedia.org/wiki/List_of_college_towns#College_towns_in_the_United_States) which has been copy and pasted into the file ```university_towns.txt```.\n",
    "* From Bureau of Economic Analysis, US Department of Commerce, the [GDP over time](http://www.bea.gov/national/index.htm#gdp) of the United States in current dollars (use the chained value in 2009 dollars), in quarterly intervals, in the file ```gdplev.xls```. For this assignment, only look at GDP data from the first quarter of 2000 onward.\n",
    "\n",
    "Each function in this assignment below is worth 10%, with the exception of ```run_ttest()```, which is worth 50%."
   ]
  },
  {
   "cell_type": "code",
   "execution_count": 2,
   "metadata": {
    "collapsed": true
   },
   "outputs": [],
   "source": [
    "# Use this dictionary to map state names to two letter acronyms\n",
    "states = {'OH': 'Ohio', 'KY': 'Kentucky', 'AS': 'American Samoa', 'NV': 'Nevada', 'WY': 'Wyoming', 'NA': 'National', 'AL': 'Alabama', 'MD': 'Maryland', 'AK': 'Alaska', 'UT': 'Utah', 'OR': 'Oregon', 'MT': 'Montana', 'IL': 'Illinois', 'TN': 'Tennessee', 'DC': 'District of Columbia', 'VT': 'Vermont', 'ID': 'Idaho', 'AR': 'Arkansas', 'ME': 'Maine', 'WA': 'Washington', 'HI': 'Hawaii', 'WI': 'Wisconsin', 'MI': 'Michigan', 'IN': 'Indiana', 'NJ': 'New Jersey', 'AZ': 'Arizona', 'GU': 'Guam', 'MS': 'Mississippi', 'PR': 'Puerto Rico', 'NC': 'North Carolina', 'TX': 'Texas', 'SD': 'South Dakota', 'MP': 'Northern Mariana Islands', 'IA': 'Iowa', 'MO': 'Missouri', 'CT': 'Connecticut', 'WV': 'West Virginia', 'SC': 'South Carolina', 'LA': 'Louisiana', 'KS': 'Kansas', 'NY': 'New York', 'NE': 'Nebraska', 'OK': 'Oklahoma', 'FL': 'Florida', 'CA': 'California', 'CO': 'Colorado', 'PA': 'Pennsylvania', 'DE': 'Delaware', 'NM': 'New Mexico', 'RI': 'Rhode Island', 'MN': 'Minnesota', 'VI': 'Virgin Islands', 'NH': 'New Hampshire', 'MA': 'Massachusetts', 'GA': 'Georgia', 'ND': 'North Dakota', 'VA': 'Virginia'}\n"
   ]
  },
  {
   "cell_type": "code",
   "execution_count": 3,
   "metadata": {
    "collapsed": true
   },
   "outputs": [],
   "source": [
    "def get_list_of_university_towns():\n",
    "    '''Returns a DataFrame of towns and the states they are in from the \n",
    "    university_towns.txt list. The format of the DataFrame should be:\n",
    "    DataFrame( [ [\"Michigan\", \"Ann Arbor\"], [\"Michigan\", \"Yipsilanti\"] ], \n",
    "    columns=[\"State\", \"RegionName\"]  )\n",
    "    \n",
    "    The following cleaning needs to be done:\n",
    "\n",
    "    1. For \"State\", removing characters from \"[\" to the end.\n",
    "    2. For \"RegionName\", when applicable, removing every character from \" (\" to the end.\n",
    "    3. Depending on how you read the data, you may need to remove newline character '\\n'. '''\n",
    "    states = {'OH': 'Ohio', 'KY': 'Kentucky', 'AS': 'American Samoa', 'NV': 'Nevada', 'WY': 'Wyoming', \n",
    "              'NA': 'National', 'AL': 'Alabama', 'MD': 'Maryland', 'AK': 'Alaska', 'UT': 'Utah', \n",
    "              'OR': 'Oregon', 'MT': 'Montana', 'IL': 'Illinois', 'TN': 'Tennessee', 'DC': 'District of Columbia', \n",
    "              'VT': 'Vermont', 'ID': 'Idaho', 'AR': 'Arkansas', 'ME': 'Maine', 'WA': 'Washington', \n",
    "              'HI': 'Hawaii', 'WI': 'Wisconsin', 'MI': 'Michigan', 'IN': 'Indiana', 'NJ': 'New Jersey', \n",
    "              'AZ': 'Arizona', 'GU': 'Guam', 'MS': 'Mississippi', 'PR': 'Puerto Rico', 'NC': 'North Carolina', \n",
    "              'TX': 'Texas', 'SD': 'South Dakota', 'MP': 'Northern Mariana Islands', 'IA': 'Iowa', \n",
    "              'MO': 'Missouri', 'CT': 'Connecticut', 'WV': 'West Virginia', 'SC': 'South Carolina', \n",
    "              'LA': 'Louisiana', 'KS': 'Kansas', 'NY': 'New York', 'NE': 'Nebraska', 'OK': 'Oklahoma', \n",
    "              'FL': 'Florida', 'CA': 'California', 'CO': 'Colorado', 'PA': 'Pennsylvania', 'DE': 'Delaware', \n",
    "              'NM': 'New Mexico', 'RI': 'Rhode Island', 'MN': 'Minnesota', 'VI': 'Virgin Islands', \n",
    "              'NH': 'New Hampshire', 'MA': 'Massachusetts', 'GA': 'Georgia', 'ND': 'North Dakota', 'VA': 'Virginia'}\n",
    "    with open('university_towns.txt') as f:\n",
    "        content = f.readlines()\n",
    "    content = [x.strip() for x in content] \n",
    "    s = None\n",
    "    t = []\n",
    "    for i in content:\n",
    "        line = i.replace(\"[edit]\",\"\")\n",
    "        if line in list(states.values()):\n",
    "            s = line\n",
    "        else:\n",
    "            #print(s + \" ---> \" + line.split()[0])\n",
    "            t.append((s,line.split('(')[0].strip()))\n",
    "    utowns = pd.DataFrame(t,columns=[\"State\", \"RegionName\"])\n",
    "    return(utowns)"
   ]
  },
  {
   "cell_type": "code",
   "execution_count": 4,
   "metadata": {
    "collapsed": true
   },
   "outputs": [],
   "source": [
    "def get_recession_start():\n",
    "    #'2008q3'\n",
    "    '''Returns the year and quarter of the recession start time as a \n",
    "    string value in a format such as 2005q3'''\n",
    "    GDP = pd.read_excel('gdplev.xls',skiprows=5)\n",
    "    GDP.drop([0,1],inplace=True)\n",
    "    GDP.drop(['Unnamed: 0', 'Unnamed: 3','GDP in billions of current dollars',\n",
    "              'GDP in billions of chained 2009 dollars','GDP in billions of current dollars.1',\n",
    "              'Unnamed: 7'], axis=1, inplace=True)\n",
    "    GDP.rename(columns={'Unnamed: 4': 'Quarter', 'GDP in billions of chained 2009 dollars.1':'GDP'}, inplace=True)\n",
    "    GDP = GDP.iloc[212:]\n",
    "    GDP['GDP'] = pd.to_numeric(GDP['GDP'])\n",
    "    rstart = []\n",
    "    for i in range(len(GDP) - 2):\n",
    "        # recession is defined as starting with two consecutive quarters\n",
    "        if (GDP.iloc[i][1] > GDP.iloc[i+1][1]) & (GDP.iloc[i+1][1] > GDP.iloc[i+2][1]):\n",
    "            rstart.append(GDP.iloc[i][0])\n",
    "    return(rstart[1])"
   ]
  },
  {
   "cell_type": "code",
   "execution_count": 5,
   "metadata": {},
   "outputs": [],
   "source": [
    "def get_recession_end():\n",
    "    '''Returns the year and quarter of the recession end time as a \n",
    "    string value in a format such as 2005q3'''\n",
    "    # '2009q4'\n",
    "    GDP = pd.read_excel('gdplev.xls',skiprows=5)\n",
    "    GDP.drop([0,1],inplace=True)\n",
    "    GDP.drop(['Unnamed: 0', 'Unnamed: 3','GDP in billions of current dollars',\n",
    "              'GDP in billions of chained 2009 dollars','GDP in billions of current dollars.1',\n",
    "              'Unnamed: 7'], axis=1, inplace=True)\n",
    "    GDP.rename(columns={'Unnamed: 4': 'Quarter', 'GDP in billions of chained 2009 dollars.1':'GDP'}, inplace=True)\n",
    "    GDP = GDP.iloc[212:]\n",
    "    GDP['GDP'] = pd.to_numeric(GDP['GDP'])\n",
    "    rstart = get_recession_start()\n",
    "    GDP = GDP[GDP['Quarter'] >=rstart]\n",
    "    rend = []\n",
    "    for j in range(len(GDP)-2):\n",
    "        if (GDP.iloc[j][1] < GDP.iloc[j+1][1]) & (GDP.iloc[j+1][1] < GDP.iloc[j+2][1]):\n",
    "            rend.append(GDP.iloc[j][0])\n",
    "    return(rend[2])"
   ]
  },
  {
   "cell_type": "code",
   "execution_count": 37,
   "metadata": {
    "collapsed": true
   },
   "outputs": [],
   "source": [
    "def get_recession_bottom():\n",
    "    '''Returns the year and quarter of the recession bottom time as a \n",
    "    string value in a format such as 2005q3'''\n",
    "    #'2009q2'\n",
    "    start = get_recession_start()\n",
    "    end = get_recession_end()\n",
    "    GDP = pd.read_excel('gdplev.xls',skiprows=5)\n",
    "    GDP.drop([0,1],inplace=True)\n",
    "    GDP.drop(['Unnamed: 0', 'Unnamed: 3','GDP in billions of current dollars',\n",
    "              'GDP in billions of chained 2009 dollars','GDP in billions of current dollars.1',\n",
    "              'Unnamed: 7'], axis=1, inplace=True)\n",
    "    GDP.rename(columns={'Unnamed: 4': 'Quarter', 'GDP in billions of chained 2009 dollars.1':'GDP'}, inplace=True)\n",
    "    GDP = GDP.iloc[212:]\n",
    "    GDP['GDP'] = pd.to_numeric(GDP['GDP'])\n",
    "    rstart = get_recession_start()\n",
    "    GDP = GDP[GDP['Quarter'] >= rstart]\n",
    "    GDP = GDP[GDP['Quarter'] <= get_recession_end()]\n",
    "    rbottom = GDP[GDP['GDP']==GDP['GDP'].min()]['Quarter']\n",
    "    return(rbottom.values[0])"
   ]
  },
  {
   "cell_type": "code",
   "execution_count": 113,
   "metadata": {},
   "outputs": [],
   "source": [
    "housing = pd.read_csv('City_Zhvi_AllHomes.csv')\n",
    "housing['State'] = housing['State'].map(states)\n",
    "housing.set_index(keys=['State','RegionName'], inplace=True)\n",
    "#housing.drop(['Metro','CountyName','RegionID','SizeRank'],axis=1,inplace=True)\n",
    "#housing = select the columns 2000-01-2016-08 from the data-frame housing\n",
    "housing.drop(housing.columns[0:49], axis=1, inplace=True)\n",
    "# df['col'] = pd.to_datetime(df['col'])\n",
    "col = list(housing.columns)\n",
    "d = {}\n",
    "for i in col:\n",
    "    d[i] = pd.to_datetime(i)\n",
    "housing.rename(columns=d, inplace=True)\n",
    "housing = housing.resample('Q',axis=1).mean()\n",
    "housing = housing.rename(columns=lambda x: str(x.to_period('Q')).lower())"
   ]
  },
  {
   "cell_type": "code",
   "execution_count": 115,
   "metadata": {
    "collapsed": true
   },
   "outputs": [],
   "source": [
    "def convert_housing_data_to_quarters():\n",
    "    '''Converts the housing data to quarters and returns it as mean \n",
    "    values in a dataframe. This dataframe should be a dataframe with\n",
    "    columns for 2000q1 through 2016q3, and should have a multi-index\n",
    "    in the shape of [\"State\",\"RegionName\"].\n",
    "    \n",
    "    Note: Quarters are defined in the assignment description, they are\n",
    "    not arbitrary three month periods.\n",
    "    \n",
    "    The resulting dataframe should have 67 columns, and 10,730 rows.\n",
    "    '''\n",
    "    housing = pd.read_csv('City_Zhvi_AllHomes.csv')\n",
    "    housing['State'] = housing['State'].map(states)\n",
    "    housing.set_index(keys=['State','RegionName'], inplace=True)\n",
    "    housing.drop(housing.columns[0:49], axis=1, inplace=True)\n",
    "    col = list(housing.columns)\n",
    "    d = {}\n",
    "    for i in col:\n",
    "        d[i] = pd.to_datetime(i)\n",
    "    housing.rename(columns=d, inplace=True)\n",
    "    housing = housing.resample('Q',axis=1).mean()\n",
    "    housing = housing.rename(columns=lambda x: str(x.to_period('Q')).lower())\n",
    "    return(housing)"
   ]
  },
  {
   "cell_type": "code",
   "execution_count": 185,
   "metadata": {
    "collapsed": true
   },
   "outputs": [],
   "source": [
    "def run_ttest():\n",
    "    '''First creates new data showing the decline or growth of housing prices\n",
    "    between the recession start and the recession bottom. \n",
    "    \n",
    "    Then runs a ttest\n",
    "    comparing the university town values to the non-university towns values, \n",
    "    return whether the alternative hypothesis (that the two groups are the same)\n",
    "    is true or not as well as the p-value of the confidence. \n",
    "    \n",
    "    Return the tuple (different, p, better) where different=True if the t-test is\n",
    "    True at a p<0.01 (we reject the null hypothesis), or different=False if \n",
    "    otherwise (we cannot reject the null hypothesis). The variable p should\n",
    "    be equal to the exact p value returned from scipy.stats.ttest_ind(). The\n",
    "    value for better should be either \"university town\" or \"non-university town\"\n",
    "    depending on which has a lower mean price ratio (which is equivilent to a\n",
    "    reduced market loss).'''\n",
    "    data = convert_housing_data_to_quarters().copy()\n",
    "    data = data.loc[:,'2008q3':'2009q2']\n",
    "    data['price ratio'] = (data['2008q3'] - data['2009q2'])/data['2008q3'] \n",
    "    uni_town = get_list_of_university_towns()['RegionName']\n",
    "    uni_town = list(uni_town)\n",
    "    data.reset_index(inplace=True)\n",
    "    data['unitown'] = data['RegionName'].apply(lambda x: 1 if x in uni_town else 0)\n",
    "    is_uni = data[data['unitown'] == 1].dropna()\n",
    "    not_uni = data[data['unitown'] == 0].dropna()\n",
    "    ttest_result = ttest_ind(not_uni['price ratio'], is_uni['price ratio'])\n",
    "    if ttest_result[1] < 0.01:\n",
    "        return(True, ttest_result[1], 'university town')\n",
    "    else:\n",
    "        return(False, ttest_result[1], 'non-university town')\n"
   ]
  },
  {
   "cell_type": "code",
   "execution_count": 186,
   "metadata": {},
   "outputs": [
    {
     "data": {
      "text/plain": [
       "(True, 0.0003664160159552697, 'university town')"
      ]
     },
     "execution_count": 186,
     "metadata": {},
     "output_type": "execute_result"
    }
   ],
   "source": [
    "run_ttest()"
   ]
  },
  {
   "cell_type": "code",
   "execution_count": 158,
   "metadata": {
    "collapsed": true
   },
   "outputs": [],
   "source": []
  }
 ],
 "metadata": {
  "coursera": {
   "course_slug": "python-data-analysis",
   "graded_item_id": "Il9Fx",
   "launcher_item_id": "TeDW0",
   "part_id": "WGlun"
  },
  "kernelspec": {
   "display_name": "Python 3",
   "language": "python",
   "name": "python3"
  },
  "language_info": {
   "codemirror_mode": {
    "name": "ipython",
    "version": 3
   },
   "file_extension": ".py",
   "mimetype": "text/x-python",
   "name": "python",
   "nbconvert_exporter": "python",
   "pygments_lexer": "ipython3",
   "version": "3.6.4"
  }
 },
 "nbformat": 4,
 "nbformat_minor": 1
}
