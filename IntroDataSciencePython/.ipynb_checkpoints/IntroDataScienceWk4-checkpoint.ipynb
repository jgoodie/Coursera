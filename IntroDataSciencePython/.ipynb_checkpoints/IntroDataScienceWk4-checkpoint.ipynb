{
 "cells": [
  {
   "cell_type": "code",
   "execution_count": 141,
   "metadata": {
    "collapsed": true
   },
   "outputs": [],
   "source": [
    "import numpy as np\n",
    "import pandas as pd\n",
    "import scipy.stats as stats\n",
    "import matplotlib.pyplot as plt\n",
    "%matplotlib inline"
   ]
  },
  {
   "cell_type": "code",
   "execution_count": 23,
   "metadata": {},
   "outputs": [
    {
     "data": {
      "text/plain": [
       "array([1, 1, 1, 1, 1, 0, 0, 0, 1, 1, 1, 1, 0, 1, 1, 1, 1, 0, 1, 1, 1, 0,\n",
       "       0, 1, 1, 0, 0, 0, 0, 1, 0, 1, 0, 0, 0, 1, 1, 1, 0, 1, 0, 1, 0, 1,\n",
       "       1, 0, 1, 0, 0, 0, 1, 0, 1, 1, 1, 0, 1, 1, 0, 0, 1, 0, 1, 0, 1, 1,\n",
       "       0, 0, 0, 0, 1, 1, 1, 0, 0, 0, 1, 0, 1, 0, 0, 1, 0, 1, 1, 1, 0, 1,\n",
       "       1, 0, 1, 0, 1, 0, 1, 0, 0, 0, 1, 0])"
      ]
     },
     "execution_count": 23,
     "metadata": {},
     "output_type": "execute_result"
    }
   ],
   "source": [
    "# coin flip assuming a fair coin\n",
    "# flip 100 times\n",
    "np.random.binomial(1,0.5,size=100)"
   ]
  },
  {
   "cell_type": "code",
   "execution_count": 28,
   "metadata": {},
   "outputs": [
    {
     "data": {
      "text/plain": [
       "49.2"
      ]
     },
     "execution_count": 28,
     "metadata": {},
     "output_type": "execute_result"
    }
   ],
   "source": [
    "np.random.binomial(1000,0.5)/1000 * 100"
   ]
  },
  {
   "cell_type": "code",
   "execution_count": 32,
   "metadata": {},
   "outputs": [
    {
     "data": {
      "text/plain": [
       "0.02"
      ]
     },
     "execution_count": 32,
     "metadata": {},
     "output_type": "execute_result"
    }
   ],
   "source": [
    "# Your Solution Here\n",
    "flips = np.random.binomial(20, 0.5, size=10000)\n",
    "len(flips[flips >= 15])/10000.0"
   ]
  },
  {
   "cell_type": "code",
   "execution_count": 36,
   "metadata": {},
   "outputs": [
    {
     "data": {
      "text/plain": [
       "0.02"
      ]
     },
     "execution_count": 36,
     "metadata": {},
     "output_type": "execute_result"
    }
   ],
   "source": [
    "f = np.random.binomial(20, .5, 10000)\n",
    "(x>=15).mean()"
   ]
  },
  {
   "cell_type": "code",
   "execution_count": 33,
   "metadata": {},
   "outputs": [
    {
     "name": "stdout",
     "output_type": "stream",
     "text": [
      "0.02\n"
     ]
    }
   ],
   "source": [
    "x = np.random.binomial(20, .5, 10000)\n",
    "print((x>=15).mean())\n",
    "\n",
    "# Your Solution Here\n",
    "#flips = np.random.binomial(20, 0.5, size=10000)\n",
    "#len(flips[flips >= 15])/10000.0"
   ]
  },
  {
   "cell_type": "code",
   "execution_count": 64,
   "metadata": {},
   "outputs": [
    {
     "data": {
      "text/plain": [
       "5"
      ]
     },
     "execution_count": 64,
     "metadata": {},
     "output_type": "execute_result"
    }
   ],
   "source": [
    "chance_of_tornado = 0.01/100\n",
    "np.random.binomial(100000, chance_of_tornado)\n"
   ]
  },
  {
   "cell_type": "code",
   "execution_count": 87,
   "metadata": {},
   "outputs": [
    {
     "name": "stdout",
     "output_type": "stream",
     "text": [
      "97 tornados back to back in years 2739.72602739726\n"
     ]
    }
   ],
   "source": [
    "chance_of_tornado = 0.01\n",
    "tornado_events = np.random.binomial(1, chance_of_tornado, 1000000)\n",
    "two_days_in_a_row=0\n",
    "for i in range(1, len(tornado_events)-1):\n",
    "    if tornado_events[i] == 1 and tornado_events[i-1] == 1:\n",
    "        two_days_in_a_row += 1\n",
    "print('{} tornados back to back in years {}'.format(two_days_in_a_row, 1000000/365))"
   ]
  },
  {
   "cell_type": "code",
   "execution_count": 90,
   "metadata": {},
   "outputs": [
    {
     "data": {
      "text/plain": [
       "array([0.1839103 , 0.92124862, 0.88483953, 0.63945202, 0.55702458,\n",
       "       0.4941612 , 0.2580976 , 0.28087152, 0.15489388, 0.83842898,\n",
       "       0.1636043 , 0.39661779, 0.71209984, 0.79365563, 0.84468915,\n",
       "       0.25822473, 0.70287675, 0.54019485, 0.01795041, 0.57583776,\n",
       "       0.71675574, 0.00362524, 0.34316039, 0.56917313, 0.86795616,\n",
       "       0.3156487 , 0.6563524 , 0.96271154, 0.85759799, 0.08690432,\n",
       "       0.17848091, 0.24855518, 0.82005637, 0.0434115 , 0.85993883,\n",
       "       0.35356391, 0.07427279, 0.60249084, 0.87196704, 0.4195504 ,\n",
       "       0.08347903, 0.70588612, 0.37706574, 0.22002148, 0.22499522,\n",
       "       0.10265691, 0.27891645, 0.96332787, 0.4047927 , 0.78674852,\n",
       "       0.03610814, 0.54185904, 0.57554338, 0.02367761, 0.33343426,\n",
       "       0.48100032, 0.80673776, 0.20589035, 0.82946697, 0.30571093,\n",
       "       0.79616728, 0.02543322, 0.38303768, 0.64284798, 0.64487454,\n",
       "       0.11267999, 0.73655273, 0.06373982, 0.74540485, 0.04732684,\n",
       "       0.87646214, 0.9110854 , 0.0777463 , 0.71825156, 0.19758366,\n",
       "       0.93313406, 0.34502491, 0.20215313, 0.47388354, 0.04284564,\n",
       "       0.15112805, 0.09236788, 0.15776551, 0.41840264, 0.4360898 ,\n",
       "       0.19364484, 0.39905951, 0.25168529, 0.32300062, 0.55097756,\n",
       "       0.07284797, 0.71449175, 0.53243601, 0.74052076, 0.8013878 ,\n",
       "       0.32318495, 0.33565367, 0.07255682, 0.93595293, 0.91853462])"
      ]
     },
     "execution_count": 90,
     "metadata": {},
     "output_type": "execute_result"
    }
   ],
   "source": [
    "np.random.uniform(0,1,size=100)"
   ]
  },
  {
   "cell_type": "code",
   "execution_count": 98,
   "metadata": {},
   "outputs": [
    {
     "data": {
      "text/plain": [
       "array([ 0.02457297,  0.04217883, -0.51742537,  0.19340082, -0.06472667,\n",
       "        2.53889857, -0.69092809, -0.75216042,  0.20701825, -1.27318304,\n",
       "        1.27977345, -1.17539468, -0.03100016,  1.74928616, -0.92532762,\n",
       "        1.43457657, -1.34240636, -0.21080854, -1.1368777 ,  0.37592452,\n",
       "        0.99958313, -0.34015969, -0.90986348, -1.31487602,  0.7969624 ,\n",
       "       -0.70014372,  2.8648703 , -0.33836686, -1.74751826, -0.31093154,\n",
       "        0.58834369, -0.119618  ,  0.70433975, -0.44213648,  0.19323324,\n",
       "       -1.44412842, -0.26613154, -0.46177429, -0.34607191, -0.09872271,\n",
       "        0.18878779, -0.10542017,  0.98665409, -1.13038843,  0.96943047,\n",
       "        0.35880437, -1.89773763, -0.80662091,  0.90381942,  0.37678417,\n",
       "        1.01789097, -0.05966276, -1.22745329,  0.48490018,  0.47128183,\n",
       "        0.22407667,  0.52338083, -0.03607221, -0.69811242, -1.29361183,\n",
       "        0.5093759 ,  0.70235277,  0.73899604,  0.23334656, -0.00526332,\n",
       "        0.34576984,  1.95269501,  1.04993222,  0.6552368 ,  1.41303957,\n",
       "        0.323799  , -1.04720364,  0.19259444,  0.99404569, -0.68069319,\n",
       "        0.50014035, -0.05800946, -0.29356928,  1.11990306, -1.19114023,\n",
       "       -0.38699883,  0.11380149, -0.18725906, -2.22272264, -1.1874214 ,\n",
       "        0.98956243,  0.22898216, -1.50266099, -2.30512085,  0.78510017,\n",
       "        1.04837312,  1.29143727,  0.56338082, -0.38422295,  0.77230705,\n",
       "        0.87818819, -0.25285266, -0.52082093,  0.16482289,  1.21647102])"
      ]
     },
     "execution_count": 98,
     "metadata": {},
     "output_type": "execute_result"
    }
   ],
   "source": [
    "np.random.normal(size=100)"
   ]
  },
  {
   "cell_type": "code",
   "execution_count": 99,
   "metadata": {},
   "outputs": [
    {
     "data": {
      "text/plain": [
       "array([ 0.97963641,  0.66117093,  2.16389017,  0.01469683, -0.23051343,\n",
       "        1.21229493,  1.32278638,  1.72155   ,  0.24370566, -0.0705381 ,\n",
       "        0.73426113, -0.45636289,  1.15130212,  1.35103224,  0.15868273,\n",
       "        0.59650211,  0.30399499,  0.19044974,  1.49559204,  2.00973034,\n",
       "        1.95340887,  1.23349786, -0.10945278,  0.38742138,  0.99373534,\n",
       "       -1.36843429,  0.02753668,  0.94851198,  0.82553869,  0.46699247,\n",
       "        1.18626863, -1.0092739 ,  0.64027857,  1.02558922,  0.43347522,\n",
       "       -0.16786924,  1.9912723 , -0.65990445,  0.57923436,  2.56633017,\n",
       "        1.57094533, -0.49183313, -0.57485424, -0.67923922,  1.80547847,\n",
       "        0.05482619,  0.77368666,  1.79498977, -1.15882271,  0.11374273,\n",
       "        1.47954753,  0.21379157,  0.24673725,  0.18226753,  0.98854327,\n",
       "       -1.03873756,  1.37580063,  0.45096941,  1.05978257,  0.24760565,\n",
       "        1.5264835 ,  0.53190451,  1.06071916, -0.80032712,  0.92696535,\n",
       "        1.69135596,  1.1340461 , -0.09271874,  0.72016356,  1.04581835,\n",
       "        1.01562148,  0.26290054, -0.09334038,  0.05351174,  0.56792097,\n",
       "        1.76989926,  0.15932378,  0.9332476 ,  2.34539794, -0.89623926,\n",
       "        3.26816923,  0.01002839, -0.5239215 ,  1.17560896,  2.22868004,\n",
       "       -0.02210537, -0.02246943,  2.79950295,  1.39930522,  0.93639661,\n",
       "        0.80895916,  1.12081676,  0.58697062, -0.37418046,  2.06358083,\n",
       "       -0.59598671,  1.5675077 , -0.48614141, -0.82040467,  1.69270554])"
      ]
     },
     "execution_count": 99,
     "metadata": {},
     "output_type": "execute_result"
    }
   ],
   "source": [
    "np.random.normal(0.75,size=100)"
   ]
  },
  {
   "cell_type": "code",
   "execution_count": 105,
   "metadata": {},
   "outputs": [],
   "source": [
    "#np.random.normal(0, 1, size=660)\n",
    "#x = np.random.normal(0, 1, size=660)\n",
    "#x = (x - x.mean()) / x.std()\n",
    "#x"
   ]
  },
  {
   "cell_type": "code",
   "execution_count": 127,
   "metadata": {},
   "outputs": [
    {
     "data": {
      "text/plain": [
       "1.0270503916958587"
      ]
     },
     "execution_count": 127,
     "metadata": {},
     "output_type": "execute_result"
    }
   ],
   "source": [
    "distribution = np.random.normal(0.75, size=1000)\n",
    "np.sqrt(np.sum((np.mean(distribution)-distribution)**2)/len(distribution))"
   ]
  },
  {
   "cell_type": "code",
   "execution_count": 118,
   "metadata": {},
   "outputs": [
    {
     "data": {
      "text/plain": [
       "1.0234891331421576"
      ]
     },
     "execution_count": 118,
     "metadata": {},
     "output_type": "execute_result"
    }
   ],
   "source": [
    "distribution.std()"
   ]
  },
  {
   "cell_type": "code",
   "execution_count": 119,
   "metadata": {},
   "outputs": [
    {
     "data": {
      "text/plain": [
       "0.7646716428388742"
      ]
     },
     "execution_count": 119,
     "metadata": {},
     "output_type": "execute_result"
    }
   ],
   "source": [
    "distribution.mean() # note this is roughly 0.75 in the initial instantiation of the distribution"
   ]
  },
  {
   "cell_type": "code",
   "execution_count": 120,
   "metadata": {},
   "outputs": [
    {
     "data": {
      "text/plain": [
       "1.0234891331421576"
      ]
     },
     "execution_count": 120,
     "metadata": {},
     "output_type": "execute_result"
    }
   ],
   "source": [
    "np.std(distribution)"
   ]
  },
  {
   "cell_type": "code",
   "execution_count": 121,
   "metadata": {},
   "outputs": [
    {
     "data": {
      "text/plain": [
       "0.7646716428388742"
      ]
     },
     "execution_count": 121,
     "metadata": {},
     "output_type": "execute_result"
    }
   ],
   "source": [
    "np.mean(distribution)"
   ]
  },
  {
   "cell_type": "code",
   "execution_count": 124,
   "metadata": {
    "collapsed": true
   },
   "outputs": [],
   "source": [
    "# Shape of the tails of the distributions: Kurtosis\n",
    "# negative values means the dist is more flat \n",
    "# positive values means the dist is more sharp or peaky\n",
    "import scipy.stats as stats"
   ]
  },
  {
   "cell_type": "code",
   "execution_count": 128,
   "metadata": {},
   "outputs": [
    {
     "data": {
      "text/plain": [
       "0.16575601483491775"
      ]
     },
     "execution_count": 128,
     "metadata": {},
     "output_type": "execute_result"
    }
   ],
   "source": [
    "stats.kurtosis(distribution)"
   ]
  },
  {
   "cell_type": "code",
   "execution_count": 129,
   "metadata": {},
   "outputs": [
    {
     "data": {
      "text/plain": [
       "0.10326070367117357"
      ]
     },
     "execution_count": 129,
     "metadata": {},
     "output_type": "execute_result"
    }
   ],
   "source": [
    "# Test the skew of the dist\n",
    "stats.skew(distribution)"
   ]
  },
  {
   "cell_type": "code",
   "execution_count": 137,
   "metadata": {},
   "outputs": [
    {
     "data": {
      "text/plain": [
       "2.4071557131598915"
      ]
     },
     "execution_count": 137,
     "metadata": {},
     "output_type": "execute_result"
    }
   ],
   "source": [
    "chi_df2 = np.random.chisquare(df=2, size=1000)\n",
    "stats.skew(chi_df2)"
   ]
  },
  {
   "cell_type": "code",
   "execution_count": 138,
   "metadata": {},
   "outputs": [
    {
     "data": {
      "text/plain": [
       "1.4767892176395347"
      ]
     },
     "execution_count": 138,
     "metadata": {},
     "output_type": "execute_result"
    }
   ],
   "source": [
    "chi_df4 = np.random.chisquare(df=4, size=1000)\n",
    "stats.skew(chi_df4)"
   ]
  },
  {
   "cell_type": "code",
   "execution_count": 139,
   "metadata": {},
   "outputs": [
    {
     "data": {
      "text/plain": [
       "1.1077879961700607"
      ]
     },
     "execution_count": 139,
     "metadata": {},
     "output_type": "execute_result"
    }
   ],
   "source": [
    "chi_df6 = np.random.chisquare(df=6, size=1000)\n",
    "stats.skew(chi_df6)"
   ]
  },
  {
   "cell_type": "code",
   "execution_count": 151,
   "metadata": {},
   "outputs": [
    {
     "data": {
      "image/png": "[encoded data removed]",
      "text/plain": [
       "<matplotlib.figure.Figure at 0x10a663630>"
      ]
     },
     "metadata": {},
     "output_type": "display_data"
    }
   ],
   "source": [
    "out = plt.hist([chi_df2, chi_df4, chi_df6], bins=50, histtype='step',label=['2 deg freedom', '4 deg freedom', '6 deg freedom'])\n",
    "plt.legend(loc='upper right');\n"
   ]
  },
  {
   "cell_type": "code",
   "execution_count": null,
   "metadata": {
    "collapsed": true
   },
   "outputs": [],
   "source": [
    "# modality\n",
    "# Gaussian Mixture Models\n"
   ]
  },
  {
   "cell_type": "code",
   "execution_count": 152,
   "metadata": {
    "collapsed": true
   },
   "outputs": [],
   "source": [
    "# A/B testing\n",
    "# Hypothesis testing\n",
    "df = pd.read_csv('grades.csv')"
   ]
  },
  {
   "cell_type": "code",
   "execution_count": 154,
   "metadata": {},
   "outputs": [],
   "source": [
    "early = df[df['assignment1_submission'] <= '2015-12-31']\n",
    "late = df[df['assignment1_submission'] > '2015-12-31']"
   ]
  },
  {
   "cell_type": "code",
   "execution_count": 155,
   "metadata": {},
   "outputs": [
    {
     "data": {
      "text/plain": [
       "assignment1_grade    74.972741\n",
       "assignment2_grade    67.252190\n",
       "assignment3_grade    61.129050\n",
       "assignment4_grade    54.157620\n",
       "assignment5_grade    48.634643\n",
       "assignment6_grade    43.838980\n",
       "dtype: float64"
      ]
     },
     "execution_count": 155,
     "metadata": {},
     "output_type": "execute_result"
    }
   ],
   "source": [
    "np.mean(early)"
   ]
  },
  {
   "cell_type": "code",
   "execution_count": 156,
   "metadata": {},
   "outputs": [
    {
     "data": {
      "text/plain": [
       "assignment1_grade    74.017429\n",
       "assignment2_grade    66.370822\n",
       "assignment3_grade    60.023244\n",
       "assignment4_grade    54.058138\n",
       "assignment5_grade    48.599402\n",
       "assignment6_grade    43.844384\n",
       "dtype: float64"
      ]
     },
     "execution_count": 156,
     "metadata": {},
     "output_type": "execute_result"
    }
   ],
   "source": [
    "np.mean(late)"
   ]
  },
  {
   "cell_type": "code",
   "execution_count": 158,
   "metadata": {},
   "outputs": [
    {
     "data": {
      "text/plain": [
       "Ttest_indResult(statistic=1.400549944897566, pvalue=0.16148283016060577)"
      ]
     },
     "execution_count": 158,
     "metadata": {},
     "output_type": "execute_result"
    }
   ],
   "source": [
    "import scipy.stats as stats\n",
    "# alpha at 0.05 with Bonferroni alpha would be 0.05/6 to avoid p-hacking or dredging\n",
    "# Bonferroni: aplha/number of tests is alpha for each test\n",
    "# other fixes would be hold out testing like done in Machine Learning\n",
    "# finally we could use Investigation pre-registration with a 3rd party like a journal \n",
    "# outline the tests you want to do and what constitue a positive proof\n",
    "# then 3rd party would validitate that the test is reasonable or not.\n",
    "# you run the test and report regardless of the results\n",
    "stats.ttest_ind(early['assignment1_grade'], late['assignment1_grade'])"
   ]
  },
  {
   "cell_type": "code",
   "execution_count": 159,
   "metadata": {},
   "outputs": [
    {
     "data": {
      "text/plain": [
       "Ttest_indResult(statistic=1.3239868220912567, pvalue=0.18563824610067967)"
      ]
     },
     "execution_count": 159,
     "metadata": {},
     "output_type": "execute_result"
    }
   ],
   "source": [
    "stats.ttest_ind(early['assignment2_grade'], late['assignment2_grade'])"
   ]
  },
  {
   "cell_type": "code",
   "execution_count": 160,
   "metadata": {},
   "outputs": [
    {
     "data": {
      "text/plain": [
       "Ttest_indResult(statistic=1.7116160037010733, pvalue=0.08710151634155668)"
      ]
     },
     "execution_count": 160,
     "metadata": {},
     "output_type": "execute_result"
    }
   ],
   "source": [
    "stats.ttest_ind(early['assignment3_grade'], late['assignment3_grade'])"
   ]
  },
  {
   "cell_type": "code",
   "execution_count": 161,
   "metadata": {},
   "outputs": [
    {
     "data": {
      "text/plain": [
       "Ttest_indResult(statistic=0.16232182017140787, pvalue=0.8710666110447575)"
      ]
     },
     "execution_count": 161,
     "metadata": {},
     "output_type": "execute_result"
    }
   ],
   "source": [
    "stats.ttest_ind(early['assignment4_grade'], late['assignment4_grade'])"
   ]
  },
  {
   "cell_type": "code",
   "execution_count": 162,
   "metadata": {},
   "outputs": [
    {
     "data": {
      "text/plain": [
       "Ttest_indResult(statistic=0.06063973879942835, pvalue=0.9516513635792874)"
      ]
     },
     "execution_count": 162,
     "metadata": {},
     "output_type": "execute_result"
    }
   ],
   "source": [
    "stats.ttest_ind(early['assignment5_grade'], late['assignment5_grade'])"
   ]
  },
  {
   "cell_type": "code",
   "execution_count": 163,
   "metadata": {},
   "outputs": [
    {
     "data": {
      "text/plain": [
       "Ttest_indResult(statistic=-0.00976775475765312, pvalue=0.9922074255698552)"
      ]
     },
     "execution_count": 163,
     "metadata": {},
     "output_type": "execute_result"
    }
   ],
   "source": [
    "stats.ttest_ind(early['assignment6_grade'], late['assignment6_grade'])"
   ]
  }
 ],
 "metadata": {
  "kernelspec": {
   "display_name": "Python 3",
   "language": "python",
   "name": "python3"
  },
  "language_info": {
   "codemirror_mode": {
    "name": "ipython",
    "version": 3
   },
   "file_extension": ".py",
   "mimetype": "text/x-python",
   "name": "python",
   "nbconvert_exporter": "python",
   "pygments_lexer": "ipython3",
   "version": "3.6.4"
  }
 },
 "nbformat": 4,
 "nbformat_minor": 2
}
