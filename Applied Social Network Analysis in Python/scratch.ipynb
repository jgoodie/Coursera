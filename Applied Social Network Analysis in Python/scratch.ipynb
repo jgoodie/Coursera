{
 "cells": [
  {
   "cell_type": "code",
   "execution_count": 1,
   "metadata": {},
   "outputs": [],
   "source": [
    "%matplotlib inline\n",
    "import networkx as nx"
   ]
  },
  {
   "cell_type": "code",
   "execution_count": 71,
   "metadata": {
    "collapsed": true
   },
   "outputs": [],
   "source": [
    "G = nx.Graph()\n",
    "G.add_edge('A','B')\n",
    "G.add_edge('B', 'C')\n"
   ]
  },
  {
   "cell_type": "code",
   "execution_count": 72,
   "metadata": {},
   "outputs": [
    {
     "data": {
      "text/plain": [
       "EdgeView([('A', 'B'), ('B', 'C')])"
      ]
     },
     "execution_count": 72,
     "metadata": {},
     "output_type": "execute_result"
    }
   ],
   "source": [
    "G.edges()"
   ]
  },
  {
   "cell_type": "code",
   "execution_count": 73,
   "metadata": {
    "scrolled": true
   },
   "outputs": [
    {
     "data": {
      "text/plain": [
       "EdgeDataView([('A', 'B', {}), ('B', 'C', {})])"
      ]
     },
     "execution_count": 73,
     "metadata": {},
     "output_type": "execute_result"
    }
   ],
   "source": [
    "G.edges(data=True)"
   ]
  },
  {
   "cell_type": "code",
   "execution_count": 10,
   "metadata": {
    "collapsed": true
   },
   "outputs": [],
   "source": [
    "# Direction\n",
    "D = nx.DiGraph()\n",
    "D.add_edge('B', 'A')\n",
    "D.add_edge('B','C')"
   ]
  },
  {
   "cell_type": "code",
   "execution_count": 18,
   "metadata": {},
   "outputs": [
    {
     "data": {
      "text/plain": [
       "OutEdgeView([('B', 'A'), ('B', 'C')])"
      ]
     },
     "execution_count": 18,
     "metadata": {},
     "output_type": "execute_result"
    }
   ],
   "source": [
    "D.edges()"
   ]
  },
  {
   "cell_type": "code",
   "execution_count": 24,
   "metadata": {},
   "outputs": [
    {
     "data": {
      "text/plain": [
       "OutEdgeDataView([('B', 'A', {}), ('B', 'C', {})])"
      ]
     },
     "execution_count": 24,
     "metadata": {},
     "output_type": "execute_result"
    }
   ],
   "source": [
    "D.edges(data=True)"
   ]
  },
  {
   "cell_type": "code",
   "execution_count": 11,
   "metadata": {
    "collapsed": true
   },
   "outputs": [],
   "source": [
    "# Weighted\n",
    "W = nx.Graph()\n",
    "W.add_edge('A','B', weight=6)\n",
    "W.add_edge('B', 'C', weight=8)"
   ]
  },
  {
   "cell_type": "code",
   "execution_count": 19,
   "metadata": {},
   "outputs": [
    {
     "data": {
      "text/plain": [
       "EdgeView([('A', 'B'), ('B', 'C')])"
      ]
     },
     "execution_count": 19,
     "metadata": {},
     "output_type": "execute_result"
    }
   ],
   "source": [
    "W.edges()"
   ]
  },
  {
   "cell_type": "code",
   "execution_count": 25,
   "metadata": {
    "scrolled": true
   },
   "outputs": [
    {
     "data": {
      "text/plain": [
       "EdgeDataView([('A', 'B', {'weight': 6}), ('B', 'C', {'weight': 8})])"
      ]
     },
     "execution_count": 25,
     "metadata": {},
     "output_type": "execute_result"
    }
   ],
   "source": [
    "W.edges(data=True)"
   ]
  },
  {
   "cell_type": "code",
   "execution_count": 45,
   "metadata": {},
   "outputs": [
    {
     "data": {
      "text/plain": [
       "{'weight': 6}"
      ]
     },
     "execution_count": 45,
     "metadata": {},
     "output_type": "execute_result"
    }
   ],
   "source": [
    "W.get_edge_data('A', 'B')"
   ]
  },
  {
   "cell_type": "code",
   "execution_count": 47,
   "metadata": {},
   "outputs": [
    {
     "data": {
      "text/plain": [
       "6"
      ]
     },
     "execution_count": 47,
     "metadata": {},
     "output_type": "execute_result"
    }
   ],
   "source": [
    "W['A']['B']['weight'] # the .edge accessor is gone now so the lecture videos are off"
   ]
  },
  {
   "cell_type": "code",
   "execution_count": 12,
   "metadata": {
    "collapsed": true
   },
   "outputs": [],
   "source": [
    "# Signed\n",
    "S = nx.Graph()\n",
    "S.add_edge('A','B', sign='+')\n",
    "S.add_edge('B', 'C', sign='-')"
   ]
  },
  {
   "cell_type": "code",
   "execution_count": 20,
   "metadata": {},
   "outputs": [
    {
     "data": {
      "text/plain": [
       "EdgeView([('A', 'B'), ('B', 'C')])"
      ]
     },
     "execution_count": 20,
     "metadata": {},
     "output_type": "execute_result"
    }
   ],
   "source": [
    "S.edges()"
   ]
  },
  {
   "cell_type": "code",
   "execution_count": 26,
   "metadata": {},
   "outputs": [
    {
     "data": {
      "text/plain": [
       "EdgeDataView([('A', 'B', {'sign': '+'}), ('B', 'C', {'sign': '-'})])"
      ]
     },
     "execution_count": 26,
     "metadata": {},
     "output_type": "execute_result"
    }
   ],
   "source": [
    "S.edges(data=True)"
   ]
  },
  {
   "cell_type": "code",
   "execution_count": 16,
   "metadata": {
    "collapsed": true
   },
   "outputs": [],
   "source": [
    "# Relation\n",
    "R = nx.Graph()\n",
    "R.add_edge('A','B', relation='Friend')\n",
    "R.add_edge('B', 'C', relation='Family')"
   ]
  },
  {
   "cell_type": "code",
   "execution_count": 21,
   "metadata": {},
   "outputs": [
    {
     "data": {
      "text/plain": [
       "EdgeView([('A', 'B'), ('B', 'C')])"
      ]
     },
     "execution_count": 21,
     "metadata": {},
     "output_type": "execute_result"
    }
   ],
   "source": [
    "R.edges()"
   ]
  },
  {
   "cell_type": "code",
   "execution_count": 27,
   "metadata": {},
   "outputs": [
    {
     "data": {
      "text/plain": [
       "EdgeDataView([('A', 'B', {'relation': 'Friend'}), ('B', 'C', {'relation': 'Family'})])"
      ]
     },
     "execution_count": 27,
     "metadata": {},
     "output_type": "execute_result"
    }
   ],
   "source": [
    "R.edges(data=True)"
   ]
  },
  {
   "cell_type": "code",
   "execution_count": 29,
   "metadata": {},
   "outputs": [
    {
     "data": {
      "text/plain": [
       "EdgeDataView([('A', 'B', 'Friend'), ('B', 'C', 'Family')])"
      ]
     },
     "execution_count": 29,
     "metadata": {},
     "output_type": "execute_result"
    }
   ],
   "source": [
    "R.edges(data='relation')"
   ]
  },
  {
   "cell_type": "code",
   "execution_count": 15,
   "metadata": {
    "scrolled": true
   },
   "outputs": [
    {
     "data": {
      "text/plain": [
       "1"
      ]
     },
     "execution_count": 15,
     "metadata": {},
     "output_type": "execute_result"
    }
   ],
   "source": [
    "#Multigraph\n",
    "MG = nx.MultiGraph()\n",
    "MG.add_edge('A','B', relation='Friend')\n",
    "MG.add_edge('A','B', relation='Neighbor')"
   ]
  },
  {
   "cell_type": "code",
   "execution_count": 22,
   "metadata": {},
   "outputs": [
    {
     "data": {
      "text/plain": [
       "MultiEdgeDataView([('A', 'B'), ('A', 'B')])"
      ]
     },
     "execution_count": 22,
     "metadata": {},
     "output_type": "execute_result"
    }
   ],
   "source": [
    "MG.edges()"
   ]
  },
  {
   "cell_type": "code",
   "execution_count": 28,
   "metadata": {
    "scrolled": true
   },
   "outputs": [
    {
     "data": {
      "text/plain": [
       "MultiEdgeDataView([('A', 'B', {'relation': 'Friend'}), ('A', 'B', {'relation': 'Neighbor'})])"
      ]
     },
     "execution_count": 28,
     "metadata": {},
     "output_type": "execute_result"
    }
   ],
   "source": [
    "MG.edges(data=True)"
   ]
  },
  {
   "cell_type": "code",
   "execution_count": 52,
   "metadata": {
    "collapsed": true
   },
   "outputs": [],
   "source": [
    "import networkx as nx\n",
    "from networkx.algorithms import bipartite\n",
    "\n",
    "B = nx.Graph()\n",
    "B.add_edges_from([('A', 'G'),('A','I'), ('B','H'), ('C', 'G'), ('C', 'I'),('D', 'H'), ('E', 'I'), ('F', 'G'), ('F', 'J')])\n",
    "X1 = set(['A', 'B', 'C', 'D', 'E', 'F'])\n",
    "P = bipartite.weighted_projected_graph(B, X1)\n"
   ]
  },
  {
   "cell_type": "code",
   "execution_count": 53,
   "metadata": {},
   "outputs": [
    {
     "data": {
      "text/plain": [
       "EdgeView([('D', 'B'), ('E', 'C'), ('E', 'A'), ('F', 'C'), ('F', 'A'), ('C', 'A')])"
      ]
     },
     "execution_count": 53,
     "metadata": {},
     "output_type": "execute_result"
    }
   ],
   "source": [
    "P.edges()"
   ]
  },
  {
   "cell_type": "code",
   "execution_count": 55,
   "metadata": {},
   "outputs": [
    {
     "data": {
      "text/plain": [
       "2"
      ]
     },
     "execution_count": 55,
     "metadata": {},
     "output_type": "execute_result"
    }
   ],
   "source": [
    "P['A']['C']['weight']"
   ]
  },
  {
   "cell_type": "code",
   "execution_count": 56,
   "metadata": {
    "collapsed": true
   },
   "outputs": [],
   "source": [
    "G=nx.MultiGraph()\n",
    "G.add_node('A',role='manager')\n",
    "G.add_edge('A','B',relation = 'friend')\n",
    "G.add_edge('A','C', relation = 'business partner')\n",
    "G.add_edge('A','B', relation = 'classmate')\n",
    "G.node['A']['role'] = 'team member'\n",
    "G.node['B']['role'] = 'engineer'"
   ]
  },
  {
   "cell_type": "code",
   "execution_count": 58,
   "metadata": {
    "scrolled": true
   },
   "outputs": [
    {
     "data": {
      "text/plain": [
       "AtlasView({0: {'relation': 'business partner'}})"
      ]
     },
     "execution_count": 58,
     "metadata": {},
     "output_type": "execute_result"
    }
   ],
   "source": [
    "G['A']['C']"
   ]
  },
  {
   "cell_type": "code",
   "execution_count": 59,
   "metadata": {
    "scrolled": true
   },
   "outputs": [
    {
     "data": {
      "text/plain": [
       "NodeDataView({'A': {'role': 'team member'}, 'B': {'role': 'engineer'}, 'C': {}})"
      ]
     },
     "execution_count": 59,
     "metadata": {},
     "output_type": "execute_result"
    }
   ],
   "source": [
    "G.nodes(data=True)"
   ]
  },
  {
   "cell_type": "code",
   "execution_count": 60,
   "metadata": {
    "collapsed": true
   },
   "outputs": [],
   "source": [
    "G=nx.MultiGraph()\n",
    "G.add_node('A',role='manager')\n",
    "G.add_edge('A','B',relation = 'friend')\n",
    "G.add_edge('A','C', relation = 'business partner')\n",
    "G.add_edge('A','B', relation = 'classmate')\n",
    "G.node['A']['role'] = 'team member'\n",
    "G.node['B']['role'] = 'engineer'"
   ]
  },
  {
   "cell_type": "code",
   "execution_count": 64,
   "metadata": {
    "scrolled": true
   },
   "outputs": [
    {
     "data": {
      "text/plain": [
       "'friend'"
      ]
     },
     "execution_count": 64,
     "metadata": {},
     "output_type": "execute_result"
    }
   ],
   "source": [
    "G['A']['B'][0]['relation']"
   ]
  },
  {
   "cell_type": "code",
   "execution_count": 65,
   "metadata": {
    "collapsed": true
   },
   "outputs": [],
   "source": [
    "G=nx.MultiGraph()\n",
    "G.add_node('A',role='manager')\n",
    "G.add_edge('A','B',relation = 'friend')\n",
    "G.add_edge('A','C', relation = 'business partner')\n",
    "G.add_edge('A','B', relation = 'classmate')\n",
    "G.node['A']['role'] = 'team member'\n",
    "G.node['B']['role'] = 'engineer'"
   ]
  },
  {
   "cell_type": "code",
   "execution_count": 70,
   "metadata": {},
   "outputs": [
    {
     "data": {
      "text/plain": [
       "NodeDataView({'A': {'role': 'team member'}, 'B': {'role': 'engineer'}, 'C': {}})"
      ]
     },
     "execution_count": 70,
     "metadata": {},
     "output_type": "execute_result"
    }
   ],
   "source": [
    "G.node(data=True)"
   ]
  },
  {
   "cell_type": "markdown",
   "metadata": {},
   "source": [
    "# QUIZ 1\n",
    "\n",
    "1) Weighted networks are used to describe networks with unequal relationships between nodes.\n",
    "When there are only two opposite relationships between nodes, a signed network is a good representation.\n",
    "\n",
    "2) Multigraph\n",
    "\n",
    "3) Directed Weighted Network\n",
    "\n",
    "X 4) Edges can carry many labels or attributes. AND Suppose we have created a nx.Graph()object G with some nodes and edges. The statement G.nodes(data=True) will return a list of tuples.\n",
    "\n",
    "5) Dictionary\n",
    "\n",
    "6) G.edge['A']['B'][0]['relation']\n",
    "\n",
    "7) Team Member\n",
    "\n",
    "8) (1, B) AND (3, E)\n",
    "\n",
    "9) D they are all connected\n",
    "\n",
    "10) A,C = 3"
   ]
  },
  {
   "cell_type": "code",
   "execution_count": 75,
   "metadata": {
    "collapsed": true
   },
   "outputs": [],
   "source": [
    "K = nx.karate_club_graph()"
   ]
  },
  {
   "cell_type": "code",
   "execution_count": 76,
   "metadata": {
    "collapsed": true
   },
   "outputs": [],
   "source": [
    "K = nx.convert_node_labels_to_integers(G, first_label=1)"
   ]
  },
  {
   "cell_type": "code",
   "execution_count": null,
   "metadata": {
    "collapsed": true
   },
   "outputs": [],
   "source": [
    "K.short"
   ]
  },
  {
   "cell_type": "code",
   "execution_count": 78,
   "metadata": {
    "collapsed": true
   },
   "outputs": [],
   "source": [
    "G1 = nx.Graph()\n",
    "G1.add_edges_from([('A', 'B'),\n",
    "                   ('A', 'C'),\n",
    "                   ('B', 'D'),\n",
    "                   ('C', 'D'),\n",
    "                   ('C', 'E'),\n",
    "                   ('D', 'E'),\n",
    "                   ('D', 'G'),\n",
    "                   ('E', 'G'),\n",
    "                   ('G', 'F')])\n"
   ]
  },
  {
   "cell_type": "code",
   "execution_count": 82,
   "metadata": {
    "scrolled": true
   },
   "outputs": [
    {
     "data": {
      "image/png": "[encoded data removed]",
      "text/plain": [
       "<matplotlib.figure.Figure at 0x1132609e8>"
      ]
     },
     "metadata": {},
     "output_type": "display_data"
    }
   ],
   "source": [
    "nx.draw_networkx(G1)"
   ]
  },
  {
   "cell_type": "code",
   "execution_count": 84,
   "metadata": {},
   "outputs": [
    {
     "data": {
      "text/plain": [
       "4"
      ]
     },
     "execution_count": 84,
     "metadata": {},
     "output_type": "execute_result"
    }
   ],
   "source": [
    "# Diameter\n",
    "nx.diameter(G1)"
   ]
  },
  {
   "cell_type": "code",
   "execution_count": 85,
   "metadata": {},
   "outputs": [
    {
     "data": {
      "text/plain": [
       "2"
      ]
     },
     "execution_count": 85,
     "metadata": {},
     "output_type": "execute_result"
    }
   ],
   "source": [
    "# Radius\n",
    "nx.radius(G1)"
   ]
  },
  {
   "cell_type": "code",
   "execution_count": 86,
   "metadata": {},
   "outputs": [
    {
     "data": {
      "text/plain": [
       "True"
      ]
     },
     "execution_count": 86,
     "metadata": {},
     "output_type": "execute_result"
    }
   ],
   "source": [
    "nx.is_connected(G1)"
   ]
  },
  {
   "cell_type": "code",
   "execution_count": 87,
   "metadata": {},
   "outputs": [
    {
     "data": {
      "text/plain": [
       "['D', 'E']"
      ]
     },
     "execution_count": 87,
     "metadata": {},
     "output_type": "execute_result"
    }
   ],
   "source": [
    "nx.center(G1)"
   ]
  },
  {
   "cell_type": "code",
   "execution_count": 88,
   "metadata": {},
   "outputs": [
    {
     "data": {
      "text/plain": [
       "['A', 'F']"
      ]
     },
     "execution_count": 88,
     "metadata": {},
     "output_type": "execute_result"
    }
   ],
   "source": [
    "nx.periphery(G1)"
   ]
  },
  {
   "cell_type": "code",
   "execution_count": 89,
   "metadata": {},
   "outputs": [
    {
     "data": {
      "text/plain": [
       "{'A': 4, 'B': 3, 'C': 3, 'D': 2, 'E': 2, 'F': 4, 'G': 3}"
      ]
     },
     "execution_count": 89,
     "metadata": {},
     "output_type": "execute_result"
    }
   ],
   "source": [
    "nx.eccentricity(G1)"
   ]
  },
  {
   "cell_type": "code",
   "execution_count": 93,
   "metadata": {
    "scrolled": false
   },
   "outputs": [
    {
     "data": {
      "image/png": "[encoded data removed]",
      "text/plain": [
       "<matplotlib.figure.Figure at 0x1133355f8>"
      ]
     },
     "metadata": {},
     "output_type": "display_data"
    }
   ],
   "source": [
    "T = nx.bfs_tree(G1, 'A')\n",
    "nx.draw_networkx(T)"
   ]
  },
  {
   "cell_type": "code",
   "execution_count": 95,
   "metadata": {
    "collapsed": true
   },
   "outputs": [],
   "source": [
    "f = nx.Graph()\n",
    "f.add_edges_from([('I', 'J'),\n",
    "                   ('I', 'K')])\n"
   ]
  },
  {
   "cell_type": "code",
   "execution_count": 96,
   "metadata": {},
   "outputs": [
    {
     "data": {
      "text/plain": [
       "True"
      ]
     },
     "execution_count": 96,
     "metadata": {},
     "output_type": "execute_result"
    }
   ],
   "source": [
    "nx.is_connected(f)"
   ]
  },
  {
   "cell_type": "code",
   "execution_count": 108,
   "metadata": {
    "collapsed": true
   },
   "outputs": [],
   "source": [
    "G2 = nx.Graph()\n",
    "G2.add_edges_from([('A', 'B'),\n",
    "                   ('A', 'C'),\n",
    "                   ('A', 'F'),\n",
    "                   ('C', 'B'),\n",
    "                   ('C', 'E'),\n",
    "                   ('C', 'F'),\n",
    "                   ('B', 'E'),\n",
    "                   ('B', 'D'),\n",
    "                   ('E', 'D'),\n",
    "                   ('F', 'E'),\n",
    "                   ('E', 'G'),\n",
    "                   ('E', 'H'),\n",
    "                   ('G', 'M'),\n",
    "                   ('H', 'M'),\n",
    "                   ('M', 'K'),\n",
    "                   ('K', 'N'),\n",
    "                   ('H', 'N'),\n",
    "                   ('G', 'H'), ('G', 'K')])"
   ]
  },
  {
   "cell_type": "code",
   "execution_count": 109,
   "metadata": {},
   "outputs": [
    {
     "data": {
      "image/png": "[encoded data removed]",
      "text/plain": [
       "<matplotlib.figure.Figure at 0x114714320>"
      ]
     },
     "metadata": {},
     "output_type": "display_data"
    }
   ],
   "source": [
    "nx.draw_networkx(G2)"
   ]
  },
  {
   "cell_type": "code",
   "execution_count": 111,
   "metadata": {
    "scrolled": true
   },
   "outputs": [
    {
     "data": {
      "text/plain": [
       "1"
      ]
     },
     "execution_count": 111,
     "metadata": {},
     "output_type": "execute_result"
    }
   ],
   "source": [
    "nx.node_connectivity(G2)"
   ]
  },
  {
   "cell_type": "code",
   "execution_count": 112,
   "metadata": {},
   "outputs": [
    {
     "data": {
      "text/plain": [
       "2"
      ]
     },
     "execution_count": 112,
     "metadata": {},
     "output_type": "execute_result"
    }
   ],
   "source": [
    "nx.edge_connectivity(G2)"
   ]
  },
  {
   "cell_type": "markdown",
   "metadata": {
    "collapsed": true
   },
   "source": [
    "# Quiz 2\n",
    "\n",
    "1) 0.7\n",
    "\n",
    "2) Network (A) has higher average local clustering coefficient but lower transitivity than (B).\n",
    "\n",
    "3) The radius of this network is half of its diameter.\n",
    "The deletion of node G will make the network disconnected.\n",
    "If we perform Breadth-First Search (BFS) from node A, the BFS tree we obtain will have a depth of 4.\n",
    "The eccentricity of node B and C are equal.\n",
    "\n",
    "4) It is a disconnected graph with 2 connected components.\n",
    "If edge (E,G) is removed, the number of connected components will not change.\n",
    "We can make the graph connected by adding edge (E,J).\n",
    "\n",
    "5) Only network (B) is a strongly connected graph.\n",
    "We only need to add one directed edge in order to change network (C) to a strongly connected graph.\n",
    "\n",
    "6) The closure of an airport and the cancellation of a flight route are examples of two different kinds of network attacks in the real world.\n",
    "Network robustness measures a network’s ability to maintain its connectivity.\n",
    "Adding edges to a network can never make the network less robust.\n",
    "\n",
    "\n",
    "\n",
    "7) 1\n",
    "\n",
    "8) 2\n",
    "\n",
    "9) 8\n",
    "\n",
    "10) Removing node F and H\n",
    "Removing edges (H,K) and (E,F)"
   ]
  },
  {
   "cell_type": "code",
   "execution_count": 118,
   "metadata": {
    "collapsed": true
   },
   "outputs": [],
   "source": [
    "# In video quiz\n",
    "G2 = nx.Graph()\n",
    "G2.add_edges_from([('A', 'B'),\n",
    "                   ('A', 'C'),\n",
    "                   ('B', 'C'),\n",
    "                   ('C', 'D'),\n",
    "                   ('D', 'E'),\n",
    "                   ('E', 'F'),\n",
    "                   ('E', 'G'),\n",
    "                   ('F', 'G')])"
   ]
  },
  {
   "cell_type": "code",
   "execution_count": 119,
   "metadata": {
    "scrolled": true
   },
   "outputs": [
    {
     "data": {
      "text/plain": [
       "{'A': 0.0, 'B': 0.0, 'C': 8.0, 'D': 9.0, 'E': 8.0, 'F': 0.0, 'G': 0.0}"
      ]
     },
     "execution_count": 119,
     "metadata": {},
     "output_type": "execute_result"
    }
   ],
   "source": [
    "nx.betweenness_centrality(G2, normalized=False, endpoints=False)"
   ]
  },
  {
   "cell_type": "code",
   "execution_count": 120,
   "metadata": {},
   "outputs": [
    {
     "data": {
      "text/plain": [
       "{'A': 0.0,\n",
       " 'B': 0.0,\n",
       " 'C': 0.5333333333333333,\n",
       " 'D': 0.6,\n",
       " 'E': 0.5333333333333333,\n",
       " 'F': 0.0,\n",
       " 'G': 0.0}"
      ]
     },
     "execution_count": 120,
     "metadata": {},
     "output_type": "execute_result"
    }
   ],
   "source": [
    "nx.betweenness_centrality(G2, normalized=True, endpoints=False)"
   ]
  },
  {
   "cell_type": "code",
   "execution_count": 121,
   "metadata": {
    "collapsed": true
   },
   "outputs": [],
   "source": [
    "G2_d = nx.to_directed(G2)"
   ]
  },
  {
   "cell_type": "code",
   "execution_count": 125,
   "metadata": {
    "scrolled": true
   },
   "outputs": [
    {
     "data": {
      "text/plain": [
       "{'A': 0.12734391460303282,\n",
       " 'B': 0.12734391460303282,\n",
       " 'C': 0.18280387918229035,\n",
       " 'D': 0.1250165832232878,\n",
       " 'E': 0.18280387918229038,\n",
       " 'F': 0.12734391460303285,\n",
       " 'G': 0.12734391460303285}"
      ]
     },
     "execution_count": 125,
     "metadata": {},
     "output_type": "execute_result"
    }
   ],
   "source": [
    "nx.pagerank(G2_d)"
   ]
  },
  {
   "cell_type": "code",
   "execution_count": 127,
   "metadata": {
    "collapsed": true
   },
   "outputs": [],
   "source": [
    "G3 =nx.DiGraph()\n",
    "G3.add_edges_from([('A', 'B'),\n",
    "                   ('B', 'C'),\n",
    "                   ('B', 'D'),\n",
    "                   ('C', 'B'),\n",
    "                   ('D', 'C'),\n",
    "                   ('D', 'A'),\n",
    "                   ('D', 'E'),\n",
    "                   ('E', 'A')])"
   ]
  },
  {
   "cell_type": "code",
   "execution_count": 130,
   "metadata": {
    "scrolled": true
   },
   "outputs": [
    {
     "data": {
      "text/plain": [
       "{'A': 0.15035141786968964,\n",
       " 'B': 0.35519316255962574,\n",
       " 'C': 0.23222770978534224,\n",
       " 'D': 0.18095642215666963,\n",
       " 'E': 0.08127128762867263}"
      ]
     },
     "execution_count": 130,
     "metadata": {},
     "output_type": "execute_result"
    }
   ],
   "source": [
    "nx.pagerank(G3, max_iter=10000)"
   ]
  },
  {
   "cell_type": "code",
   "execution_count": 132,
   "metadata": {
    "collapsed": true
   },
   "outputs": [],
   "source": [
    "G4 = nx.DiGraph()\n",
    "G4.add_edges_from([('A', 'B'),\n",
    "                   ('B', 'C'),\n",
    "                   ('B', 'D'),\n",
    "                   ('C', 'B'),\n",
    "                   ('D', 'C'),\n",
    "                   ('D', 'A'),\n",
    "                   ('D', 'E'),\n",
    "                   ('E', 'A'), \n",
    "                   ('B', 'F'), \n",
    "                   ('B', 'G'), \n",
    "                   ('F', 'G'), \n",
    "                   ('G', 'F')])"
   ]
  },
  {
   "cell_type": "code",
   "execution_count": 142,
   "metadata": {},
   "outputs": [
    {
     "data": {
      "text/plain": [
       "{'A': 0.0797510311959225,\n",
       " 'B': 0.15216425904765085,\n",
       " 'C': 0.07473913572031664,\n",
       " 'D': 0.05900450477059524,\n",
       " 'E': 0.044306059521149965,\n",
       " 'F': 0.29501750487218237,\n",
       " 'G': 0.2950175048721824}"
      ]
     },
     "execution_count": 142,
     "metadata": {},
     "output_type": "execute_result"
    }
   ],
   "source": [
    "nx.pagerank(G4, max_iter=10000, alpha=0.80)"
   ]
  },
  {
   "cell_type": "code",
   "execution_count": 143,
   "metadata": {
    "scrolled": false
   },
   "outputs": [
    {
     "data": {
      "text/plain": [
       "({'A': 6.426634829924115e-15,\n",
       "  'B': 0.4574605834896257,\n",
       "  'C': 6.426634829924115e-15,\n",
       "  'D': 0.2538714733692072,\n",
       "  'E': 0.06270107637358564,\n",
       "  'F': 0.11298343338378435,\n",
       "  'G': 0.11298343338378435},\n",
       " {'A': 0.1099162657339696,\n",
       "  'B': 1.126602193449279e-14,\n",
       "  'C': 0.2469796040012721,\n",
       "  'D': 0.15883360295804577,\n",
       "  'E': 0.08814600104322631,\n",
       "  'F': 0.19806226313173753,\n",
       "  'G': 0.19806226313173753})"
      ]
     },
     "execution_count": 143,
     "metadata": {},
     "output_type": "execute_result"
    }
   ],
   "source": [
    "nx.hits(G4)"
   ]
  },
  {
   "cell_type": "markdown",
   "metadata": {},
   "source": [
    "# Quiz 3\n",
    "\n",
    "1) 0.67\n",
    "\n",
    "2) 0.6\n",
    "\n",
    "3) 0.3333\n",
    "\n",
    "4) 6.0\n",
    "\n",
    "X 5)\n",
    "The assumption of degree centrality is that important nodes have more connections.\n",
    "We can use subsets of node-pairs to approximate betweenness centrality.\n",
    "\n",
    "X 6) Adding in-links of a node will never decrease its PR.\n",
    "Adding out-links of a node will always decrease its PR.\n",
    "XXXX The authority and hub score of each node is obtained by computing multiple iterations of HITS algorithm and both scores of most networks are convergent.\n",
    "??? Nodes with high in-degree centrality have higher PRs than nodes with low in-degree centrality.\n",
    "\n",
    "7) 0.95\n",
    "\n",
    "8) 0.625\n",
    "\n",
    "9) 00.5 .97 (the crazy looking one)\n",
    "\n",
    "10) Node D’s authority and hub score after k iterations (k>=1) are always 0.\n"
   ]
  },
  {
   "cell_type": "code",
   "execution_count": 146,
   "metadata": {
    "collapsed": true
   },
   "outputs": [],
   "source": [
    "G1 = nx.Graph()\n",
    "G1.add_edges_from([('A', 'B'),\n",
    "                   ('A', 'C'),\n",
    "                   ('B', 'D'),\n",
    "                   ('C', 'D'),\n",
    "                   ('C', 'E'),\n",
    "                   ('D', 'E'),\n",
    "                   ('D', 'G'),\n",
    "                   ('E', 'G'),\n",
    "                   ('G', 'F')])"
   ]
  },
  {
   "cell_type": "code",
   "execution_count": 148,
   "metadata": {
    "collapsed": true
   },
   "outputs": [],
   "source": [
    "G1_cent = nx.degree_centrality(G1)"
   ]
  },
  {
   "cell_type": "code",
   "execution_count": 149,
   "metadata": {},
   "outputs": [
    {
     "data": {
      "text/plain": [
       "0.6666666666666666"
      ]
     },
     "execution_count": 149,
     "metadata": {},
     "output_type": "execute_result"
    }
   ],
   "source": [
    "G1_cent['D']"
   ]
  },
  {
   "cell_type": "code",
   "execution_count": 150,
   "metadata": {
    "collapsed": true
   },
   "outputs": [],
   "source": [
    "G1_close = nx.closeness_centrality(G1)"
   ]
  },
  {
   "cell_type": "code",
   "execution_count": 151,
   "metadata": {},
   "outputs": [
    {
     "data": {
      "text/plain": [
       "0.6"
      ]
     },
     "execution_count": 151,
     "metadata": {},
     "output_type": "execute_result"
    }
   ],
   "source": [
    "G1_close['G']"
   ]
  },
  {
   "cell_type": "code",
   "execution_count": 152,
   "metadata": {},
   "outputs": [
    {
     "data": {
      "text/plain": [
       "{'A': 0.03333333333333333,\n",
       " 'B': 0.07777777777777777,\n",
       " 'C': 0.18888888888888888,\n",
       " 'D': 0.38888888888888884,\n",
       " 'E': 0.1111111111111111,\n",
       " 'F': 0.0,\n",
       " 'G': 0.3333333333333333}"
      ]
     },
     "execution_count": 152,
     "metadata": {},
     "output_type": "execute_result"
    }
   ],
   "source": [
    "nx.betweenness_centrality(G1, normalized=True, endpoints=False)"
   ]
  },
  {
   "cell_type": "code",
   "execution_count": 154,
   "metadata": {
    "scrolled": true
   },
   "outputs": [
    {
     "data": {
      "text/plain": [
       "{('A', 'B'): 2.666666666666666,\n",
       " ('A', 'C'): 4.333333333333333,\n",
       " ('B', 'D'): 5.666666666666667,\n",
       " ('C', 'D'): 3.666666666666666,\n",
       " ('C', 'E'): 3.666666666666666,\n",
       " ('D', 'E'): 2.0,\n",
       " ('D', 'G'): 6.333333333333333,\n",
       " ('E', 'G'): 3.6666666666666665,\n",
       " ('G', 'F'): 6.0}"
      ]
     },
     "execution_count": 154,
     "metadata": {},
     "output_type": "execute_result"
    }
   ],
   "source": [
    "nx.edge_betweenness_centrality(G1, normalized=False)"
   ]
  },
  {
   "cell_type": "code",
   "execution_count": 157,
   "metadata": {
    "collapsed": true
   },
   "outputs": [],
   "source": [
    "G5 = nx.DiGraph()\n",
    "G5.add_edges_from([('B', 'A'),\n",
    "                   ('A', 'B'),\n",
    "                   ('A', 'C'),\n",
    "                   ('C', 'D'),\n",
    "                   ('D', 'C')])"
   ]
  },
  {
   "cell_type": "code",
   "execution_count": 173,
   "metadata": {
    "scrolled": true
   },
   "outputs": [
    {
     "data": {
      "text/plain": [
       "{'A': 0.04442211856731087,\n",
       " 'B': 0.03360050631947267,\n",
       " 'C': 0.46639949368052747,\n",
       " 'D': 0.4555778814326893}"
      ]
     },
     "execution_count": 173,
     "metadata": {},
     "output_type": "execute_result"
    }
   ],
   "source": [
    "nx.pagerank(G5, alpha=0.95)"
   ]
  },
  {
   "cell_type": "code",
   "execution_count": 175,
   "metadata": {
    "collapsed": true
   },
   "outputs": [],
   "source": [
    "G6 = nx.DiGraph()\n",
    "G6.add_edges_from([('A', 'B'),\n",
    "                   ('A', 'C'),\n",
    "                   ('B', 'C'),\n",
    "                   ('C', 'A'),\n",
    "                   ('D', 'C')])"
   ]
  },
  {
   "cell_type": "code",
   "execution_count": 192,
   "metadata": {},
   "outputs": [
    {
     "data": {
      "text/plain": [
       "{'A': 0.25, 'B': 0.25, 'C': 0.25, 'D': 0.25}"
      ]
     },
     "execution_count": 192,
     "metadata": {},
     "output_type": "execute_result"
    }
   ],
   "source": [
    "nx.pagerank(G6, alpha=0, max_iter=100)"
   ]
  },
  {
   "cell_type": "code",
   "execution_count": 202,
   "metadata": {},
   "outputs": [
    {
     "data": {
      "text/plain": [
       "({'A': 0.41421356195612885,\n",
       "  'B': 0.2928932185186695,\n",
       "  'C': 1.0065322483445805e-09,\n",
       "  'D': 0.2928932185186695},\n",
       " {'A': 2.429983801460681e-09,\n",
       "  'B': 0.29289321810158986,\n",
       "  'C': 0.7071067794684264,\n",
       "  'D': 0.0})"
      ]
     },
     "execution_count": 202,
     "metadata": {},
     "output_type": "execute_result"
    }
   ],
   "source": [
    "nx.hits(G6, normalized=True, max_iter=100)"
   ]
  },
  {
   "cell_type": "code",
   "execution_count": 196,
   "metadata": {
    "scrolled": true
   },
   "outputs": [
    {
     "data": {
      "text/plain": [
       "({'A': 0.41421356195612885,\n",
       "  'B': 0.2928932185186695,\n",
       "  'C': 1.0065322483445805e-09,\n",
       "  'D': 0.2928932185186695},\n",
       " {'A': 2.429983801460681e-09,\n",
       "  'B': 0.29289321810158986,\n",
       "  'C': 0.7071067794684264,\n",
       "  'D': 0.0})"
      ]
     },
     "execution_count": 196,
     "metadata": {},
     "output_type": "execute_result"
    }
   ],
   "source": [
    "nx.hits(G6, max_iter=1000)"
   ]
  },
  {
   "cell_type": "code",
   "execution_count": 216,
   "metadata": {
    "collapsed": true
   },
   "outputs": [],
   "source": [
    "G1 = nx.DiGraph()\n",
    "G1.add_edges_from([('A', 'B'),\n",
    "                   ('A', 'C'),\n",
    "                   ('B', 'D'),\n",
    "                   ('C', 'D'),\n",
    "                   ('C', 'E'),\n",
    "                   ('D', 'E'),\n",
    "                   ('D', 'G'),\n",
    "                   ('E', 'G'),\n",
    "                   ('G', 'F')])"
   ]
  },
  {
   "cell_type": "code",
   "execution_count": 217,
   "metadata": {
    "scrolled": true
   },
   "outputs": [
    {
     "data": {
      "text/plain": [
       "{'A': 0.05279345539366195,\n",
       " 'B': 0.075230553863564,\n",
       " 'C': 0.075230553863564,\n",
       " 'D': 0.14871164301800055,\n",
       " 'E': 0.14796815949841347,\n",
       " 'F': 0.2582974512105879,\n",
       " 'G': 0.24176818315220802}"
      ]
     },
     "execution_count": 217,
     "metadata": {},
     "output_type": "execute_result"
    }
   ],
   "source": [
    "nx.pagerank(G1)"
   ]
  },
  {
   "cell_type": "code",
   "execution_count": 218,
   "metadata": {
    "collapsed": true
   },
   "outputs": [],
   "source": [
    "G1 = nx.DiGraph()\n",
    "G1.add_edges_from([('A', 'B'),\n",
    "                   ('A', 'C'),\n",
    "                   ('B', 'D'),\n",
    "                   ('C', 'D'),\n",
    "                   ('C', 'E'),\n",
    "                   ('D', 'E'),\n",
    "                   ('D', 'G'),\n",
    "                   ('E', 'G'),\n",
    "                   ('G', 'F'), ('F', 'B'), ('F', 'D'), ('F', 'C')])"
   ]
  },
  {
   "cell_type": "code",
   "execution_count": 219,
   "metadata": {
    "scrolled": false
   },
   "outputs": [
    {
     "data": {
      "text/plain": [
       "{'A': 0.021428571428571432,\n",
       " 'B': 0.09213694627073783,\n",
       " 'C': 0.09213694627073783,\n",
       " 'D': 0.20050553878915672,\n",
       " 'E': 0.14580221180394903,\n",
       " 'F': 0.21741523327859066,\n",
       " 'G': 0.23057455215825653}"
      ]
     },
     "execution_count": 219,
     "metadata": {},
     "output_type": "execute_result"
    }
   ],
   "source": [
    "nx.pagerank(G1)"
   ]
  },
  {
   "cell_type": "markdown",
   "metadata": {},
   "source": [
    "# Quiz 4\n",
    "\n",
    "1) 1/2\n",
    "\n",
    "X 2) 3\n",
    "\n",
    "3)If we draw a power law distribution in log-log scale, the distribution will look like a straight line.\n",
    "The Preferential Attachment Model generates a network with a power law degree distribution.\n",
    "\n",
    "4) Some Small-world networks have high local clustering coefficient and small average shortest path.\n",
    "In the small-world model starting with k nearest neighbors, increasing the rewiring probability p generally decreases both the average clustering coefficient and average shortest path.\n",
    "\n",
    "5) Average local clustering coefficient will increase and average shortest path will decrease.\n",
    "\n",
    "6) A\n",
    "\n",
    "7) 0.40\n",
    "\n",
    "8) 0.83\n",
    "\n",
    "X 9) 10 8?\n",
    "\n",
    "X????10) The Common Neighbor Soundarajan-Hopcroft score of node A and node G is 4.\n"
   ]
  },
  {
   "cell_type": "code",
   "execution_count": 2,
   "metadata": {},
   "outputs": [],
   "source": [
    "Q41 = nx.Graph()\n",
    "Q41.add_edges_from([('A', 'B'),\n",
    "                   ('A', 'C'),\n",
    "                   ('A', 'F'),\n",
    "                   ('B', 'C'),\n",
    "                   ('F', 'C'),\n",
    "                   ('E', 'F'),\n",
    "                   ('E', 'B'),\n",
    "                   ('E', 'C'), ('D', 'B'), ('D', 'E')])"
   ]
  },
  {
   "cell_type": "code",
   "execution_count": 238,
   "metadata": {},
   "outputs": [
    {
     "data": {
      "text/plain": [
       "DegreeView({'A': 3, 'B': 4, 'C': 4, 'F': 3, 'E': 4, 'D': 2})"
      ]
     },
     "execution_count": 238,
     "metadata": {},
     "output_type": "execute_result"
    }
   ],
   "source": [
    "Q41.degree()"
   ]
  },
  {
   "cell_type": "code",
   "execution_count": 239,
   "metadata": {},
   "outputs": [
    {
     "data": {
      "text/plain": [
       "0.5"
      ]
     },
     "execution_count": 239,
     "metadata": {},
     "output_type": "execute_result"
    }
   ],
   "source": [
    "1/6 +2/6"
   ]
  },
  {
   "cell_type": "code",
   "execution_count": 240,
   "metadata": {},
   "outputs": [
    {
     "data": {
      "text/plain": [
       "[0, 0, 0, 0, 0, 0, 0, 0]"
      ]
     },
     "execution_count": 240,
     "metadata": {},
     "output_type": "execute_result"
    }
   ],
   "source": [
    "Q42 = nx.MultiDiGraph()\n",
    "Q42.add_edges_from([('A', 'B'),\n",
    "                   ('B', 'A'),\n",
    "                   ('A', 'D'),\n",
    "                   ('B', 'C'),\n",
    "                   ('A', 'C'),\n",
    "                   ('C', 'A'),\n",
    "                   ('D', 'E'),\n",
    "                   ('E', 'C')])"
   ]
  },
  {
   "cell_type": "code",
   "execution_count": 242,
   "metadata": {
    "scrolled": true
   },
   "outputs": [
    {
     "data": {
      "text/plain": [
       "InMultiDegreeView({'A': 2, 'B': 1, 'D': 1, 'C': 3, 'E': 1})"
      ]
     },
     "execution_count": 242,
     "metadata": {},
     "output_type": "execute_result"
    }
   ],
   "source": [
    "Q42.in_degree()"
   ]
  },
  {
   "cell_type": "code",
   "execution_count": 243,
   "metadata": {
    "collapsed": true
   },
   "outputs": [],
   "source": [
    "Q46 = nx.Graph()\n",
    "Q46.add_edges_from([('A', 'C'),\n",
    "                   ('A', 'D'),\n",
    "                   ('A', 'E'),\n",
    "                   ('B', 'D'),\n",
    "                   ('C', 'G'),\n",
    "                   ('D', 'G'),\n",
    "                   ('D', 'E'),\n",
    "                   ('D', 'H'), ('E', 'H'), ('F', 'H')])"
   ]
  },
  {
   "cell_type": "code",
   "execution_count": 264,
   "metadata": {},
   "outputs": [],
   "source": [
    "import operator\n",
    "common_neigh = [(e[0], e[1],len(list(nx.common_neighbors(Q46, e[0], e[1])))) for e in nx.non_edges(Q46)]"
   ]
  },
  {
   "cell_type": "code",
   "execution_count": 265,
   "metadata": {
    "scrolled": true
   },
   "outputs": [
    {
     "data": {
      "text/plain": [
       "[('D', 'C', 2),\n",
       " ('G', 'A', 2),\n",
       " ('H', 'A', 2),\n",
       " ('D', 'F', 1),\n",
       " ('G', 'E', 1),\n",
       " ('G', 'B', 1),\n",
       " ('G', 'H', 1),\n",
       " ('E', 'C', 1),\n",
       " ('E', 'B', 1),\n",
       " ('E', 'F', 1),\n",
       " ('B', 'H', 1),\n",
       " ('B', 'A', 1),\n",
       " ('G', 'F', 0),\n",
       " ('F', 'C', 0),\n",
       " ('F', 'B', 0),\n",
       " ('F', 'A', 0),\n",
       " ('C', 'B', 0),\n",
       " ('C', 'H', 0)]"
      ]
     },
     "execution_count": 265,
     "metadata": {},
     "output_type": "execute_result"
    }
   ],
   "source": [
    "sorted(common_neigh, key=operator.itemgetter(2), reverse=True)"
   ]
  },
  {
   "cell_type": "code",
   "execution_count": 266,
   "metadata": {
    "collapsed": true
   },
   "outputs": [],
   "source": [
    "L = list(nx.jaccard_coefficient(Q46))"
   ]
  },
  {
   "cell_type": "code",
   "execution_count": 267,
   "metadata": {
    "scrolled": true
   },
   "outputs": [
    {
     "data": {
      "text/plain": [
       "[('D', 'C', 0.4),\n",
       " ('D', 'F', 0.2),\n",
       " ('G', 'E', 0.25),\n",
       " ('G', 'F', 0.0),\n",
       " ('G', 'B', 0.5),\n",
       " ('G', 'H', 0.25),\n",
       " ('G', 'A', 0.6666666666666666),\n",
       " ('E', 'C', 0.25),\n",
       " ('E', 'B', 0.3333333333333333),\n",
       " ('E', 'F', 0.3333333333333333),\n",
       " ('F', 'C', 0.0),\n",
       " ('F', 'B', 0.0),\n",
       " ('F', 'A', 0.0),\n",
       " ('C', 'B', 0.0),\n",
       " ('C', 'H', 0.0),\n",
       " ('B', 'H', 0.3333333333333333),\n",
       " ('B', 'A', 0.3333333333333333),\n",
       " ('H', 'A', 0.5)]"
      ]
     },
     "execution_count": 267,
     "metadata": {},
     "output_type": "execute_result"
    }
   ],
   "source": [
    "L"
   ]
  },
  {
   "cell_type": "code",
   "execution_count": 268,
   "metadata": {
    "scrolled": true
   },
   "outputs": [
    {
     "data": {
      "text/plain": [
       "[('D', 'C', 0.8333333333333333),\n",
       " ('D', 'F', 0.3333333333333333),\n",
       " ('G', 'E', 0.2),\n",
       " ('G', 'F', 0),\n",
       " ('G', 'B', 0.2),\n",
       " ('G', 'H', 0.2),\n",
       " ('G', 'A', 0.7),\n",
       " ('E', 'C', 0.3333333333333333),\n",
       " ('E', 'B', 0.2),\n",
       " ('E', 'F', 0.3333333333333333),\n",
       " ('F', 'C', 0),\n",
       " ('F', 'B', 0),\n",
       " ('F', 'A', 0),\n",
       " ('C', 'B', 0),\n",
       " ('C', 'H', 0),\n",
       " ('B', 'H', 0.2),\n",
       " ('B', 'A', 0.2),\n",
       " ('H', 'A', 0.5333333333333333)]"
      ]
     },
     "execution_count": 268,
     "metadata": {},
     "output_type": "execute_result"
    }
   ],
   "source": [
    "list(nx.resource_allocation_index(Q46))"
   ]
  },
  {
   "cell_type": "code",
   "execution_count": 270,
   "metadata": {
    "scrolled": true
   },
   "outputs": [
    {
     "data": {
      "text/plain": [
       "[('D', 'C', 10),\n",
       " ('D', 'F', 5),\n",
       " ('G', 'E', 6),\n",
       " ('G', 'F', 2),\n",
       " ('G', 'B', 2),\n",
       " ('G', 'H', 6),\n",
       " ('G', 'A', 6),\n",
       " ('E', 'C', 6),\n",
       " ('E', 'B', 3),\n",
       " ('E', 'F', 3),\n",
       " ('F', 'C', 2),\n",
       " ('F', 'B', 1),\n",
       " ('F', 'A', 3),\n",
       " ('C', 'B', 2),\n",
       " ('C', 'H', 6),\n",
       " ('B', 'H', 3),\n",
       " ('B', 'A', 3),\n",
       " ('H', 'A', 9)]"
      ]
     },
     "execution_count": 270,
     "metadata": {},
     "output_type": "execute_result"
    }
   ],
   "source": [
    "list(nx.preferential_attachment(Q46))"
   ]
  },
  {
   "cell_type": "code",
   "execution_count": 295,
   "metadata": {},
   "outputs": [],
   "source": [
    "Q46 = nx.Graph()\n",
    "Q46.add_edges_from([('A', 'C'),\n",
    "                   ('A', 'D'),\n",
    "                   ('A', 'E'),\n",
    "                   ('B', 'D'),\n",
    "                   ('C', 'G'),\n",
    "                   ('D', 'G'),\n",
    "                   ('D', 'E'),\n",
    "                   ('D', 'H'), ('E', 'H'), ('F', 'H')])\n",
    "# A B C D G and E F H\n",
    "Q46.node['A']['community'] = 0\n",
    "Q46.node['B']['community'] = 0\n",
    "Q46.node['C']['community'] = 0\n",
    "Q46.node['D']['community'] = 0\n",
    "Q46.node['G']['community'] = 0\n",
    "Q46.node['E']['community'] = 1\n",
    "Q46.node['F']['community'] = 1\n",
    "Q46.node['G']['community'] = 1"
   ]
  },
  {
   "cell_type": "code",
   "execution_count": 300,
   "metadata": {},
   "outputs": [
    {
     "ename": "KeyError",
     "evalue": "'community'",
     "output_type": "error",
     "traceback": [
      "\u001b[0;31m---------------------------------------------------------------------------\u001b[0m",
      "\u001b[0;31mKeyError\u001b[0m                                  Traceback (most recent call last)",
      "\u001b[0;32m<ipython-input-300-8e98646bcc5b>\u001b[0m in \u001b[0;36m<module>\u001b[0;34m()\u001b[0m\n\u001b[0;32m----> 1\u001b[0;31m \u001b[0mQ46\u001b[0m\u001b[0;34m[\u001b[0m\u001b[0;34m'A'\u001b[0m\u001b[0;34m]\u001b[0m\u001b[0;34m[\u001b[0m\u001b[0;34m'community'\u001b[0m\u001b[0;34m]\u001b[0m\u001b[0;34m\u001b[0m\u001b[0m\n\u001b[0m",
      "\u001b[0;32m/usr/local/Cellar/python3/3.6.4_1/Frameworks/Python.framework/Versions/3.6/lib/python3.6/site-packages/networkx/classes/coreviews.py\u001b[0m in \u001b[0;36m__getitem__\u001b[0;34m(self, key)\u001b[0m\n\u001b[1;32m     53\u001b[0m \u001b[0;34m\u001b[0m\u001b[0m\n\u001b[1;32m     54\u001b[0m     \u001b[0;32mdef\u001b[0m \u001b[0m__getitem__\u001b[0m\u001b[0;34m(\u001b[0m\u001b[0mself\u001b[0m\u001b[0;34m,\u001b[0m \u001b[0mkey\u001b[0m\u001b[0;34m)\u001b[0m\u001b[0;34m:\u001b[0m\u001b[0;34m\u001b[0m\u001b[0m\n\u001b[0;32m---> 55\u001b[0;31m         \u001b[0;32mreturn\u001b[0m \u001b[0mself\u001b[0m\u001b[0;34m.\u001b[0m\u001b[0m_atlas\u001b[0m\u001b[0;34m[\u001b[0m\u001b[0mkey\u001b[0m\u001b[0;34m]\u001b[0m\u001b[0;34m\u001b[0m\u001b[0m\n\u001b[0m\u001b[1;32m     56\u001b[0m \u001b[0;34m\u001b[0m\u001b[0m\n\u001b[1;32m     57\u001b[0m     \u001b[0;32mdef\u001b[0m \u001b[0mcopy\u001b[0m\u001b[0;34m(\u001b[0m\u001b[0mself\u001b[0m\u001b[0;34m)\u001b[0m\u001b[0;34m:\u001b[0m\u001b[0;34m\u001b[0m\u001b[0m\n",
      "\u001b[0;31mKeyError\u001b[0m: 'community'"
     ]
    }
   ],
   "source": [
    "Q46['A']['community']"
   ]
  },
  {
   "cell_type": "code",
   "execution_count": 297,
   "metadata": {
    "scrolled": true
   },
   "outputs": [
    {
     "ename": "NetworkXAlgorithmError",
     "evalue": "No community information",
     "output_type": "error",
     "traceback": [
      "\u001b[0;31m---------------------------------------------------------------------------\u001b[0m",
      "\u001b[0;31mKeyError\u001b[0m                                  Traceback (most recent call last)",
      "\u001b[0;32m/usr/local/Cellar/python3/3.6.4_1/Frameworks/Python.framework/Versions/3.6/lib/python3.6/site-packages/networkx/algorithms/link_prediction.py\u001b[0m in \u001b[0;36m_community\u001b[0;34m(G, u, community)\u001b[0m\n\u001b[1;32m    494\u001b[0m     \u001b[0;32mtry\u001b[0m\u001b[0;34m:\u001b[0m\u001b[0;34m\u001b[0m\u001b[0m\n\u001b[0;32m--> 495\u001b[0;31m         \u001b[0;32mreturn\u001b[0m \u001b[0mnode_u\u001b[0m\u001b[0;34m[\u001b[0m\u001b[0mcommunity\u001b[0m\u001b[0;34m]\u001b[0m\u001b[0;34m\u001b[0m\u001b[0m\n\u001b[0m\u001b[1;32m    496\u001b[0m     \u001b[0;32mexcept\u001b[0m \u001b[0mKeyError\u001b[0m\u001b[0;34m:\u001b[0m\u001b[0;34m\u001b[0m\u001b[0m\n",
      "\u001b[0;31mKeyError\u001b[0m: 'community'",
      "\nDuring handling of the above exception, another exception occurred:\n",
      "\u001b[0;31mNetworkXAlgorithmError\u001b[0m                    Traceback (most recent call last)",
      "\u001b[0;32m<ipython-input-297-735b34515ad2>\u001b[0m in \u001b[0;36m<module>\u001b[0;34m()\u001b[0m\n\u001b[0;32m----> 1\u001b[0;31m \u001b[0mlist\u001b[0m\u001b[0;34m(\u001b[0m\u001b[0mnx\u001b[0m\u001b[0;34m.\u001b[0m\u001b[0mcn_soundarajan_hopcroft\u001b[0m\u001b[0;34m(\u001b[0m\u001b[0mQ46\u001b[0m\u001b[0;34m,\u001b[0m \u001b[0mcommunity\u001b[0m\u001b[0;34m=\u001b[0m\u001b[0;34m'community'\u001b[0m\u001b[0;34m)\u001b[0m\u001b[0;34m)\u001b[0m\u001b[0;34m\u001b[0m\u001b[0m\n\u001b[0m",
      "\u001b[0;32m/usr/local/Cellar/python3/3.6.4_1/Frameworks/Python.framework/Versions/3.6/lib/python3.6/site-packages/networkx/algorithms/link_prediction.py\u001b[0m in \u001b[0;36m<genexpr>\u001b[0;34m(.0)\u001b[0m\n\u001b[1;32m     36\u001b[0m     \u001b[0;32mif\u001b[0m \u001b[0mebunch\u001b[0m \u001b[0;32mis\u001b[0m \u001b[0;32mNone\u001b[0m\u001b[0;34m:\u001b[0m\u001b[0;34m\u001b[0m\u001b[0m\n\u001b[1;32m     37\u001b[0m         \u001b[0mebunch\u001b[0m \u001b[0;34m=\u001b[0m \u001b[0mnx\u001b[0m\u001b[0;34m.\u001b[0m\u001b[0mnon_edges\u001b[0m\u001b[0;34m(\u001b[0m\u001b[0mG\u001b[0m\u001b[0;34m)\u001b[0m\u001b[0;34m\u001b[0m\u001b[0m\n\u001b[0;32m---> 38\u001b[0;31m     \u001b[0;32mreturn\u001b[0m \u001b[0;34m(\u001b[0m\u001b[0;34m(\u001b[0m\u001b[0mu\u001b[0m\u001b[0;34m,\u001b[0m \u001b[0mv\u001b[0m\u001b[0;34m,\u001b[0m \u001b[0mfunc\u001b[0m\u001b[0;34m(\u001b[0m\u001b[0mu\u001b[0m\u001b[0;34m,\u001b[0m \u001b[0mv\u001b[0m\u001b[0;34m)\u001b[0m\u001b[0;34m)\u001b[0m \u001b[0;32mfor\u001b[0m \u001b[0mu\u001b[0m\u001b[0;34m,\u001b[0m \u001b[0mv\u001b[0m \u001b[0;32min\u001b[0m \u001b[0mebunch\u001b[0m\u001b[0;34m)\u001b[0m\u001b[0;34m\u001b[0m\u001b[0m\n\u001b[0m\u001b[1;32m     39\u001b[0m \u001b[0;34m\u001b[0m\u001b[0m\n\u001b[1;32m     40\u001b[0m \u001b[0;34m\u001b[0m\u001b[0m\n",
      "\u001b[0;32m/usr/local/Cellar/python3/3.6.4_1/Frameworks/Python.framework/Versions/3.6/lib/python3.6/site-packages/networkx/algorithms/link_prediction.py\u001b[0m in \u001b[0;36mpredict\u001b[0;34m(u, v)\u001b[0m\n\u001b[1;32m    319\u001b[0m     \u001b[0;32mdef\u001b[0m \u001b[0mpredict\u001b[0m\u001b[0;34m(\u001b[0m\u001b[0mu\u001b[0m\u001b[0;34m,\u001b[0m \u001b[0mv\u001b[0m\u001b[0;34m)\u001b[0m\u001b[0;34m:\u001b[0m\u001b[0;34m\u001b[0m\u001b[0m\n\u001b[1;32m    320\u001b[0m         \u001b[0mCu\u001b[0m \u001b[0;34m=\u001b[0m \u001b[0m_community\u001b[0m\u001b[0;34m(\u001b[0m\u001b[0mG\u001b[0m\u001b[0;34m,\u001b[0m \u001b[0mu\u001b[0m\u001b[0;34m,\u001b[0m \u001b[0mcommunity\u001b[0m\u001b[0;34m)\u001b[0m\u001b[0;34m\u001b[0m\u001b[0m\n\u001b[0;32m--> 321\u001b[0;31m         \u001b[0mCv\u001b[0m \u001b[0;34m=\u001b[0m \u001b[0m_community\u001b[0m\u001b[0;34m(\u001b[0m\u001b[0mG\u001b[0m\u001b[0;34m,\u001b[0m \u001b[0mv\u001b[0m\u001b[0;34m,\u001b[0m \u001b[0mcommunity\u001b[0m\u001b[0;34m)\u001b[0m\u001b[0;34m\u001b[0m\u001b[0m\n\u001b[0m\u001b[1;32m    322\u001b[0m         \u001b[0mcnbors\u001b[0m \u001b[0;34m=\u001b[0m \u001b[0mlist\u001b[0m\u001b[0;34m(\u001b[0m\u001b[0mnx\u001b[0m\u001b[0;34m.\u001b[0m\u001b[0mcommon_neighbors\u001b[0m\u001b[0;34m(\u001b[0m\u001b[0mG\u001b[0m\u001b[0;34m,\u001b[0m \u001b[0mu\u001b[0m\u001b[0;34m,\u001b[0m \u001b[0mv\u001b[0m\u001b[0;34m)\u001b[0m\u001b[0;34m)\u001b[0m\u001b[0;34m\u001b[0m\u001b[0m\n\u001b[1;32m    323\u001b[0m         neighbors = (sum(_community(G, w, community) == Cu for w in cnbors)\n",
      "\u001b[0;32m/usr/local/Cellar/python3/3.6.4_1/Frameworks/Python.framework/Versions/3.6/lib/python3.6/site-packages/networkx/algorithms/link_prediction.py\u001b[0m in \u001b[0;36m_community\u001b[0;34m(G, u, community)\u001b[0m\n\u001b[1;32m    495\u001b[0m         \u001b[0;32mreturn\u001b[0m \u001b[0mnode_u\u001b[0m\u001b[0;34m[\u001b[0m\u001b[0mcommunity\u001b[0m\u001b[0;34m]\u001b[0m\u001b[0;34m\u001b[0m\u001b[0m\n\u001b[1;32m    496\u001b[0m     \u001b[0;32mexcept\u001b[0m \u001b[0mKeyError\u001b[0m\u001b[0;34m:\u001b[0m\u001b[0;34m\u001b[0m\u001b[0m\n\u001b[0;32m--> 497\u001b[0;31m         \u001b[0;32mraise\u001b[0m \u001b[0mnx\u001b[0m\u001b[0;34m.\u001b[0m\u001b[0mNetworkXAlgorithmError\u001b[0m\u001b[0;34m(\u001b[0m\u001b[0;34m'No community information'\u001b[0m\u001b[0;34m)\u001b[0m\u001b[0;34m\u001b[0m\u001b[0m\n\u001b[0m",
      "\u001b[0;31mNetworkXAlgorithmError\u001b[0m: No community information"
     ]
    }
   ],
   "source": [
    "list(nx.cn_soundarajan_hopcroft(Q46, community='community'))"
   ]
  },
  {
   "cell_type": "code",
   "execution_count": 294,
   "metadata": {},
   "outputs": [
    {
     "name": "stdout",
     "output_type": "stream",
     "text": [
      "(0, 2) -> 2\n"
     ]
    }
   ],
   "source": [
    "Gx = nx.path_graph(3)\n",
    "Gx.node[0]['community'] = 0\n",
    "Gx.node[1]['community'] = 0\n",
    "Gx.node[2]['community'] = 0\n",
    "preds = nx.cn_soundarajan_hopcroft(Gx, [(0, 2)])\n",
    "for u, v, p in preds:\n",
    "    print('(%d, %d) -> %d' % (u, v, p))"
   ]
  },
  {
   "cell_type": "code",
   "execution_count": null,
   "metadata": {
    "collapsed": true
   },
   "outputs": [],
   "source": []
  },
  {
   "cell_type": "code",
   "execution_count": null,
   "metadata": {
    "collapsed": true
   },
   "outputs": [],
   "source": []
  }
 ],
 "metadata": {
  "kernelspec": {
   "display_name": "Python 3",
   "language": "python",
   "name": "python3"
  },
  "language_info": {
   "codemirror_mode": {
    "name": "ipython",
    "version": 3
   },
   "file_extension": ".py",
   "mimetype": "text/x-python",
   "name": "python",
   "nbconvert_exporter": "python",
   "pygments_lexer": "ipython3",
   "version": "3.6.4"
  }
 },
 "nbformat": 4,
 "nbformat_minor": 2
}
