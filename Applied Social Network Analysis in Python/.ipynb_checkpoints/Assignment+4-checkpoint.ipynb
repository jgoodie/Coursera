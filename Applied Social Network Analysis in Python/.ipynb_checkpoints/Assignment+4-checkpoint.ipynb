{
 "cells": [
  {
   "cell_type": "markdown",
   "metadata": {},
   "source": [
    "---\n",
    "\n",
    "_You are currently looking at **version 1.2** of this notebook. To download notebooks and datafiles, as well as get help on Jupyter notebooks in the Coursera platform, visit the [Jupyter Notebook FAQ](https://www.coursera.org/learn/python-social-network-analysis/resources/yPcBs) course resource._\n",
    "\n",
    "---"
   ]
  },
  {
   "cell_type": "markdown",
   "metadata": {},
   "source": [
    "# Assignment 4"
   ]
  },
  {
   "cell_type": "code",
   "execution_count": null,
   "metadata": {
    "collapsed": true
   },
   "outputs": [],
   "source": [
    "# Running on laptop you need to load the csv files created below.\n",
    "# Remember that networkx 2.0 doesn't support the pickle files created by Mich U's use of networkx 1.0 \n",
    "# Networkx 2 is not backwards compatible with Networkx 1 pickle files"
   ]
  },
  {
   "cell_type": "code",
   "execution_count": 1,
   "metadata": {},
   "outputs": [],
   "source": [
    "import networkx as nx\n",
    "import pandas as pd\n",
    "import numpy as np\n",
    "import pickle\n",
    "import matplotlib.pyplot as plt\n",
    "%matplotlib inline"
   ]
  },
  {
   "cell_type": "markdown",
   "metadata": {},
   "source": [
    "---\n",
    "\n",
    "## Part 1 - Random Graph Identification\n",
    "\n",
    "For the first part of this assignment you will analyze randomly generated graphs and determine which algorithm created them."
   ]
  },
  {
   "cell_type": "code",
   "execution_count": 2,
   "metadata": {
    "scrolled": true
   },
   "outputs": [
    {
     "data": {
      "text/plain": [
       "[<networkx.classes.graph.Graph at 0x7f973872fc18>,\n",
       " <networkx.classes.graph.Graph at 0x7f96f4bb39b0>,\n",
       " <networkx.classes.graph.Graph at 0x7f96f4bb3940>,\n",
       " <networkx.classes.graph.Graph at 0x7f96f4bb38d0>,\n",
       " <networkx.classes.graph.Graph at 0x7f96f4bb3978>]"
      ]
     },
     "execution_count": 2,
     "metadata": {},
     "output_type": "execute_result"
    }
   ],
   "source": [
    "P1_Graphs = pickle.load(open('A4_graphs','rb'))\n",
    "P1_Graphs"
   ]
  },
  {
   "cell_type": "code",
   "execution_count": 3,
   "metadata": {
    "collapsed": true
   },
   "outputs": [],
   "source": [
    "def degree_distribution(G):\n",
    "    degrees = G.degree()\n",
    "    degree_values = sorted(set(degrees.values()))\n",
    "    histogram = [list(degrees.values()).count(i)/float(nx.number_of_nodes( G)) for i in degree_values]\n",
    "    return histogram"
   ]
  },
  {
   "cell_type": "code",
   "execution_count": 4,
   "metadata": {
    "collapsed": true
   },
   "outputs": [],
   "source": [
    "#nx.info(P1_Graphs[0]) # barabasi_albert_graph is a Pref Attachment Graph"
   ]
  },
  {
   "cell_type": "code",
   "execution_count": 5,
   "metadata": {
    "collapsed": true,
    "scrolled": true
   },
   "outputs": [],
   "source": [
    "#nx.info(P1_Graphs[1]) # watts_strogatz_graph is a small world graph. This has low rewiring prob"
   ]
  },
  {
   "cell_type": "code",
   "execution_count": 6,
   "metadata": {
    "collapsed": true,
    "scrolled": true
   },
   "outputs": [],
   "source": [
    "#nx.info(P1_Graphs[2]) # watts_strogatz_graph is a small world graph. This has low rewiring prob"
   ]
  },
  {
   "cell_type": "code",
   "execution_count": 7,
   "metadata": {
    "collapsed": true,
    "scrolled": true
   },
   "outputs": [],
   "source": [
    "#nx.info(P1_Graphs[3]) # barabasi_albert_graph is a Pref Attachment Graph"
   ]
  },
  {
   "cell_type": "code",
   "execution_count": 8,
   "metadata": {
    "collapsed": true
   },
   "outputs": [],
   "source": [
    "#nx.info(P1_Graphs[4])  # watts_strogatz_graph is a small world graph. This has high rewiring prob"
   ]
  },
  {
   "cell_type": "code",
   "execution_count": 9,
   "metadata": {
    "collapsed": true
   },
   "outputs": [],
   "source": [
    "#foo = nx.info(P1_Graphs[1]).split()[1]"
   ]
  },
  {
   "cell_type": "code",
   "execution_count": 4,
   "metadata": {
    "collapsed": true
   },
   "outputs": [],
   "source": [
    "#foo"
   ]
  },
  {
   "cell_type": "code",
   "execution_count": 18,
   "metadata": {
    "collapsed": true
   },
   "outputs": [],
   "source": [
    "#s[s.find(\"(\")+1:s.find(\")\")]\n",
    "#import re\n",
    "\n",
    "#s = \"alpha.Customer[cus_Y4o9qMEZAugtnW] ...\"\n",
    "#m = re.search(r\"\\[([A-Za-z0-9_]+)\\]\", s)\n",
    "#m = re.search(r\"\\[(\\w+)\\]\", s)\n",
    "#print m.group(1)"
   ]
  },
  {
   "cell_type": "code",
   "execution_count": 5,
   "metadata": {
    "collapsed": true
   },
   "outputs": [],
   "source": [
    "#import re\n",
    "#re.findall(\"([A-Za-z0-9_.]+)\", foo)"
   ]
  },
  {
   "cell_type": "code",
   "execution_count": 6,
   "metadata": {
    "collapsed": true
   },
   "outputs": [],
   "source": [
    "#import re\n",
    "#import numpy as np\n",
    "#res = []\n",
    "#for i in np.arange(len(P1_Graphs)):\n",
    "#    g = nx.info(P1_Graphs[i]).split()\n",
    "#    if 'watts' in g[1]: # Small world\n",
    "#        m = re.findall(\"([A-Za-z0-9_.]+)\", g[1])\n",
    "#        if np.float(m[3]) < 1:\n",
    "#            res.append('SW_L')\n",
    "#        else:\n",
    "#            res.append('SW_H')\n",
    "#    elif 'barabasi' in g[1]: # Pref Attach\n",
    "#        res.append('PA')\n",
    "#"
   ]
  },
  {
   "cell_type": "code",
   "execution_count": 7,
   "metadata": {
    "collapsed": true
   },
   "outputs": [],
   "source": [
    "#res"
   ]
  },
  {
   "cell_type": "code",
   "execution_count": 8,
   "metadata": {
    "collapsed": true
   },
   "outputs": [],
   "source": [
    "#import numpy as np\n",
    "#for i in np.arange(len(P1_Graphs)):\n",
    "#    print(P1_Graphs[i])"
   ]
  },
  {
   "cell_type": "markdown",
   "metadata": {},
   "source": [
    "<br>\n",
    "`P1_Graphs` is a list containing 5 networkx graphs. Each of these graphs were generated by one of three possible algorithms:\n",
    "* Preferential Attachment (`'PA'`)\n",
    "* Small World with low probability of rewiring (`'SW_L'`)\n",
    "* Small World with high probability of rewiring (`'SW_H'`)\n",
    "\n",
    "Anaylze each of the 5 graphs and determine which of the three algorithms generated the graph.\n",
    "\n",
    "*The `graph_identification` function should return a list of length 5 where each element in the list is either `'PA'`, `'SW_L'`, or `'SW_H'`.*"
   ]
  },
  {
   "cell_type": "code",
   "execution_count": 29,
   "metadata": {
    "collapsed": true
   },
   "outputs": [],
   "source": [
    "def jpg_graph_identification():\n",
    "    import re\n",
    "    import numpy as np\n",
    "    res = []\n",
    "    for i in np.arange(len(P1_Graphs)):\n",
    "        g = nx.info(P1_Graphs[i]).split()\n",
    "        if 'watts' in g[1]: # Small world\n",
    "            m = re.findall(\"([A-Za-z0-9_.]+)\", g[1])\n",
    "            if np.float(m[3]) < 1:\n",
    "                res.append('SW_L')\n",
    "            else:\n",
    "                res.append('SW_H')\n",
    "        elif 'barabasi' in g[1]: # Pref Attach\n",
    "            res.append('PA')\n",
    "    return(res)"
   ]
  },
  {
   "cell_type": "code",
   "execution_count": 30,
   "metadata": {},
   "outputs": [
    {
     "data": {
      "text/plain": [
       "['PA', 'SW_L', 'SW_L', 'PA', 'SW_H']"
      ]
     },
     "execution_count": 30,
     "metadata": {},
     "output_type": "execute_result"
    }
   ],
   "source": [
    "jpg_graph_identification()"
   ]
  },
  {
   "cell_type": "code",
   "execution_count": 6,
   "metadata": {
    "collapsed": true
   },
   "outputs": [],
   "source": [
    "def mp_graph_identification():\n",
    "    methods = []\n",
    "    for G in P1_Graphs:\n",
    "        clustering = nx.average_clustering(G)\n",
    "        shortest_path = nx.average_shortest_path_length(G)\n",
    "        degree_hist = degree_distribution(G)\n",
    "        if len(degree_hist)>10:\n",
    "            methods.append('PA')\n",
    "        elif clustering < 0.1:\n",
    "            methods.append('SW_H')\n",
    "        else:\n",
    "            methods.append('SW_L')\n",
    "    return methods\n",
    "#graph_identification()"
   ]
  },
  {
   "cell_type": "markdown",
   "metadata": {},
   "source": [
    "---\n",
    "\n",
    "## Part 2 - Company Emails\n",
    "\n",
    "For the second part of this assignment you will be workking with a company's email network where each node corresponds to a person at the company, and each edge indicates that at least one email has been sent between two people.\n",
    "\n",
    "The network also contains the node attributes `Department` and `ManagementSalary`.\n",
    "\n",
    "`Department` indicates the department in the company which the person belongs to, and `ManagementSalary` indicates whether that person is receiving a management position salary."
   ]
  },
  {
   "cell_type": "code",
   "execution_count": 31,
   "metadata": {
    "scrolled": true
   },
   "outputs": [
    {
     "name": "stdout",
     "output_type": "stream",
     "text": [
      "Name: \n",
      "Type: Graph\n",
      "Number of nodes: 1005\n",
      "Number of edges: 16706\n",
      "Average degree:  33.2458\n"
     ]
    }
   ],
   "source": [
    "G = nx.read_gpickle('email_prediction.txt')\n",
    "\n",
    "print(nx.info(G))"
   ]
  },
  {
   "cell_type": "code",
   "execution_count": 32,
   "metadata": {
    "collapsed": true
   },
   "outputs": [],
   "source": [
    "from sklearn.svm import SVC\n",
    "from sklearn.model_selection import GridSearchCV\n",
    "from sklearn.linear_model import LogisticRegression\n",
    "from sklearn.neural_network import MLPClassifier\n",
    "from sklearn.preprocessing import MinMaxScaler\n",
    "from sklearn.model_selection import train_test_split\n",
    "from sklearn.metrics import confusion_matrix, classification_report\n",
    "from sklearn.metrics import roc_curve, auc\n",
    "df = pd.DataFrame(index=G.nodes())\n",
    "df['Department'] = pd.Series(nx.get_node_attributes(G, 'Department'))\n",
    "df['ManagementSalary'] = pd.Series(pd.Series(nx.get_node_attributes(G, 'ManagementSalary')))\n",
    "df['degree'] = pd.Series(pd.Series(G.degree()))\n",
    "df['deg_cent'] = pd.Series(nx.degree_centrality(G))\n",
    "df['close_cent'] = pd.Series(nx.closeness_centrality(G, normalized=True))\n",
    "df['between_cent'] = pd.Series(nx.betweenness_centrality(G, normalized=True))\n",
    "df['page_rank'] = pd.Series(nx.pagerank(G))\n",
    "hubs = nx.hits(G, normalized=True)[0]\n",
    "auth = nx.hits(G, normalized=True)[1]\n",
    "df['hubs'] = pd.Series(hubs)\n",
    "df['auth'] = pd.Series(auth)\n",
    "df_holdout = df[df['ManagementSalary'].isnull()]\n",
    "df_filtered = df[df['ManagementSalary'].notnull()]"
   ]
  },
  {
   "cell_type": "code",
   "execution_count": 27,
   "metadata": {
    "collapsed": true
   },
   "outputs": [],
   "source": [
    "# Running on laptop you can load from here. \n",
    "# Remember that networkx 2.0 doesn't support the pickle files created by Mich U's use of networkx 1.0 \n",
    "# Networkx 2 is not backwards compatible with Networkx 1 pickle files\n",
    "#df.to_csv('assignment4_2a.csv')"
   ]
  },
  {
   "cell_type": "code",
   "execution_count": 33,
   "metadata": {
    "collapsed": true
   },
   "outputs": [],
   "source": [
    "X_holdout = df_holdout.drop(labels='ManagementSalary', axis=1)"
   ]
  },
  {
   "cell_type": "code",
   "execution_count": 34,
   "metadata": {},
   "outputs": [
    {
     "data": {
      "text/html": [
       "<div>\n",
       "<style>\n",
       "    .dataframe thead tr:only-child th {\n",
       "        text-align: right;\n",
       "    }\n",
       "\n",
       "    .dataframe thead th {\n",
       "        text-align: left;\n",
       "    }\n",
       "\n",
       "    .dataframe tbody tr th {\n",
       "        vertical-align: top;\n",
       "    }\n",
       "</style>\n",
       "<table border=\"1\" class=\"dataframe\">\n",
       "  <thead>\n",
       "    <tr style=\"text-align: right;\">\n",
       "      <th></th>\n",
       "      <th>Department</th>\n",
       "      <th>degree</th>\n",
       "      <th>deg_cent</th>\n",
       "      <th>close_cent</th>\n",
       "      <th>between_cent</th>\n",
       "      <th>page_rank</th>\n",
       "      <th>hubs</th>\n",
       "      <th>auth</th>\n",
       "    </tr>\n",
       "  </thead>\n",
       "  <tbody>\n",
       "    <tr>\n",
       "      <th>1</th>\n",
       "      <td>1</td>\n",
       "      <td>52</td>\n",
       "      <td>0.051793</td>\n",
       "      <td>0.422360</td>\n",
       "      <td>0.001195</td>\n",
       "      <td>0.001426</td>\n",
       "      <td>0.001472</td>\n",
       "      <td>0.001472</td>\n",
       "    </tr>\n",
       "    <tr>\n",
       "      <th>2</th>\n",
       "      <td>21</td>\n",
       "      <td>95</td>\n",
       "      <td>0.094622</td>\n",
       "      <td>0.461490</td>\n",
       "      <td>0.006570</td>\n",
       "      <td>0.002605</td>\n",
       "      <td>0.002680</td>\n",
       "      <td>0.002680</td>\n",
       "    </tr>\n",
       "    <tr>\n",
       "      <th>5</th>\n",
       "      <td>25</td>\n",
       "      <td>171</td>\n",
       "      <td>0.170319</td>\n",
       "      <td>0.501484</td>\n",
       "      <td>0.030995</td>\n",
       "      <td>0.004914</td>\n",
       "      <td>0.004011</td>\n",
       "      <td>0.004011</td>\n",
       "    </tr>\n",
       "    <tr>\n",
       "      <th>8</th>\n",
       "      <td>14</td>\n",
       "      <td>37</td>\n",
       "      <td>0.036853</td>\n",
       "      <td>0.413151</td>\n",
       "      <td>0.000557</td>\n",
       "      <td>0.001059</td>\n",
       "      <td>0.000791</td>\n",
       "      <td>0.000791</td>\n",
       "    </tr>\n",
       "    <tr>\n",
       "      <th>14</th>\n",
       "      <td>4</td>\n",
       "      <td>80</td>\n",
       "      <td>0.079681</td>\n",
       "      <td>0.442068</td>\n",
       "      <td>0.003726</td>\n",
       "      <td>0.002166</td>\n",
       "      <td>0.001856</td>\n",
       "      <td>0.001856</td>\n",
       "    </tr>\n",
       "  </tbody>\n",
       "</table>\n",
       "</div>"
      ],
      "text/plain": [
       "    Department  degree  deg_cent  close_cent  between_cent  page_rank  \\\n",
       "1            1      52  0.051793    0.422360      0.001195   0.001426   \n",
       "2           21      95  0.094622    0.461490      0.006570   0.002605   \n",
       "5           25     171  0.170319    0.501484      0.030995   0.004914   \n",
       "8           14      37  0.036853    0.413151      0.000557   0.001059   \n",
       "14           4      80  0.079681    0.442068      0.003726   0.002166   \n",
       "\n",
       "        hubs      auth  \n",
       "1   0.001472  0.001472  \n",
       "2   0.002680  0.002680  \n",
       "5   0.004011  0.004011  \n",
       "8   0.000791  0.000791  \n",
       "14  0.001856  0.001856  "
      ]
     },
     "execution_count": 34,
     "metadata": {},
     "output_type": "execute_result"
    }
   ],
   "source": [
    "X_holdout.head()"
   ]
  },
  {
   "cell_type": "code",
   "execution_count": 35,
   "metadata": {
    "collapsed": true
   },
   "outputs": [],
   "source": [
    "X = df_filtered.drop(labels='ManagementSalary',axis=1)\n",
    "y = df_filtered['ManagementSalary']"
   ]
  },
  {
   "cell_type": "code",
   "execution_count": 36,
   "metadata": {
    "collapsed": true
   },
   "outputs": [],
   "source": [
    "X_train, X_test, y_train, y_test = train_test_split(X, y, test_size=0.33, random_state=42)"
   ]
  },
  {
   "cell_type": "code",
   "execution_count": 37,
   "metadata": {
    "scrolled": true
   },
   "outputs": [
    {
     "name": "stdout",
     "output_type": "stream",
     "text": [
      "[[211   4]\n",
      " [ 16  18]]\n",
      "             precision    recall  f1-score   support\n",
      "\n",
      "        0.0       0.93      0.98      0.95       215\n",
      "        1.0       0.82      0.53      0.64        34\n",
      "\n",
      "avg / total       0.91      0.92      0.91       249\n",
      "\n"
     ]
    }
   ],
   "source": [
    "lr = LogisticRegression(C=100, penalty='l1')\n",
    "lr.fit(X_train, y_train)\n",
    "pred = lr.predict(X_test)\n",
    "print(confusion_matrix(y_test, pred))\n",
    "print(classification_report(y_test, pred))"
   ]
  },
  {
   "cell_type": "code",
   "execution_count": 38,
   "metadata": {},
   "outputs": [
    {
     "data": {
      "image/png": "[encoded data removed]",
      "text/plain": [
       "<matplotlib.figure.Figure at 0x7f96eaad6e10>"
      ]
     },
     "metadata": {},
     "output_type": "display_data"
    }
   ],
   "source": [
    "y_score_lr = lr.fit(X_train, y_train).decision_function(X_test)\n",
    "fpr_lr, tpr_lr, _ = roc_curve(y_test, y_score_lr)\n",
    "roc_auc_lr = auc(fpr_lr, tpr_lr)\n",
    "plt.figure(figsize=(10,8))\n",
    "plt.xlim([-0.01, 1.00])\n",
    "plt.ylim([-0.01, 1.01])\n",
    "plt.plot(fpr_lr, tpr_lr, lw=3, label='LogRegr ROC curve (area = {:0.2f})'.format(roc_auc_lr))\n",
    "plt.xlabel('False Positive Rate', fontsize=16)\n",
    "plt.ylabel('True Positive Rate', fontsize=16)\n",
    "plt.title('ROC curve (1-of-10 digits classifier)', fontsize=16)\n",
    "plt.legend(loc='lower right', fontsize=13)\n",
    "plt.plot([0, 1], [0, 1], color='navy', lw=3, linestyle='--')\n",
    "plt.axes().set_aspect('equal')\n",
    "plt.show()"
   ]
  },
  {
   "cell_type": "code",
   "execution_count": 39,
   "metadata": {},
   "outputs": [
    {
     "data": {
      "text/plain": [
       "252"
      ]
     },
     "execution_count": 39,
     "metadata": {},
     "output_type": "execute_result"
    }
   ],
   "source": [
    "len(lr.predict_proba(X_holdout)[0:,1])"
   ]
  },
  {
   "cell_type": "code",
   "execution_count": 40,
   "metadata": {},
   "outputs": [
    {
     "data": {
      "text/plain": [
       "GridSearchCV(cv=3, error_score='raise',\n",
       "       estimator=LogisticRegression(C=1.0, class_weight=None, dual=False, fit_intercept=True,\n",
       "          intercept_scaling=1, max_iter=100, multi_class='ovr', n_jobs=1,\n",
       "          penalty='l2', random_state=None, solver='liblinear', tol=0.0001,\n",
       "          verbose=0, warm_start=False),\n",
       "       fit_params={}, iid=True, n_jobs=1,\n",
       "       param_grid={'C': [0.0001, 0.001, 0.01, 0.1, 1, 10, 100, 1000], 'penalty': ['l1', 'l2']},\n",
       "       pre_dispatch='2*n_jobs', refit=True, return_train_score=True,\n",
       "       scoring=None, verbose=0)"
      ]
     },
     "execution_count": 40,
     "metadata": {},
     "output_type": "execute_result"
    }
   ],
   "source": [
    "lr = LogisticRegression()\n",
    "param_grid = {'C':[0.0001,0.001,0.01,0.1,1,10,100,1000], 'penalty':['l1','l2']}\n",
    "grid = GridSearchCV(estimator=lr, param_grid=param_grid, cv=3, refit=True)\n",
    "grid.fit(X_train, y_train)"
   ]
  },
  {
   "cell_type": "code",
   "execution_count": 41,
   "metadata": {
    "scrolled": true
   },
   "outputs": [
    {
     "data": {
      "text/plain": [
       "LogisticRegression(C=100, class_weight=None, dual=False, fit_intercept=True,\n",
       "          intercept_scaling=1, max_iter=100, multi_class='ovr', n_jobs=1,\n",
       "          penalty='l1', random_state=None, solver='liblinear', tol=0.0001,\n",
       "          verbose=0, warm_start=False)"
      ]
     },
     "execution_count": 41,
     "metadata": {},
     "output_type": "execute_result"
    }
   ],
   "source": [
    "grid.best_estimator_"
   ]
  },
  {
   "cell_type": "code",
   "execution_count": 42,
   "metadata": {
    "scrolled": true
   },
   "outputs": [
    {
     "data": {
      "text/plain": [
       "{'C': 100, 'penalty': 'l1'}"
      ]
     },
     "execution_count": 42,
     "metadata": {},
     "output_type": "execute_result"
    }
   ],
   "source": [
    "grid.best_params_"
   ]
  },
  {
   "cell_type": "code",
   "execution_count": 43,
   "metadata": {
    "scrolled": false
   },
   "outputs": [
    {
     "name": "stdout",
     "output_type": "stream",
     "text": [
      "[[203  12]\n",
      " [ 34   0]]\n",
      "             precision    recall  f1-score   support\n",
      "\n",
      "        0.0       0.86      0.94      0.90       215\n",
      "        1.0       0.00      0.00      0.00        34\n",
      "\n",
      "avg / total       0.74      0.82      0.78       249\n",
      "\n"
     ]
    }
   ],
   "source": [
    "svm = SVC()\n",
    "svm.fit(X_train, y_train)\n",
    "pred_svm = svm.predict(X_test)\n",
    "print(confusion_matrix(y_test, pred_svm))\n",
    "print(classification_report(y_test, pred_svm))"
   ]
  },
  {
   "cell_type": "code",
   "execution_count": 44,
   "metadata": {
    "scrolled": false
   },
   "outputs": [
    {
     "data": {
      "text/plain": [
       "GridSearchCV(cv=None, error_score='raise',\n",
       "       estimator=SVC(C=1.0, cache_size=200, class_weight=None, coef0=0.0,\n",
       "  decision_function_shape=None, degree=3, gamma='auto', kernel='rbf',\n",
       "  max_iter=-1, probability=False, random_state=None, shrinking=True,\n",
       "  tol=0.001, verbose=False),\n",
       "       fit_params={}, iid=True, n_jobs=1,\n",
       "       param_grid={'C': [0.01, 0.1, 1, 10, 100, 1000], 'gamma': [10, 1, 0.1, 0.01, 0.001, 0.0001]},\n",
       "       pre_dispatch='2*n_jobs', refit=True, return_train_score=True,\n",
       "       scoring=None, verbose=0)"
      ]
     },
     "execution_count": 44,
     "metadata": {},
     "output_type": "execute_result"
    }
   ],
   "source": [
    "param_grid = {'C':[0.01,0.1,1,10,100,1000], \n",
    "              'gamma':[10,1,0.1,0.01,0.001,0.0001]}\n",
    "grid = GridSearchCV(estimator=SVC(), param_grid=param_grid, verbose=0, refit=True)\n",
    "grid.fit(X_train, y_train)"
   ]
  },
  {
   "cell_type": "code",
   "execution_count": 45,
   "metadata": {
    "scrolled": true
   },
   "outputs": [
    {
     "data": {
      "text/plain": [
       "{'C': 1, 'gamma': 0.001}"
      ]
     },
     "execution_count": 45,
     "metadata": {},
     "output_type": "execute_result"
    }
   ],
   "source": [
    "grid.best_params_"
   ]
  },
  {
   "cell_type": "code",
   "execution_count": 46,
   "metadata": {
    "scrolled": true
   },
   "outputs": [
    {
     "data": {
      "text/plain": [
       "SVC(C=1, cache_size=200, class_weight=None, coef0=0.0,\n",
       "  decision_function_shape=None, degree=3, gamma=0.001, kernel='rbf',\n",
       "  max_iter=-1, probability=False, random_state=None, shrinking=True,\n",
       "  tol=0.001, verbose=False)"
      ]
     },
     "execution_count": 46,
     "metadata": {},
     "output_type": "execute_result"
    }
   ],
   "source": [
    "grid.best_estimator_"
   ]
  },
  {
   "cell_type": "code",
   "execution_count": 47,
   "metadata": {
    "collapsed": true
   },
   "outputs": [],
   "source": [
    "grid_predictions = grid.predict(X_test)"
   ]
  },
  {
   "cell_type": "code",
   "execution_count": 48,
   "metadata": {
    "scrolled": true
   },
   "outputs": [
    {
     "name": "stdout",
     "output_type": "stream",
     "text": [
      "[[209   6]\n",
      " [ 19  15]]\n",
      "             precision    recall  f1-score   support\n",
      "\n",
      "        0.0       0.92      0.97      0.94       215\n",
      "        1.0       0.71      0.44      0.55        34\n",
      "\n",
      "avg / total       0.89      0.90      0.89       249\n",
      "\n"
     ]
    }
   ],
   "source": [
    "print(confusion_matrix(y_test, grid_predictions))\n",
    "print(classification_report(y_test, grid_predictions))"
   ]
  },
  {
   "cell_type": "code",
   "execution_count": 49,
   "metadata": {
    "scrolled": false
   },
   "outputs": [
    {
     "data": {
      "image/png": "[encoded data removed]",
      "text/plain": [
       "<matplotlib.figure.Figure at 0x7f96f6ef6b00>"
      ]
     },
     "metadata": {},
     "output_type": "display_data"
    }
   ],
   "source": [
    "y_score_grid = grid.fit(X_train, y_train).decision_function(X_test)\n",
    "fpr_grid, tpr_grid, _ = roc_curve(y_test, y_score_grid)\n",
    "roc_auc_grid = auc(fpr_grid, tpr_grid)\n",
    "plt.figure(figsize=(10,8))\n",
    "plt.xlim([-0.01, 1.00])\n",
    "plt.ylim([-0.01, 1.01])\n",
    "plt.plot(fpr_grid, tpr_grid, lw=3, label='LogRegr ROC curve (area = {:0.2f})'.format(roc_auc_grid))\n",
    "plt.xlabel('False Positive Rate', fontsize=16)\n",
    "plt.ylabel('True Positive Rate', fontsize=16)\n",
    "plt.title('ROC curve (1-of-10 digits classifier)', fontsize=16)\n",
    "plt.legend(loc='lower right', fontsize=13)\n",
    "plt.plot([0, 1], [0, 1], color='navy', lw=3, linestyle='--')\n",
    "plt.axes().set_aspect('equal')\n",
    "plt.show()"
   ]
  },
  {
   "cell_type": "code",
   "execution_count": 50,
   "metadata": {
    "scrolled": true
   },
   "outputs": [
    {
     "name": "stdout",
     "output_type": "stream",
     "text": [
      "[[210   5]\n",
      " [ 19  15]]\n",
      "             precision    recall  f1-score   support\n",
      "\n",
      "        0.0       0.92      0.98      0.95       215\n",
      "        1.0       0.75      0.44      0.56        34\n",
      "\n",
      "avg / total       0.89      0.90      0.89       249\n",
      "\n"
     ]
    }
   ],
   "source": [
    "clf = MLPClassifier(hidden_layer_sizes = [100, 50, 10], alpha = 5,\n",
    "                       random_state = 0, solver='lbfgs', verbose=1)\n",
    "clf.fit(X_train, y_train)\n",
    "mlp_predictions = clf.predict(X_test)\n",
    "test_proba = clf.predict_proba(X_holdout)[:, 1]\n",
    "print(confusion_matrix(y_test, mlp_predictions))\n",
    "print(classification_report(y_test, mlp_predictions))"
   ]
  },
  {
   "cell_type": "code",
   "execution_count": 64,
   "metadata": {
    "collapsed": true
   },
   "outputs": [],
   "source": [
    "#G.nodes(data=True)"
   ]
  },
  {
   "cell_type": "markdown",
   "metadata": {},
   "source": [
    "### Part 2A - Salary Prediction\n",
    "\n",
    "Using network `G`, identify the people in the network with missing values for the node attribute `ManagementSalary` and predict whether or not these individuals are receiving a management position salary.\n",
    "\n",
    "To accomplish this, you will need to create a matrix of node features using networkx, train a sklearn classifier on nodes that have `ManagementSalary` data, and predict a probability of the node receiving a management salary for nodes where `ManagementSalary` is missing.\n",
    "\n",
    "\n",
    "\n",
    "Your predictions will need to be given as the probability that the corresponding employee is receiving a management position salary.\n",
    "\n",
    "The evaluation metric for this assignment is the Area Under the ROC Curve (AUC).\n",
    "\n",
    "Your grade will be based on the AUC score computed for your classifier. A model which with an AUC of 0.88 or higher will receive full points, and with an AUC of 0.82 or higher will pass (get 80% of the full points).\n",
    "\n",
    "Using your trained classifier, return a series of length 252 with the data being the probability of receiving management salary, and the index being the node id.\n",
    "\n",
    "    Example:\n",
    "    \n",
    "        1       1.0\n",
    "        2       0.0\n",
    "        5       0.8\n",
    "        8       1.0\n",
    "            ...\n",
    "        996     0.7\n",
    "        1000    0.5\n",
    "        1001    0.0\n",
    "        Length: 252, dtype: float64"
   ]
  },
  {
   "cell_type": "code",
   "execution_count": 35,
   "metadata": {
    "collapsed": true
   },
   "outputs": [],
   "source": [
    "#from sklearn.svm import SVC\n",
    "#from sklearn.neural_network import MLPClassifier\n",
    "#from sklearn.preprocessing import MinMaxScaler\n",
    "#def salary_predictions():\n",
    "#    def is_management(node):\n",
    "#        managementSalary = node[1]['ManagementSalary']\n",
    "#        if managementSalary == 0:\n",
    "#            return 0\n",
    "#        elif managementSalary == 1:\n",
    "#            return 1\n",
    "#        else:\n",
    "#            return None\n",
    "#\n",
    "#    df = pd.DataFrame(index=G.nodes())\n",
    "#    df['clustering'] = pd.Series(nx.clustering(G))\n",
    "#    df['degree'] = pd.Series(G.degree())\n",
    "#    df['degree_centrality'] = pd.Series(nx.degree_centrality(G))\n",
    "#    df['closeness'] = pd.Series(nx.closeness_centrality(G, normalized=True))\n",
    "#    df['betweeness'] = pd.Series(nx.betweenness_centrality(G, normalized=True))\n",
    "#    df['pr'] = pd.Series(nx.pagerank(G))\n",
    "#    df['is_management'] = pd.Series([is_management(node) for node in G.nodes(data=True)])\n",
    "#    df_train = df[~pd.isnull(df['is_management'])]\n",
    "#    df_test = df[pd.isnull(df['is_management'])]\n",
    "#    features = ['clustering', 'degree', 'degree_centrality', 'closeness', 'betweeness', 'pr']\n",
    "#    X_train = df_train[features]\n",
    "#    Y_train = df_train['is_management']\n",
    "#    X_test = df_test[features]\n",
    "#    scaler = MinMaxScaler()\n",
    "#    X_train_scaled = scaler.fit_transform(X_train)\n",
    "#    X_test_scaled = scaler.transform(X_test)\n",
    "#    clf = MLPClassifier(hidden_layer_sizes = [10, 5], alpha = 5,\n",
    "#                       random_state = 0, solver='lbfgs', verbose=0)\n",
    "#    clf.fit(X_train_scaled, Y_train)\n",
    "#    mlp_predictions = clf.predict(X_test)\n",
    "#    test_proba = clf.predict_proba(X_test_scaled)[:, 1]\n",
    "#    print(confusion_matrix(y_test, mlp_predictions))\n",
    "#    print(classification_report(y_test, mlp_predictions))\n",
    "#    return pd.Series(test_proba,X_test.index)\n",
    "#prediction = salary_predictions()"
   ]
  },
  {
   "cell_type": "markdown",
   "metadata": {},
   "source": [
    "### Part 2B - New Connections Prediction\n",
    "\n",
    "For the last part of this assignment, you will predict future connections between employees of the network. The future connections information has been loaded into the variable `future_connections`. The index is a tuple indicating a pair of nodes that currently do not have a connection, and the `Future Connection` column indicates if an edge between those two nodes will exist in the future, where a value of 1.0 indicates a future connection."
   ]
  },
  {
   "cell_type": "code",
   "execution_count": 51,
   "metadata": {
    "scrolled": true
   },
   "outputs": [
    {
     "data": {
      "text/plain": [
       "(488446, 1)"
      ]
     },
     "execution_count": 51,
     "metadata": {},
     "output_type": "execute_result"
    }
   ],
   "source": [
    "future_connections = pd.read_csv('Future_Connections.csv', index_col=0, converters={0: eval})\n",
    "future_connections.shape"
   ]
  },
  {
   "cell_type": "code",
   "execution_count": 81,
   "metadata": {
    "collapsed": true
   },
   "outputs": [],
   "source": [
    "#future_connections[future_connections['Future Connection'].isnull()]"
   ]
  },
  {
   "cell_type": "code",
   "execution_count": 52,
   "metadata": {},
   "outputs": [
    {
     "data": {
      "text/html": [
       "<div>\n",
       "<style>\n",
       "    .dataframe thead tr:only-child th {\n",
       "        text-align: right;\n",
       "    }\n",
       "\n",
       "    .dataframe thead th {\n",
       "        text-align: left;\n",
       "    }\n",
       "\n",
       "    .dataframe tbody tr th {\n",
       "        vertical-align: top;\n",
       "    }\n",
       "</style>\n",
       "<table border=\"1\" class=\"dataframe\">\n",
       "  <thead>\n",
       "    <tr style=\"text-align: right;\">\n",
       "      <th></th>\n",
       "      <th>Future Connection</th>\n",
       "    </tr>\n",
       "  </thead>\n",
       "  <tbody>\n",
       "    <tr>\n",
       "      <th>(6, 840)</th>\n",
       "      <td>0.0</td>\n",
       "    </tr>\n",
       "    <tr>\n",
       "      <th>(4, 197)</th>\n",
       "      <td>0.0</td>\n",
       "    </tr>\n",
       "    <tr>\n",
       "      <th>(620, 979)</th>\n",
       "      <td>0.0</td>\n",
       "    </tr>\n",
       "    <tr>\n",
       "      <th>(519, 872)</th>\n",
       "      <td>0.0</td>\n",
       "    </tr>\n",
       "    <tr>\n",
       "      <th>(382, 423)</th>\n",
       "      <td>0.0</td>\n",
       "    </tr>\n",
       "  </tbody>\n",
       "</table>\n",
       "</div>"
      ],
      "text/plain": [
       "            Future Connection\n",
       "(6, 840)                  0.0\n",
       "(4, 197)                  0.0\n",
       "(620, 979)                0.0\n",
       "(519, 872)                0.0\n",
       "(382, 423)                0.0"
      ]
     },
     "execution_count": 52,
     "metadata": {},
     "output_type": "execute_result"
    }
   ],
   "source": [
    "future_connections.head()"
   ]
  },
  {
   "cell_type": "code",
   "execution_count": 84,
   "metadata": {
    "collapsed": true
   },
   "outputs": [],
   "source": [
    "#G.edges()"
   ]
  },
  {
   "cell_type": "markdown",
   "metadata": {},
   "source": [
    "Using network `G` and `future_connections`, identify the edges in `future_connections` with missing values and predict whether or not these edges will have a future connection.\n",
    "\n",
    "To accomplish this, you will need to create a matrix of features for the edges found in `future_connections` using networkx, train a sklearn classifier on those edges in `future_connections` that have `Future Connection` data, and predict a probability of the edge being a future connection for those edges in `future_connections` where `Future Connection` is missing.\n",
    "\n",
    "\n",
    "\n",
    "Your predictions will need to be given as the probability of the corresponding edge being a future connection.\n",
    "\n",
    "The evaluation metric for this assignment is the Area Under the ROC Curve (AUC).\n",
    "\n",
    "Your grade will be based on the AUC score computed for your classifier. A model which with an AUC of 0.88 or higher will receive full points, and with an AUC of 0.82 or higher will pass (get 80% of the full points).\n",
    "\n",
    "Using your trained classifier, return a series of length 122112 with the data being the probability of the edge being a future connection, and the index being the edge as represented by a tuple of nodes.\n",
    "\n",
    "    Example:\n",
    "    \n",
    "        (107, 348)    0.35\n",
    "        (542, 751)    0.40\n",
    "        (20, 426)     0.55\n",
    "        (50, 989)     0.35\n",
    "                  ...\n",
    "        (939, 940)    0.15\n",
    "        (555, 905)    0.35\n",
    "        (75, 101)     0.65\n",
    "        Length: 122112, dtype: float64"
   ]
  },
  {
   "cell_type": "code",
   "execution_count": 53,
   "metadata": {
    "collapsed": true
   },
   "outputs": [],
   "source": [
    "for node in G.nodes():\n",
    "    G.node[node]['community'] = G.node[node]['Department']"
   ]
  },
  {
   "cell_type": "code",
   "execution_count": 54,
   "metadata": {
    "collapsed": true
   },
   "outputs": [],
   "source": [
    "preferential_attachment = list(nx.preferential_attachment(G))\n",
    "df = pd.DataFrame(index=[(x[0], x[1]) for x in preferential_attachment])\n",
    "df['preferential_attachment'] = [x[2] for x in preferential_attachment]"
   ]
  },
  {
   "cell_type": "code",
   "execution_count": 55,
   "metadata": {
    "collapsed": true
   },
   "outputs": [],
   "source": [
    "jaccard = list(nx.jaccard_coefficient(G))\n",
    "df_jaccard = pd.DataFrame(index=[(x[0],x[1]) for x in jaccard])\n",
    "df_jaccard['jaccard_coef'] = [x[2] for x in jaccard]"
   ]
  },
  {
   "cell_type": "code",
   "execution_count": 56,
   "metadata": {
    "collapsed": true
   },
   "outputs": [],
   "source": [
    "cn_soundarajan_hopcroft = list(nx.cn_soundarajan_hopcroft(G))\n",
    "df_cn_soundarajan_hopcroft = pd.DataFrame(index=[(x[0], x[1]) for x in cn_soundarajan_hopcroft])\n",
    "df_cn_soundarajan_hopcroft['cn_soundarajan_hopcroft'] = [x[2] for x in cn_soundarajan_hopcroft]"
   ]
  },
  {
   "cell_type": "code",
   "execution_count": 57,
   "metadata": {
    "collapsed": true
   },
   "outputs": [],
   "source": [
    "resource_alloc = list(nx.resource_allocation_index(G))\n",
    "df_resource_alloc = pd.DataFrame(index=[(x[0],x[1]) for x in resource_alloc])\n",
    "df_resource_alloc['resource_alloc'] = [x[2] for x in cn_soundarajan_hopcroft]"
   ]
  },
  {
   "cell_type": "code",
   "execution_count": 58,
   "metadata": {
    "collapsed": true
   },
   "outputs": [],
   "source": [
    "adamic_adar = list(nx.adamic_adar_index(G))\n",
    "df_adamic_adar = pd.DataFrame(index=[(x[0],x[1]) for x in adamic_adar])\n",
    "df_adamic_adar['adamic_adar'] = [x[2] for x in adamic_adar]"
   ]
  },
  {
   "cell_type": "code",
   "execution_count": 59,
   "metadata": {
    "collapsed": true
   },
   "outputs": [],
   "source": [
    "df = df.join(df_jaccard,how='outer')\n",
    "df = df.join(df_cn_soundarajan_hopcroft,how='outer')\n",
    "df = df.join(df_resource_alloc,how='outer')\n",
    "df = df.join(df_adamic_adar,how='outer')"
   ]
  },
  {
   "cell_type": "code",
   "execution_count": 60,
   "metadata": {
    "collapsed": true
   },
   "outputs": [],
   "source": [
    "df = future_connections.join(df,how='outer')"
   ]
  },
  {
   "cell_type": "code",
   "execution_count": 2,
   "metadata": {},
   "outputs": [],
   "source": [
    "# Running on laptop you can load from here. \n",
    "# Remember that networkx 2.0 doesn't support the pickle files created by Mich U's use of networkx 1.0 \n",
    "# Networkx 2 is not backwards compatible with Networkx 1 pickle files\n",
    "#df.to_csv('assignment4_2b.csv')\n",
    "df = pd.read_csv('assignment4_2b.csv')"
   ]
  },
  {
   "cell_type": "code",
   "execution_count": 4,
   "metadata": {},
   "outputs": [
    {
     "data": {
      "text/html": [
       "<div>\n",
       "<style scoped>\n",
       "    .dataframe tbody tr th:only-of-type {\n",
       "        vertical-align: middle;\n",
       "    }\n",
       "\n",
       "    .dataframe tbody tr th {\n",
       "        vertical-align: top;\n",
       "    }\n",
       "\n",
       "    .dataframe thead th {\n",
       "        text-align: right;\n",
       "    }\n",
       "</style>\n",
       "<table border=\"1\" class=\"dataframe\">\n",
       "  <thead>\n",
       "    <tr style=\"text-align: right;\">\n",
       "      <th></th>\n",
       "      <th>Future Connection</th>\n",
       "      <th>preferential_attachment</th>\n",
       "      <th>jaccard_coef</th>\n",
       "      <th>cn_soundarajan_hopcroft</th>\n",
       "      <th>resource_alloc</th>\n",
       "      <th>adamic_adar</th>\n",
       "    </tr>\n",
       "    <tr>\n",
       "      <th>Unnamed: 0</th>\n",
       "      <th></th>\n",
       "      <th></th>\n",
       "      <th></th>\n",
       "      <th></th>\n",
       "      <th></th>\n",
       "      <th></th>\n",
       "    </tr>\n",
       "  </thead>\n",
       "  <tbody>\n",
       "    <tr>\n",
       "      <th>(0, 2)</th>\n",
       "      <td>0.0</td>\n",
       "      <td>4180</td>\n",
       "      <td>0.045802</td>\n",
       "      <td>6</td>\n",
       "      <td>6</td>\n",
       "      <td>1.257626</td>\n",
       "    </tr>\n",
       "    <tr>\n",
       "      <th>(0, 3)</th>\n",
       "      <td>0.0</td>\n",
       "      <td>3124</td>\n",
       "      <td>0.027273</td>\n",
       "      <td>3</td>\n",
       "      <td>3</td>\n",
       "      <td>0.605728</td>\n",
       "    </tr>\n",
       "    <tr>\n",
       "      <th>(0, 4)</th>\n",
       "      <td>0.0</td>\n",
       "      <td>4224</td>\n",
       "      <td>0.022222</td>\n",
       "      <td>3</td>\n",
       "      <td>3</td>\n",
       "      <td>0.605728</td>\n",
       "    </tr>\n",
       "    <tr>\n",
       "      <th>(0, 7)</th>\n",
       "      <td>0.0</td>\n",
       "      <td>3168</td>\n",
       "      <td>0.036364</td>\n",
       "      <td>4</td>\n",
       "      <td>4</td>\n",
       "      <td>0.938816</td>\n",
       "    </tr>\n",
       "    <tr>\n",
       "      <th>(0, 8)</th>\n",
       "      <td>0.0</td>\n",
       "      <td>1628</td>\n",
       "      <td>0.012821</td>\n",
       "      <td>1</td>\n",
       "      <td>1</td>\n",
       "      <td>0.224500</td>\n",
       "    </tr>\n",
       "    <tr>\n",
       "      <th>(0, 9)</th>\n",
       "      <td>NaN</td>\n",
       "      <td>1760</td>\n",
       "      <td>0.025000</td>\n",
       "      <td>2</td>\n",
       "      <td>2</td>\n",
       "      <td>0.510499</td>\n",
       "    </tr>\n",
       "    <tr>\n",
       "      <th>(0, 10)</th>\n",
       "      <td>0.0</td>\n",
       "      <td>2068</td>\n",
       "      <td>0.011236</td>\n",
       "      <td>1</td>\n",
       "      <td>1</td>\n",
       "      <td>0.194712</td>\n",
       "    </tr>\n",
       "    <tr>\n",
       "      <th>(0, 11)</th>\n",
       "      <td>0.0</td>\n",
       "      <td>3344</td>\n",
       "      <td>0.035088</td>\n",
       "      <td>4</td>\n",
       "      <td>4</td>\n",
       "      <td>0.899701</td>\n",
       "    </tr>\n",
       "    <tr>\n",
       "      <th>(0, 12)</th>\n",
       "      <td>0.0</td>\n",
       "      <td>2552</td>\n",
       "      <td>0.041667</td>\n",
       "      <td>4</td>\n",
       "      <td>4</td>\n",
       "      <td>0.953236</td>\n",
       "    </tr>\n",
       "    <tr>\n",
       "      <th>(0, 13)</th>\n",
       "      <td>0.0</td>\n",
       "      <td>7920</td>\n",
       "      <td>0.032558</td>\n",
       "      <td>7</td>\n",
       "      <td>7</td>\n",
       "      <td>1.943251</td>\n",
       "    </tr>\n",
       "    <tr>\n",
       "      <th>(0, 14)</th>\n",
       "      <td>1.0</td>\n",
       "      <td>3520</td>\n",
       "      <td>0.099099</td>\n",
       "      <td>11</td>\n",
       "      <td>11</td>\n",
       "      <td>2.635144</td>\n",
       "    </tr>\n",
       "    <tr>\n",
       "      <th>(0, 15)</th>\n",
       "      <td>0.0</td>\n",
       "      <td>2288</td>\n",
       "      <td>0.000000</td>\n",
       "      <td>0</td>\n",
       "      <td>0</td>\n",
       "      <td>0.000000</td>\n",
       "    </tr>\n",
       "    <tr>\n",
       "      <th>(0, 16)</th>\n",
       "      <td>0.0</td>\n",
       "      <td>3256</td>\n",
       "      <td>0.035398</td>\n",
       "      <td>4</td>\n",
       "      <td>4</td>\n",
       "      <td>0.873579</td>\n",
       "    </tr>\n",
       "    <tr>\n",
       "      <th>(0, 19)</th>\n",
       "      <td>NaN</td>\n",
       "      <td>3168</td>\n",
       "      <td>0.036364</td>\n",
       "      <td>4</td>\n",
       "      <td>4</td>\n",
       "      <td>0.952749</td>\n",
       "    </tr>\n",
       "    <tr>\n",
       "      <th>(0, 20)</th>\n",
       "      <td>NaN</td>\n",
       "      <td>3256</td>\n",
       "      <td>0.064220</td>\n",
       "      <td>7</td>\n",
       "      <td>7</td>\n",
       "      <td>1.597693</td>\n",
       "    </tr>\n",
       "    <tr>\n",
       "      <th>(0, 21)</th>\n",
       "      <td>0.0</td>\n",
       "      <td>6072</td>\n",
       "      <td>0.084337</td>\n",
       "      <td>14</td>\n",
       "      <td>14</td>\n",
       "      <td>3.223228</td>\n",
       "    </tr>\n",
       "    <tr>\n",
       "      <th>(0, 22)</th>\n",
       "      <td>0.0</td>\n",
       "      <td>660</td>\n",
       "      <td>0.000000</td>\n",
       "      <td>0</td>\n",
       "      <td>0</td>\n",
       "      <td>0.000000</td>\n",
       "    </tr>\n",
       "    <tr>\n",
       "      <th>(0, 23)</th>\n",
       "      <td>0.0</td>\n",
       "      <td>3564</td>\n",
       "      <td>0.025000</td>\n",
       "      <td>3</td>\n",
       "      <td>3</td>\n",
       "      <td>0.626681</td>\n",
       "    </tr>\n",
       "    <tr>\n",
       "      <th>(0, 24)</th>\n",
       "      <td>0.0</td>\n",
       "      <td>1760</td>\n",
       "      <td>0.025000</td>\n",
       "      <td>2</td>\n",
       "      <td>2</td>\n",
       "      <td>0.389201</td>\n",
       "    </tr>\n",
       "    <tr>\n",
       "      <th>(0, 25)</th>\n",
       "      <td>0.0</td>\n",
       "      <td>1452</td>\n",
       "      <td>0.013333</td>\n",
       "      <td>1</td>\n",
       "      <td>1</td>\n",
       "      <td>0.233075</td>\n",
       "    </tr>\n",
       "    <tr>\n",
       "      <th>(0, 26)</th>\n",
       "      <td>0.0</td>\n",
       "      <td>1540</td>\n",
       "      <td>0.000000</td>\n",
       "      <td>0</td>\n",
       "      <td>0</td>\n",
       "      <td>0.000000</td>\n",
       "    </tr>\n",
       "    <tr>\n",
       "      <th>(0, 27)</th>\n",
       "      <td>0.0</td>\n",
       "      <td>2772</td>\n",
       "      <td>0.009615</td>\n",
       "      <td>1</td>\n",
       "      <td>1</td>\n",
       "      <td>0.249543</td>\n",
       "    </tr>\n",
       "    <tr>\n",
       "      <th>(0, 28)</th>\n",
       "      <td>0.0</td>\n",
       "      <td>4620</td>\n",
       "      <td>0.013793</td>\n",
       "      <td>2</td>\n",
       "      <td>2</td>\n",
       "      <td>0.394976</td>\n",
       "    </tr>\n",
       "    <tr>\n",
       "      <th>(0, 29)</th>\n",
       "      <td>0.0</td>\n",
       "      <td>2552</td>\n",
       "      <td>0.030928</td>\n",
       "      <td>3</td>\n",
       "      <td>3</td>\n",
       "      <td>0.677107</td>\n",
       "    </tr>\n",
       "    <tr>\n",
       "      <th>(0, 30)</th>\n",
       "      <td>0.0</td>\n",
       "      <td>2992</td>\n",
       "      <td>0.000000</td>\n",
       "      <td>0</td>\n",
       "      <td>0</td>\n",
       "      <td>0.000000</td>\n",
       "    </tr>\n",
       "    <tr>\n",
       "      <th>(0, 31)</th>\n",
       "      <td>0.0</td>\n",
       "      <td>2200</td>\n",
       "      <td>0.000000</td>\n",
       "      <td>0</td>\n",
       "      <td>0</td>\n",
       "      <td>0.000000</td>\n",
       "    </tr>\n",
       "    <tr>\n",
       "      <th>(0, 32)</th>\n",
       "      <td>0.0</td>\n",
       "      <td>1540</td>\n",
       "      <td>0.000000</td>\n",
       "      <td>0</td>\n",
       "      <td>0</td>\n",
       "      <td>0.000000</td>\n",
       "    </tr>\n",
       "    <tr>\n",
       "      <th>(0, 33)</th>\n",
       "      <td>0.0</td>\n",
       "      <td>1320</td>\n",
       "      <td>0.000000</td>\n",
       "      <td>0</td>\n",
       "      <td>0</td>\n",
       "      <td>0.000000</td>\n",
       "    </tr>\n",
       "    <tr>\n",
       "      <th>(0, 34)</th>\n",
       "      <td>0.0</td>\n",
       "      <td>1364</td>\n",
       "      <td>0.013889</td>\n",
       "      <td>1</td>\n",
       "      <td>1</td>\n",
       "      <td>0.194490</td>\n",
       "    </tr>\n",
       "    <tr>\n",
       "      <th>(0, 35)</th>\n",
       "      <td>NaN</td>\n",
       "      <td>2596</td>\n",
       "      <td>0.010000</td>\n",
       "      <td>1</td>\n",
       "      <td>1</td>\n",
       "      <td>0.194490</td>\n",
       "    </tr>\n",
       "    <tr>\n",
       "      <th>...</th>\n",
       "      <td>...</td>\n",
       "      <td>...</td>\n",
       "      <td>...</td>\n",
       "      <td>...</td>\n",
       "      <td>...</td>\n",
       "      <td>...</td>\n",
       "    </tr>\n",
       "    <tr>\n",
       "      <th>(996, 1003)</th>\n",
       "      <td>0.0</td>\n",
       "      <td>1</td>\n",
       "      <td>0.000000</td>\n",
       "      <td>0</td>\n",
       "      <td>0</td>\n",
       "      <td>0.000000</td>\n",
       "    </tr>\n",
       "    <tr>\n",
       "      <th>(996, 1004)</th>\n",
       "      <td>0.0</td>\n",
       "      <td>1</td>\n",
       "      <td>0.000000</td>\n",
       "      <td>0</td>\n",
       "      <td>0</td>\n",
       "      <td>0.000000</td>\n",
       "    </tr>\n",
       "    <tr>\n",
       "      <th>(997, 998)</th>\n",
       "      <td>NaN</td>\n",
       "      <td>3</td>\n",
       "      <td>0.000000</td>\n",
       "      <td>0</td>\n",
       "      <td>0</td>\n",
       "      <td>0.000000</td>\n",
       "    </tr>\n",
       "    <tr>\n",
       "      <th>(997, 999)</th>\n",
       "      <td>0.0</td>\n",
       "      <td>3</td>\n",
       "      <td>0.000000</td>\n",
       "      <td>0</td>\n",
       "      <td>0</td>\n",
       "      <td>0.000000</td>\n",
       "    </tr>\n",
       "    <tr>\n",
       "      <th>(997, 1000)</th>\n",
       "      <td>0.0</td>\n",
       "      <td>18</td>\n",
       "      <td>0.000000</td>\n",
       "      <td>0</td>\n",
       "      <td>0</td>\n",
       "      <td>0.000000</td>\n",
       "    </tr>\n",
       "    <tr>\n",
       "      <th>(997, 1001)</th>\n",
       "      <td>0.0</td>\n",
       "      <td>30</td>\n",
       "      <td>0.000000</td>\n",
       "      <td>0</td>\n",
       "      <td>0</td>\n",
       "      <td>0.000000</td>\n",
       "    </tr>\n",
       "    <tr>\n",
       "      <th>(997, 1002)</th>\n",
       "      <td>0.0</td>\n",
       "      <td>3</td>\n",
       "      <td>0.000000</td>\n",
       "      <td>0</td>\n",
       "      <td>0</td>\n",
       "      <td>0.000000</td>\n",
       "    </tr>\n",
       "    <tr>\n",
       "      <th>(997, 1003)</th>\n",
       "      <td>0.0</td>\n",
       "      <td>3</td>\n",
       "      <td>0.000000</td>\n",
       "      <td>0</td>\n",
       "      <td>0</td>\n",
       "      <td>0.000000</td>\n",
       "    </tr>\n",
       "    <tr>\n",
       "      <th>(997, 1004)</th>\n",
       "      <td>NaN</td>\n",
       "      <td>3</td>\n",
       "      <td>0.000000</td>\n",
       "      <td>0</td>\n",
       "      <td>0</td>\n",
       "      <td>0.000000</td>\n",
       "    </tr>\n",
       "    <tr>\n",
       "      <th>(998, 999)</th>\n",
       "      <td>NaN</td>\n",
       "      <td>1</td>\n",
       "      <td>0.000000</td>\n",
       "      <td>0</td>\n",
       "      <td>0</td>\n",
       "      <td>0.000000</td>\n",
       "    </tr>\n",
       "    <tr>\n",
       "      <th>(998, 1000)</th>\n",
       "      <td>0.0</td>\n",
       "      <td>6</td>\n",
       "      <td>0.000000</td>\n",
       "      <td>0</td>\n",
       "      <td>0</td>\n",
       "      <td>0.000000</td>\n",
       "    </tr>\n",
       "    <tr>\n",
       "      <th>(998, 1001)</th>\n",
       "      <td>0.0</td>\n",
       "      <td>10</td>\n",
       "      <td>0.000000</td>\n",
       "      <td>0</td>\n",
       "      <td>0</td>\n",
       "      <td>0.000000</td>\n",
       "    </tr>\n",
       "    <tr>\n",
       "      <th>(998, 1002)</th>\n",
       "      <td>0.0</td>\n",
       "      <td>1</td>\n",
       "      <td>0.000000</td>\n",
       "      <td>0</td>\n",
       "      <td>0</td>\n",
       "      <td>0.000000</td>\n",
       "    </tr>\n",
       "    <tr>\n",
       "      <th>(998, 1003)</th>\n",
       "      <td>0.0</td>\n",
       "      <td>1</td>\n",
       "      <td>0.000000</td>\n",
       "      <td>0</td>\n",
       "      <td>0</td>\n",
       "      <td>0.000000</td>\n",
       "    </tr>\n",
       "    <tr>\n",
       "      <th>(998, 1004)</th>\n",
       "      <td>0.0</td>\n",
       "      <td>1</td>\n",
       "      <td>0.000000</td>\n",
       "      <td>0</td>\n",
       "      <td>0</td>\n",
       "      <td>0.000000</td>\n",
       "    </tr>\n",
       "    <tr>\n",
       "      <th>(999, 1000)</th>\n",
       "      <td>0.0</td>\n",
       "      <td>6</td>\n",
       "      <td>0.000000</td>\n",
       "      <td>0</td>\n",
       "      <td>0</td>\n",
       "      <td>0.000000</td>\n",
       "    </tr>\n",
       "    <tr>\n",
       "      <th>(999, 1001)</th>\n",
       "      <td>0.0</td>\n",
       "      <td>10</td>\n",
       "      <td>0.000000</td>\n",
       "      <td>0</td>\n",
       "      <td>0</td>\n",
       "      <td>0.000000</td>\n",
       "    </tr>\n",
       "    <tr>\n",
       "      <th>(999, 1002)</th>\n",
       "      <td>0.0</td>\n",
       "      <td>1</td>\n",
       "      <td>0.000000</td>\n",
       "      <td>0</td>\n",
       "      <td>0</td>\n",
       "      <td>0.000000</td>\n",
       "    </tr>\n",
       "    <tr>\n",
       "      <th>(999, 1003)</th>\n",
       "      <td>0.0</td>\n",
       "      <td>1</td>\n",
       "      <td>0.000000</td>\n",
       "      <td>0</td>\n",
       "      <td>0</td>\n",
       "      <td>0.000000</td>\n",
       "    </tr>\n",
       "    <tr>\n",
       "      <th>(999, 1004)</th>\n",
       "      <td>0.0</td>\n",
       "      <td>1</td>\n",
       "      <td>0.000000</td>\n",
       "      <td>0</td>\n",
       "      <td>0</td>\n",
       "      <td>0.000000</td>\n",
       "    </tr>\n",
       "    <tr>\n",
       "      <th>(1000, 1001)</th>\n",
       "      <td>0.0</td>\n",
       "      <td>60</td>\n",
       "      <td>0.000000</td>\n",
       "      <td>0</td>\n",
       "      <td>0</td>\n",
       "      <td>0.000000</td>\n",
       "    </tr>\n",
       "    <tr>\n",
       "      <th>(1000, 1002)</th>\n",
       "      <td>NaN</td>\n",
       "      <td>6</td>\n",
       "      <td>0.000000</td>\n",
       "      <td>0</td>\n",
       "      <td>0</td>\n",
       "      <td>0.000000</td>\n",
       "    </tr>\n",
       "    <tr>\n",
       "      <th>(1000, 1003)</th>\n",
       "      <td>NaN</td>\n",
       "      <td>6</td>\n",
       "      <td>0.000000</td>\n",
       "      <td>0</td>\n",
       "      <td>0</td>\n",
       "      <td>0.000000</td>\n",
       "    </tr>\n",
       "    <tr>\n",
       "      <th>(1000, 1004)</th>\n",
       "      <td>NaN</td>\n",
       "      <td>6</td>\n",
       "      <td>0.000000</td>\n",
       "      <td>0</td>\n",
       "      <td>0</td>\n",
       "      <td>0.000000</td>\n",
       "    </tr>\n",
       "    <tr>\n",
       "      <th>(1001, 1002)</th>\n",
       "      <td>NaN</td>\n",
       "      <td>10</td>\n",
       "      <td>0.000000</td>\n",
       "      <td>0</td>\n",
       "      <td>0</td>\n",
       "      <td>0.000000</td>\n",
       "    </tr>\n",
       "    <tr>\n",
       "      <th>(1001, 1003)</th>\n",
       "      <td>0.0</td>\n",
       "      <td>10</td>\n",
       "      <td>0.000000</td>\n",
       "      <td>0</td>\n",
       "      <td>0</td>\n",
       "      <td>0.000000</td>\n",
       "    </tr>\n",
       "    <tr>\n",
       "      <th>(1001, 1004)</th>\n",
       "      <td>0.0</td>\n",
       "      <td>10</td>\n",
       "      <td>0.000000</td>\n",
       "      <td>0</td>\n",
       "      <td>0</td>\n",
       "      <td>0.000000</td>\n",
       "    </tr>\n",
       "    <tr>\n",
       "      <th>(1002, 1003)</th>\n",
       "      <td>0.0</td>\n",
       "      <td>1</td>\n",
       "      <td>0.000000</td>\n",
       "      <td>0</td>\n",
       "      <td>0</td>\n",
       "      <td>0.000000</td>\n",
       "    </tr>\n",
       "    <tr>\n",
       "      <th>(1002, 1004)</th>\n",
       "      <td>0.0</td>\n",
       "      <td>1</td>\n",
       "      <td>0.000000</td>\n",
       "      <td>0</td>\n",
       "      <td>0</td>\n",
       "      <td>0.000000</td>\n",
       "    </tr>\n",
       "    <tr>\n",
       "      <th>(1003, 1004)</th>\n",
       "      <td>0.0</td>\n",
       "      <td>1</td>\n",
       "      <td>0.000000</td>\n",
       "      <td>0</td>\n",
       "      <td>0</td>\n",
       "      <td>0.000000</td>\n",
       "    </tr>\n",
       "  </tbody>\n",
       "</table>\n",
       "<p>488446 rows × 6 columns</p>\n",
       "</div>"
      ],
      "text/plain": [
       "              Future Connection  preferential_attachment  jaccard_coef  \\\n",
       "Unnamed: 0                                                               \n",
       "(0, 2)                      0.0                     4180      0.045802   \n",
       "(0, 3)                      0.0                     3124      0.027273   \n",
       "(0, 4)                      0.0                     4224      0.022222   \n",
       "(0, 7)                      0.0                     3168      0.036364   \n",
       "(0, 8)                      0.0                     1628      0.012821   \n",
       "(0, 9)                      NaN                     1760      0.025000   \n",
       "(0, 10)                     0.0                     2068      0.011236   \n",
       "(0, 11)                     0.0                     3344      0.035088   \n",
       "(0, 12)                     0.0                     2552      0.041667   \n",
       "(0, 13)                     0.0                     7920      0.032558   \n",
       "(0, 14)                     1.0                     3520      0.099099   \n",
       "(0, 15)                     0.0                     2288      0.000000   \n",
       "(0, 16)                     0.0                     3256      0.035398   \n",
       "(0, 19)                     NaN                     3168      0.036364   \n",
       "(0, 20)                     NaN                     3256      0.064220   \n",
       "(0, 21)                     0.0                     6072      0.084337   \n",
       "(0, 22)                     0.0                      660      0.000000   \n",
       "(0, 23)                     0.0                     3564      0.025000   \n",
       "(0, 24)                     0.0                     1760      0.025000   \n",
       "(0, 25)                     0.0                     1452      0.013333   \n",
       "(0, 26)                     0.0                     1540      0.000000   \n",
       "(0, 27)                     0.0                     2772      0.009615   \n",
       "(0, 28)                     0.0                     4620      0.013793   \n",
       "(0, 29)                     0.0                     2552      0.030928   \n",
       "(0, 30)                     0.0                     2992      0.000000   \n",
       "(0, 31)                     0.0                     2200      0.000000   \n",
       "(0, 32)                     0.0                     1540      0.000000   \n",
       "(0, 33)                     0.0                     1320      0.000000   \n",
       "(0, 34)                     0.0                     1364      0.013889   \n",
       "(0, 35)                     NaN                     2596      0.010000   \n",
       "...                         ...                      ...           ...   \n",
       "(996, 1003)                 0.0                        1      0.000000   \n",
       "(996, 1004)                 0.0                        1      0.000000   \n",
       "(997, 998)                  NaN                        3      0.000000   \n",
       "(997, 999)                  0.0                        3      0.000000   \n",
       "(997, 1000)                 0.0                       18      0.000000   \n",
       "(997, 1001)                 0.0                       30      0.000000   \n",
       "(997, 1002)                 0.0                        3      0.000000   \n",
       "(997, 1003)                 0.0                        3      0.000000   \n",
       "(997, 1004)                 NaN                        3      0.000000   \n",
       "(998, 999)                  NaN                        1      0.000000   \n",
       "(998, 1000)                 0.0                        6      0.000000   \n",
       "(998, 1001)                 0.0                       10      0.000000   \n",
       "(998, 1002)                 0.0                        1      0.000000   \n",
       "(998, 1003)                 0.0                        1      0.000000   \n",
       "(998, 1004)                 0.0                        1      0.000000   \n",
       "(999, 1000)                 0.0                        6      0.000000   \n",
       "(999, 1001)                 0.0                       10      0.000000   \n",
       "(999, 1002)                 0.0                        1      0.000000   \n",
       "(999, 1003)                 0.0                        1      0.000000   \n",
       "(999, 1004)                 0.0                        1      0.000000   \n",
       "(1000, 1001)                0.0                       60      0.000000   \n",
       "(1000, 1002)                NaN                        6      0.000000   \n",
       "(1000, 1003)                NaN                        6      0.000000   \n",
       "(1000, 1004)                NaN                        6      0.000000   \n",
       "(1001, 1002)                NaN                       10      0.000000   \n",
       "(1001, 1003)                0.0                       10      0.000000   \n",
       "(1001, 1004)                0.0                       10      0.000000   \n",
       "(1002, 1003)                0.0                        1      0.000000   \n",
       "(1002, 1004)                0.0                        1      0.000000   \n",
       "(1003, 1004)                0.0                        1      0.000000   \n",
       "\n",
       "              cn_soundarajan_hopcroft  resource_alloc  adamic_adar  \n",
       "Unnamed: 0                                                          \n",
       "(0, 2)                              6               6     1.257626  \n",
       "(0, 3)                              3               3     0.605728  \n",
       "(0, 4)                              3               3     0.605728  \n",
       "(0, 7)                              4               4     0.938816  \n",
       "(0, 8)                              1               1     0.224500  \n",
       "(0, 9)                              2               2     0.510499  \n",
       "(0, 10)                             1               1     0.194712  \n",
       "(0, 11)                             4               4     0.899701  \n",
       "(0, 12)                             4               4     0.953236  \n",
       "(0, 13)                             7               7     1.943251  \n",
       "(0, 14)                            11              11     2.635144  \n",
       "(0, 15)                             0               0     0.000000  \n",
       "(0, 16)                             4               4     0.873579  \n",
       "(0, 19)                             4               4     0.952749  \n",
       "(0, 20)                             7               7     1.597693  \n",
       "(0, 21)                            14              14     3.223228  \n",
       "(0, 22)                             0               0     0.000000  \n",
       "(0, 23)                             3               3     0.626681  \n",
       "(0, 24)                             2               2     0.389201  \n",
       "(0, 25)                             1               1     0.233075  \n",
       "(0, 26)                             0               0     0.000000  \n",
       "(0, 27)                             1               1     0.249543  \n",
       "(0, 28)                             2               2     0.394976  \n",
       "(0, 29)                             3               3     0.677107  \n",
       "(0, 30)                             0               0     0.000000  \n",
       "(0, 31)                             0               0     0.000000  \n",
       "(0, 32)                             0               0     0.000000  \n",
       "(0, 33)                             0               0     0.000000  \n",
       "(0, 34)                             1               1     0.194490  \n",
       "(0, 35)                             1               1     0.194490  \n",
       "...                               ...             ...          ...  \n",
       "(996, 1003)                         0               0     0.000000  \n",
       "(996, 1004)                         0               0     0.000000  \n",
       "(997, 998)                          0               0     0.000000  \n",
       "(997, 999)                          0               0     0.000000  \n",
       "(997, 1000)                         0               0     0.000000  \n",
       "(997, 1001)                         0               0     0.000000  \n",
       "(997, 1002)                         0               0     0.000000  \n",
       "(997, 1003)                         0               0     0.000000  \n",
       "(997, 1004)                         0               0     0.000000  \n",
       "(998, 999)                          0               0     0.000000  \n",
       "(998, 1000)                         0               0     0.000000  \n",
       "(998, 1001)                         0               0     0.000000  \n",
       "(998, 1002)                         0               0     0.000000  \n",
       "(998, 1003)                         0               0     0.000000  \n",
       "(998, 1004)                         0               0     0.000000  \n",
       "(999, 1000)                         0               0     0.000000  \n",
       "(999, 1001)                         0               0     0.000000  \n",
       "(999, 1002)                         0               0     0.000000  \n",
       "(999, 1003)                         0               0     0.000000  \n",
       "(999, 1004)                         0               0     0.000000  \n",
       "(1000, 1001)                        0               0     0.000000  \n",
       "(1000, 1002)                        0               0     0.000000  \n",
       "(1000, 1003)                        0               0     0.000000  \n",
       "(1000, 1004)                        0               0     0.000000  \n",
       "(1001, 1002)                        0               0     0.000000  \n",
       "(1001, 1003)                        0               0     0.000000  \n",
       "(1001, 1004)                        0               0     0.000000  \n",
       "(1002, 1003)                        0               0     0.000000  \n",
       "(1002, 1004)                        0               0     0.000000  \n",
       "(1003, 1004)                        0               0     0.000000  \n",
       "\n",
       "[488446 rows x 6 columns]"
      ]
     },
     "execution_count": 4,
     "metadata": {},
     "output_type": "execute_result"
    }
   ],
   "source": [
    "df.set_index(keys='Unnamed: 0', )"
   ]
  },
  {
   "cell_type": "code",
   "execution_count": 64,
   "metadata": {
    "collapsed": true
   },
   "outputs": [],
   "source": [
    "X_unseen = df[df['Future Connection'].isnull()]"
   ]
  },
  {
   "cell_type": "code",
   "execution_count": 65,
   "metadata": {},
   "outputs": [
    {
     "name": "stderr",
     "output_type": "stream",
     "text": [
      "/opt/conda/lib/python3.6/site-packages/ipykernel/__main__.py:1: SettingWithCopyWarning: \n",
      "A value is trying to be set on a copy of a slice from a DataFrame\n",
      "\n",
      "See the caveats in the documentation: http://pandas.pydata.org/pandas-docs/stable/indexing.html#indexing-view-versus-copy\n",
      "  if __name__ == '__main__':\n"
     ]
    }
   ],
   "source": [
    "X_unseen.drop(labels='Future Connection', axis=1, inplace=True)"
   ]
  },
  {
   "cell_type": "code",
   "execution_count": 66,
   "metadata": {},
   "outputs": [
    {
     "data": {
      "text/html": [
       "<div>\n",
       "<style>\n",
       "    .dataframe thead tr:only-child th {\n",
       "        text-align: right;\n",
       "    }\n",
       "\n",
       "    .dataframe thead th {\n",
       "        text-align: left;\n",
       "    }\n",
       "\n",
       "    .dataframe tbody tr th {\n",
       "        vertical-align: top;\n",
       "    }\n",
       "</style>\n",
       "<table border=\"1\" class=\"dataframe\">\n",
       "  <thead>\n",
       "    <tr style=\"text-align: right;\">\n",
       "      <th></th>\n",
       "      <th>preferential_attachment</th>\n",
       "      <th>jaccard_coef</th>\n",
       "      <th>cn_soundarajan_hopcroft</th>\n",
       "      <th>resource_alloc</th>\n",
       "      <th>adamic_adar</th>\n",
       "    </tr>\n",
       "  </thead>\n",
       "  <tbody>\n",
       "    <tr>\n",
       "      <th>(0, 9)</th>\n",
       "      <td>1760</td>\n",
       "      <td>0.025000</td>\n",
       "      <td>2</td>\n",
       "      <td>2</td>\n",
       "      <td>0.510499</td>\n",
       "    </tr>\n",
       "    <tr>\n",
       "      <th>(0, 19)</th>\n",
       "      <td>3168</td>\n",
       "      <td>0.036364</td>\n",
       "      <td>4</td>\n",
       "      <td>4</td>\n",
       "      <td>0.952749</td>\n",
       "    </tr>\n",
       "    <tr>\n",
       "      <th>(0, 20)</th>\n",
       "      <td>3256</td>\n",
       "      <td>0.064220</td>\n",
       "      <td>7</td>\n",
       "      <td>7</td>\n",
       "      <td>1.597693</td>\n",
       "    </tr>\n",
       "    <tr>\n",
       "      <th>(0, 35)</th>\n",
       "      <td>2596</td>\n",
       "      <td>0.010000</td>\n",
       "      <td>1</td>\n",
       "      <td>1</td>\n",
       "      <td>0.194490</td>\n",
       "    </tr>\n",
       "    <tr>\n",
       "      <th>(0, 38)</th>\n",
       "      <td>2068</td>\n",
       "      <td>0.000000</td>\n",
       "      <td>0</td>\n",
       "      <td>0</td>\n",
       "      <td>0.000000</td>\n",
       "    </tr>\n",
       "  </tbody>\n",
       "</table>\n",
       "</div>"
      ],
      "text/plain": [
       "         preferential_attachment  jaccard_coef  cn_soundarajan_hopcroft  \\\n",
       "(0, 9)                      1760      0.025000                        2   \n",
       "(0, 19)                     3168      0.036364                        4   \n",
       "(0, 20)                     3256      0.064220                        7   \n",
       "(0, 35)                     2596      0.010000                        1   \n",
       "(0, 38)                     2068      0.000000                        0   \n",
       "\n",
       "         resource_alloc  adamic_adar  \n",
       "(0, 9)                2     0.510499  \n",
       "(0, 19)               4     0.952749  \n",
       "(0, 20)               7     1.597693  \n",
       "(0, 35)               1     0.194490  \n",
       "(0, 38)               0     0.000000  "
      ]
     },
     "execution_count": 66,
     "metadata": {},
     "output_type": "execute_result"
    }
   ],
   "source": [
    "X_unseen.head()"
   ]
  },
  {
   "cell_type": "code",
   "execution_count": 67,
   "metadata": {
    "collapsed": true
   },
   "outputs": [],
   "source": [
    "df = df[df['Future Connection'].notnull()]"
   ]
  },
  {
   "cell_type": "code",
   "execution_count": 161,
   "metadata": {
    "collapsed": true
   },
   "outputs": [],
   "source": [
    "X = df.drop(labels='Future Connection', axis=1)\n",
    "y = df['Future Connection']"
   ]
  },
  {
   "cell_type": "code",
   "execution_count": null,
   "metadata": {},
   "outputs": [],
   "source": [
    "from sklearn.svm import SVC\n",
    "from sklearn.model_selection import GridSearchCV\n",
    "from sklearn.linear_model import LogisticRegression\n",
    "from sklearn.neural_network import MLPClassifier\n",
    "from sklearn.preprocessing import MinMaxScaler\n",
    "from sklearn.model_selection import train_test_split\n",
    "from sklearn.metrics import confusion_matrix, classification_report\n",
    "from sklearn.metrics import roc_curve, auc"
   ]
  },
  {
   "cell_type": "code",
   "execution_count": 163,
   "metadata": {
    "collapsed": true
   },
   "outputs": [],
   "source": [
    "X_train, X_test, y_train, y_test = train_test_split(X, y, test_size=0.33, random_state=42)"
   ]
  },
  {
   "cell_type": "code",
   "execution_count": null,
   "metadata": {
    "collapsed": true
   },
   "outputs": [],
   "source": []
  },
  {
   "cell_type": "code",
   "execution_count": null,
   "metadata": {
    "collapsed": true
   },
   "outputs": [],
   "source": []
  },
  {
   "cell_type": "code",
   "execution_count": null,
   "metadata": {
    "collapsed": true
   },
   "outputs": [],
   "source": []
  },
  {
   "cell_type": "code",
   "execution_count": 9,
   "metadata": {
    "collapsed": true
   },
   "outputs": [],
   "source": [
    "from sklearn.neural_network import MLPClassifier\n",
    "from sklearn.preprocessing import MinMaxScaler\n",
    "def new_connections_predictions():\n",
    "    for node in G.nodes():\n",
    "        G.node[node]['community'] = G.node[node]['Department']\n",
    "    preferential_attachment = list(nx.preferential_attachment(G))\n",
    "    df = pd.DataFrame(index=[(x[0], x[1]) for x in preferential_attachment])\n",
    "    df['preferential_attachment'] = [x[2] for x in preferential_attachment]\n",
    "    cn_soundarajan_hopcroft = list(nx.cn_soundarajan_hopcroft(G))\n",
    "    df_cn_soundarajan_hopcroft = pd.DataFrame(index=[(x[0], x[1]) for x in cn_soundarajan_hopcroft])\n",
    "    df_cn_soundarajan_hopcroft['cn_soundarajan_hopcroft'] = [x[2] for x in cn_soundarajan_hopcroft]\n",
    "    df = df.join(df_cn_soundarajan_hopcroft,how='outer')\n",
    "    df['cn_soundarajan_hopcroft'] = df['cn_soundarajan_hopcroft'].fillna(value=0)\n",
    "    df['resource_allocation_index'] = [x[2] for x in list(nx.resource_allocation_index(G))]\n",
    "    df['jaccard_coefficient'] = [x[2] for x in list(nx.jaccard_coefficient(G))]\n",
    "    df = future_connections.join(df,how='outer')\n",
    "    df_train = df[~pd.isnull(df['Future Connection'])]\n",
    "    df_test = df[pd.isnull(df['Future Connection'])]\n",
    "    features = ['cn_soundarajan_hopcroft', 'preferential_attachment', 'resource_allocation_index', 'jaccard_coefficient']\n",
    "    X_train = df_train[features]\n",
    "    Y_train = df_train['Future Connection']\n",
    "    X_test = df_test[features]\n",
    "    scaler = MinMaxScaler()\n",
    "    X_train_scaled = scaler.fit_transform(X_train)\n",
    "    X_test_scaled = scaler.transform(X_test)\n",
    "    clf = MLPClassifier(hidden_layer_sizes = [10, 5], alpha = 5,\n",
    "                       random_state = 0, solver='lbfgs', verbose=0)\n",
    "    clf.fit(X_train_scaled, Y_train)\n",
    "    test_proba = clf.predict_proba(X_test_scaled)[:, 1]\n",
    "    predictions = pd.Series(test_proba,X_test.index)\n",
    "    target = future_connections[pd.isnull(future_connections['Future Connection'])]\n",
    "    target['prob'] = [predictions[x] for x in target.index]\n",
    "    return target['prob']\n",
    "# new_connections_predictions()"
   ]
  }
 ],
 "metadata": {
  "coursera": {
   "course_slug": "python-social-network-analysis",
   "graded_item_id": "BGNwe",
   "launcher_item_id": "rMoj0",
   "part_id": "E2zRG"
  },
  "kernelspec": {
   "display_name": "Python 3",
   "language": "python",
   "name": "python3"
  },
  "language_info": {
   "codemirror_mode": {
    "name": "ipython",
    "version": 3
   },
   "file_extension": ".py",
   "mimetype": "text/x-python",
   "name": "python",
   "nbconvert_exporter": "python",
   "pygments_lexer": "ipython3",
   "version": "3.6.4"
  }
 },
 "nbformat": 4,
 "nbformat_minor": 2
}
