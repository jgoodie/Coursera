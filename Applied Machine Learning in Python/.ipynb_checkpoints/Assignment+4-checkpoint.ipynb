{
 "cells": [
  {
   "cell_type": "markdown",
   "metadata": {},
   "source": [
    "---\n",
    "\n",
    "_You are currently looking at **version 1.1** of this notebook. To download notebooks and datafiles, as well as get help on Jupyter notebooks in the Coursera platform, visit the [Jupyter Notebook FAQ](https://www.coursera.org/learn/python-machine-learning/resources/bANLa) course resource._\n",
    "\n",
    "---"
   ]
  },
  {
   "cell_type": "markdown",
   "metadata": {},
   "source": [
    "## Assignment 4 - Understanding and Predicting Property Maintenance Fines\n",
    "\n",
    "This assignment is based on a data challenge from the Michigan Data Science Team ([MDST](http://midas.umich.edu/mdst/)). \n",
    "\n",
    "The Michigan Data Science Team ([MDST](http://midas.umich.edu/mdst/)) and the Michigan Student Symposium for Interdisciplinary Statistical Sciences ([MSSISS](https://sites.lsa.umich.edu/mssiss/)) have partnered with the City of Detroit to help solve one of the most pressing problems facing Detroit - blight. [Blight violations](http://www.detroitmi.gov/How-Do-I/Report/Blight-Complaint-FAQs) are issued by the city to individuals who allow their properties to remain in a deteriorated condition. Every year, the city of Detroit issues millions of dollars in fines to residents and every year, many of these fines remain unpaid. Enforcing unpaid blight fines is a costly and tedious process, so the city wants to know: how can we increase blight ticket compliance?\n",
    "\n",
    "The first step in answering this question is understanding when and why a resident might fail to comply with a blight ticket. This is where predictive modeling comes in. For this assignment, your task is to predict whether a given blight ticket will be paid on time.\n",
    "\n",
    "All data for this assignment has been provided to us through the [Detroit Open Data Portal](https://data.detroitmi.gov/). **Only the data already included in your Coursera directory can be used for training the model for this assignment.** Nonetheless, we encourage you to look into data from other Detroit datasets to help inform feature creation and model selection. We recommend taking a look at the following related datasets:\n",
    "\n",
    "* [Building Permits](https://data.detroitmi.gov/Property-Parcels/Building-Permits/xw2a-a7tf)\n",
    "* [Trades Permits](https://data.detroitmi.gov/Property-Parcels/Trades-Permits/635b-dsgv)\n",
    "* [Improve Detroit: Submitted Issues](https://data.detroitmi.gov/Government/Improve-Detroit-Submitted-Issues/fwz3-w3yn)\n",
    "* [DPD: Citizen Complaints](https://data.detroitmi.gov/Public-Safety/DPD-Citizen-Complaints-2016/kahe-efs3)\n",
    "* [Parcel Map](https://data.detroitmi.gov/Property-Parcels/Parcel-Map/fxkw-udwf)\n",
    "\n",
    "___\n",
    "\n",
    "We provide you with two data files for use in training and validating your models: train.csv and test.csv. Each row in these two files corresponds to a single blight ticket, and includes information about when, why, and to whom each ticket was issued. The target variable is compliance, which is True if the ticket was paid early, on time, or within one month of the hearing data, False if the ticket was paid after the hearing date or not at all, and Null if the violator was found not responsible. Compliance, as well as a handful of other variables that will not be available at test-time, are only included in train.csv.\n",
    "\n",
    "Note: All tickets where the violators were found not responsible are not considered during evaluation. They are included in the training set as an additional source of data for visualization, and to enable unsupervised and semi-supervised approaches. However, they are not included in the test set.\n",
    "\n",
    "<br>\n",
    "\n",
    "**File descriptions** (Use only this data for training your model!)\n",
    "\n",
    "    train.csv - the training set (all tickets issued 2004-2011)\n",
    "    test.csv - the test set (all tickets issued 2012-2016)\n",
    "    addresses.csv & latlons.csv - mapping from ticket id to addresses, and from addresses to lat/lon coordinates. \n",
    "     Note: misspelled addresses may be incorrectly geolocated.\n",
    "\n",
    "<br>\n",
    "\n",
    "**Data fields**\n",
    "\n",
    "train.csv & test.csv\n",
    "\n",
    "    ticket_id - unique identifier for tickets\n",
    "    agency_name - Agency that issued the ticket\n",
    "    inspector_name - Name of inspector that issued the ticket\n",
    "    violator_name - Name of the person/organization that the ticket was issued to\n",
    "    violation_street_number, violation_street_name, violation_zip_code - Address where the violation occurred\n",
    "    mailing_address_str_number, mailing_address_str_name, city, state, zip_code, non_us_str_code, country - Mailing address of the violator\n",
    "    ticket_issued_date - Date and time the ticket was issued\n",
    "    hearing_date - Date and time the violator's hearing was scheduled\n",
    "    violation_code, violation_description - Type of violation\n",
    "    disposition - Judgment and judgement type\n",
    "    fine_amount - Violation fine amount, excluding fees\n",
    "    admin_fee - $20 fee assigned to responsible judgments\n",
    "state_fee - $10 fee assigned to responsible judgments\n",
    "    late_fee - 10% fee assigned to responsible judgments\n",
    "    discount_amount - discount applied, if any\n",
    "    clean_up_cost - DPW clean-up or graffiti removal cost\n",
    "    judgment_amount - Sum of all fines and fees\n",
    "    grafitti_status - Flag for graffiti violations\n",
    "    \n",
    "train.csv only\n",
    "\n",
    "    payment_amount - Amount paid, if any\n",
    "    payment_date - Date payment was made, if it was received\n",
    "    payment_status - Current payment status as of Feb 1 2017\n",
    "    balance_due - Fines and fees still owed\n",
    "    collection_status - Flag for payments in collections\n",
    "    compliance [target variable for prediction] \n",
    "     Null = Not responsible\n",
    "     0 = Responsible, non-compliant\n",
    "     1 = Responsible, compliant\n",
    "    compliance_detail - More information on why each ticket was marked compliant or non-compliant\n",
    "\n",
    "\n",
    "___\n",
    "\n",
    "## Evaluation\n",
    "\n",
    "Your predictions will be given as the probability that the corresponding blight ticket will be paid on time.\n",
    "\n",
    "The evaluation metric for this assignment is the Area Under the ROC Curve (AUC). \n",
    "\n",
    "Your grade will be based on the AUC score computed for your classifier. A model which with an AUROC of 0.7 passes this assignment, over 0.75 will recieve full points.\n",
    "___\n",
    "\n",
    "For this assignment, create a function that trains a model to predict blight ticket compliance in Detroit using `train.csv`. Using this model, return a series of length 61001 with the data being the probability that each corresponding ticket from `test.csv` will be paid, and the index being the ticket_id.\n",
    "\n",
    "Example:\n",
    "\n",
    "    ticket_id\n",
    "       284932    0.531842\n",
    "       285362    0.401958\n",
    "       285361    0.105928\n",
    "       285338    0.018572\n",
    "                 ...\n",
    "       376499    0.208567\n",
    "       376500    0.818759\n",
    "       369851    0.018528\n",
    "       Name: compliance, dtype: float32\n",
    "       \n",
    "### Hints\n",
    "\n",
    "* Make sure your code is working before submitting it to the autograder.\n",
    "\n",
    "* Print out your result to see whether there is anything weird (e.g., all probabilities are the same).\n",
    "\n",
    "* Generally the total runtime should be less than 10 mins. You should NOT use Neural Network related classifiers (e.g., MLPClassifier) in this question. \n",
    "\n",
    "* Try to avoid global variables. If you have other functions besides blight_model, you should move those functions inside the scope of blight_model.\n",
    "\n",
    "* Refer to the pinned threads in Week 4's discussion forum when there is something you could not figure it out."
   ]
  },
  {
   "cell_type": "code",
   "execution_count": 18,
   "metadata": {
    "collapsed": true
   },
   "outputs": [],
   "source": [
    "import pandas as pd\n",
    "import numpy as np\n",
    "import matplotlib.pyplot as plt\n",
    "from sklearn.model_selection import GridSearchCV\n",
    "from sklearn.linear_model import LogisticRegression\n",
    "from sklearn.svm import SVC\n",
    "from sklearn.ensemble import RandomForestClassifier\n",
    "from sklearn.ensemble import GradientBoostingClassifier\n",
    "from sklearn.model_selection import train_test_split\n",
    "from sklearn.model_selection import cross_val_score\n",
    "from sklearn.metrics import confusion_matrix, classification_report\n",
    "from sklearn.metrics import roc_curve, auc\n",
    "from sklearn.preprocessing import OneHotEncoder\n",
    "\n",
    "def blight_model():\n",
    "    \n",
    "    # Your code here\n",
    "    \n",
    "    return # Your answer here"
   ]
  },
  {
   "cell_type": "code",
   "execution_count": null,
   "metadata": {
    "collapsed": true
   },
   "outputs": [],
   "source": [
    "blight_model()"
   ]
  },
  {
   "cell_type": "code",
   "execution_count": 98,
   "metadata": {
    "scrolled": true
   },
   "outputs": [
    {
     "name": "stderr",
     "output_type": "stream",
     "text": [
      "/usr/local/Cellar/python3/3.6.4_1/Frameworks/Python.framework/Versions/3.6/lib/python3.6/site-packages/IPython/core/interactiveshell.py:2698: DtypeWarning: Columns (11,12,31) have mixed types. Specify dtype option on import or set low_memory=False.\n",
      "  interactivity=interactivity, compiler=compiler, result=result)\n"
     ]
    }
   ],
   "source": [
    "df_addr = pd.read_csv('addresses.csv')\n",
    "df_latlon = pd.read_csv('latlons.csv')\n",
    "df_test = pd.read_csv('test.csv', index_col='ticket_id')\n",
    "df_train = pd.read_csv('train.csv', encoding = 'ISO-8859-1', index_col='ticket_id')\n",
    "df_train = df_train[(df_train['compliance'] == 0) | (df_train['compliance'] ==1)]\n",
    "df_train['zip_code'].fillna(value=\"<unknown>\", inplace=True)\n",
    "df_train.drop(labels=['violation_zip_code', 'clean_up_cost'], axis=1, inplace=True)\n",
    "df_addr_merge = pd.merge(df_addr, df_latlon,left_on='address', right_on='address')\n",
    "df_addr_merge.set_index(keys='ticket_id', inplace=True)\n",
    "df_train_merge = pd.merge(df_train, df_addr_merge, left_index=True, right_index=True)\n",
    "df_test_merge = pd.merge(df_test, df_addr_merge, left_index=True, right_index=True)\n",
    "df_train_merge['city'] = df_train_merge['city'].apply(lambda x: x.lower())\n",
    "df_test_merge['city'].fillna(value=\"<unknown>\", inplace=True)\n",
    "df_test_merge['city'] = df_test_merge['city'].apply(lambda x: x.lower())\n",
    "df_train_merge['city'] = df_train_merge['city'].apply(lambda x: 'detroit' if x == 'det' else x)\n",
    "df_test_merge['city'] = df_test_merge['city'].apply(lambda x: 'detroit' if x == 'det' else x)\n",
    "df_train_merge['city_resident'] = df_train_merge['city'].apply(lambda x: 1 if x == 'detroit' else 0)\n",
    "df_test_merge['city_resident'] = df_test_merge['city'].apply(lambda x: 1 if x == 'detroit' else 0)\n",
    "df_train_merge['lat'].fillna(value=np.mean(df_train_merge['lat']), inplace=True)\n",
    "df_train_merge['lon'].fillna(value=np.mean(df_train_merge['lat']), inplace=True)\n",
    "df_test_merge['lat'].fillna(value=np.mean(df_test_merge['lat']), inplace=True)\n",
    "df_test_merge['lon'].fillna(value=np.mean(df_test_merge['lat']), inplace=True)\n",
    "df_train_feat = df_train_merge[['fine_amount', 'late_fee', 'city_resident', 'lat', 'lon', 'compliance']]\n",
    "df_test_feat = df_test_merge[['fine_amount', 'late_fee', 'city_resident', 'lat', 'lon']]\n",
    "#df_train_feat = df_train_merge[['fine_amount', 'late_fee', 'city_resident', 'compliance']]\n",
    "#df_test_feat = df_test_merge[['fine_amount', 'late_fee', 'city_resident', 'lat']]"
   ]
  },
  {
   "cell_type": "code",
   "execution_count": 165,
   "metadata": {
    "collapsed": true
   },
   "outputs": [],
   "source": [
    "#df_train_sample = df_train_feat.sample(n=20000, random_state=42)\n",
    "df_train_sample = df_train_feat"
   ]
  },
  {
   "cell_type": "code",
   "execution_count": 164,
   "metadata": {
    "collapsed": true
   },
   "outputs": [],
   "source": [
    "X_unseen = df_test_feat"
   ]
  },
  {
   "cell_type": "code",
   "execution_count": 166,
   "metadata": {
    "collapsed": true
   },
   "outputs": [],
   "source": [
    "X = df_train_sample.drop(labels=['compliance'], axis=1)\n",
    "y = df_train_sample['compliance']\n",
    "X_train, X_test, y_train, y_test = train_test_split(X, y, test_size=0.33, random_state=42)"
   ]
  },
  {
   "cell_type": "code",
   "execution_count": 167,
   "metadata": {},
   "outputs": [
    {
     "name": "stdout",
     "output_type": "stream",
     "text": [
      "[[48879    55]\n",
      " [ 3778    49]]\n",
      "             precision    recall  f1-score   support\n",
      "\n",
      "        0.0       0.93      1.00      0.96     48934\n",
      "        1.0       0.47      0.01      0.02      3827\n",
      "\n",
      "avg / total       0.90      0.93      0.89     52761\n",
      "\n"
     ]
    }
   ],
   "source": [
    "lr = LogisticRegression(C=0.0001, penalty='l1')\n",
    "lr.fit(X_train, y_train)\n",
    "pred = lr.predict(X_test)\n",
    "print(confusion_matrix(y_test, pred))\n",
    "print(classification_report(y_test, pred))"
   ]
  },
  {
   "cell_type": "code",
   "execution_count": 168,
   "metadata": {
    "scrolled": false
   },
   "outputs": [
    {
     "name": "stderr",
     "output_type": "stream",
     "text": [
      "/usr/local/Cellar/python3/3.6.4_1/Frameworks/Python.framework/Versions/3.6/lib/python3.6/site-packages/matplotlib/cbook/deprecation.py:106: MatplotlibDeprecationWarning: Adding an axes using the same arguments as a previous axes currently reuses the earlier instance.  In a future version, a new instance will always be created and returned.  Meanwhile, this warning can be suppressed, and the future behavior ensured, by passing a unique label to each axes instance.\n",
      "  warnings.warn(message, mplDeprecation, stacklevel=1)\n"
     ]
    },
    {
     "data": {
      "image/png": "[encoded data removed]",
      "text/plain": [
       "<matplotlib.figure.Figure at 0x10d3f8eb8>"
      ]
     },
     "metadata": {},
     "output_type": "display_data"
    }
   ],
   "source": [
    "y_score_lr = lr.fit(X_train, y_train).decision_function(X_test)\n",
    "fpr_lr, tpr_lr, _ = roc_curve(y_test, y_score_lr)\n",
    "roc_auc_lr = auc(fpr_lr, tpr_lr)\n",
    "plt.figure(figsize=(10,8))\n",
    "plt.xlim([-0.01, 1.00])\n",
    "plt.ylim([-0.01, 1.01])\n",
    "plt.plot(fpr_lr, tpr_lr, lw=3, label='LogRegr ROC curve (area = {:0.2f})'.format(roc_auc_lr))\n",
    "plt.xlabel('False Positive Rate', fontsize=16)\n",
    "plt.ylabel('True Positive Rate', fontsize=16)\n",
    "plt.title('ROC curve (1-of-10 digits classifier)', fontsize=16)\n",
    "plt.legend(loc='lower right', fontsize=13)\n",
    "plt.plot([0, 1], [0, 1], color='navy', lw=3, linestyle='--')\n",
    "plt.axes().set_aspect('equal')\n",
    "plt.show()"
   ]
  },
  {
   "cell_type": "code",
   "execution_count": 182,
   "metadata": {},
   "outputs": [
    {
     "data": {
      "text/html": [
       "<div>\n",
       "<style scoped>\n",
       "    .dataframe tbody tr th:only-of-type {\n",
       "        vertical-align: middle;\n",
       "    }\n",
       "\n",
       "    .dataframe tbody tr th {\n",
       "        vertical-align: top;\n",
       "    }\n",
       "\n",
       "    .dataframe thead th {\n",
       "        text-align: right;\n",
       "    }\n",
       "</style>\n",
       "<table border=\"1\" class=\"dataframe\">\n",
       "  <thead>\n",
       "    <tr style=\"text-align: right;\">\n",
       "      <th></th>\n",
       "      <th>fine_amount</th>\n",
       "      <th>late_fee</th>\n",
       "      <th>city_resident</th>\n",
       "      <th>lat</th>\n",
       "      <th>lon</th>\n",
       "    </tr>\n",
       "    <tr>\n",
       "      <th>ticket_id</th>\n",
       "      <th></th>\n",
       "      <th></th>\n",
       "      <th></th>\n",
       "      <th></th>\n",
       "      <th></th>\n",
       "    </tr>\n",
       "  </thead>\n",
       "  <tbody>\n",
       "    <tr>\n",
       "      <th>284932</th>\n",
       "      <td>200.0</td>\n",
       "      <td>20.0</td>\n",
       "      <td>1</td>\n",
       "      <td>42.407581</td>\n",
       "      <td>-82.986642</td>\n",
       "    </tr>\n",
       "    <tr>\n",
       "      <th>285362</th>\n",
       "      <td>1000.0</td>\n",
       "      <td>100.0</td>\n",
       "      <td>1</td>\n",
       "      <td>42.426239</td>\n",
       "      <td>-83.238259</td>\n",
       "    </tr>\n",
       "    <tr>\n",
       "      <th>285361</th>\n",
       "      <td>100.0</td>\n",
       "      <td>10.0</td>\n",
       "      <td>1</td>\n",
       "      <td>42.426239</td>\n",
       "      <td>-83.238259</td>\n",
       "    </tr>\n",
       "    <tr>\n",
       "      <th>285338</th>\n",
       "      <td>200.0</td>\n",
       "      <td>20.0</td>\n",
       "      <td>0</td>\n",
       "      <td>42.309661</td>\n",
       "      <td>-83.122426</td>\n",
       "    </tr>\n",
       "    <tr>\n",
       "      <th>285346</th>\n",
       "      <td>100.0</td>\n",
       "      <td>10.0</td>\n",
       "      <td>0</td>\n",
       "      <td>42.308830</td>\n",
       "      <td>-83.121116</td>\n",
       "    </tr>\n",
       "  </tbody>\n",
       "</table>\n",
       "</div>"
      ],
      "text/plain": [
       "           fine_amount  late_fee  city_resident        lat        lon\n",
       "ticket_id                                                            \n",
       "284932           200.0      20.0              1  42.407581 -82.986642\n",
       "285362          1000.0     100.0              1  42.426239 -83.238259\n",
       "285361           100.0      10.0              1  42.426239 -83.238259\n",
       "285338           200.0      20.0              0  42.309661 -83.122426\n",
       "285346           100.0      10.0              0  42.308830 -83.121116"
      ]
     },
     "execution_count": 182,
     "metadata": {},
     "output_type": "execute_result"
    }
   ],
   "source": [
    "X_unseen.head()"
   ]
  },
  {
   "cell_type": "code",
   "execution_count": 198,
   "metadata": {},
   "outputs": [],
   "source": [
    "y_proba_lr = lr.fit(X_train, y_train)\n",
    "probs = y_proba_lr.predict_proba(X_unseen)\n",
    "compliance = pd.Series(data=probs[0:,1], index=X_unseen.index)"
   ]
  },
  {
   "cell_type": "code",
   "execution_count": 199,
   "metadata": {},
   "outputs": [
    {
     "data": {
      "text/plain": [
       "ticket_id\n",
       "284932    6.584493e-02\n",
       "285362    7.524929e-03\n",
       "285361    8.464962e-02\n",
       "285338    6.563424e-02\n",
       "285346    8.487921e-02\n",
       "285345    6.563627e-02\n",
       "285347    9.631371e-02\n",
       "285342    1.904824e-01\n",
       "285530    7.539543e-03\n",
       "284989    2.959384e-02\n",
       "285344    9.633999e-02\n",
       "285343    7.549325e-03\n",
       "285340    7.546485e-03\n",
       "285341    9.630699e-02\n",
       "285349    8.487363e-02\n",
       "285348    6.563186e-02\n",
       "284991    2.959416e-02\n",
       "285532    2.958903e-02\n",
       "285406    2.957547e-02\n",
       "285001    2.963974e-02\n",
       "285006    7.553936e-03\n",
       "285405    7.522676e-03\n",
       "285337    2.953777e-02\n",
       "285496    9.639369e-02\n",
       "285497    6.569263e-02\n",
       "285378    7.527740e-03\n",
       "285589    2.950199e-02\n",
       "285585    6.543805e-02\n",
       "285501    8.494036e-02\n",
       "285581    7.526960e-03\n",
       "              ...     \n",
       "376367    1.499351e-02\n",
       "376366    5.756902e-02\n",
       "376362    5.762111e-02\n",
       "376363    6.564695e-02\n",
       "376365    1.499351e-02\n",
       "376364    5.756902e-02\n",
       "376228    5.772267e-02\n",
       "376265    5.745635e-02\n",
       "376286    2.167413e-01\n",
       "376320    5.767737e-02\n",
       "376314    5.785342e-02\n",
       "376327    2.171610e-01\n",
       "376385    2.176534e-01\n",
       "376435    5.865668e-01\n",
       "376370    2.172074e-01\n",
       "376434    9.651375e-02\n",
       "376459    8.507462e-02\n",
       "376478    1.133340e-07\n",
       "376473    5.777593e-02\n",
       "376484    5.056569e-02\n",
       "376482    2.965122e-02\n",
       "376480    2.965122e-02\n",
       "376479    2.965122e-02\n",
       "376481    2.965122e-02\n",
       "376483    5.768317e-02\n",
       "376496    7.543327e-03\n",
       "376497    7.543327e-03\n",
       "376499    8.513289e-02\n",
       "376500    8.513342e-02\n",
       "369851    1.260079e-01\n",
       "Length: 61001, dtype: float64"
      ]
     },
     "execution_count": 199,
     "metadata": {},
     "output_type": "execute_result"
    }
   ],
   "source": [
    "compliance "
   ]
  },
  {
   "cell_type": "code",
   "execution_count": 184,
   "metadata": {},
   "outputs": [],
   "source": [
    "#pd.Series(data=np.random.uniform(size=X_unseen.shape[0]), index=X_unseen.index, dtype=\"float32\")"
   ]
  },
  {
   "cell_type": "code",
   "execution_count": 148,
   "metadata": {},
   "outputs": [
    {
     "data": {
      "text/plain": [
       "GridSearchCV(cv=3, error_score='raise',\n",
       "       estimator=LogisticRegression(C=1.0, class_weight=None, dual=False, fit_intercept=True,\n",
       "          intercept_scaling=1, max_iter=100, multi_class='ovr', n_jobs=1,\n",
       "          penalty='l2', random_state=None, solver='liblinear', tol=0.0001,\n",
       "          verbose=0, warm_start=False),\n",
       "       fit_params=None, iid=True, n_jobs=1,\n",
       "       param_grid={'C': [0.0001, 0.001, 0.01, 0.1, 1, 10, 100, 1000], 'penalty': ['l1', 'l2']},\n",
       "       pre_dispatch='2*n_jobs', refit=True, return_train_score='warn',\n",
       "       scoring=None, verbose=0)"
      ]
     },
     "execution_count": 148,
     "metadata": {},
     "output_type": "execute_result"
    }
   ],
   "source": [
    "lr = LogisticRegression()\n",
    "param_grid = {'C':[0.0001,0.001,0.01,0.1,1,10,100,1000], 'penalty':['l1','l2']}\n",
    "grid = GridSearchCV(estimator=lr, param_grid=param_grid, cv=3, refit=True)\n",
    "grid.fit(X_train, y_train)"
   ]
  },
  {
   "cell_type": "code",
   "execution_count": 149,
   "metadata": {
    "collapsed": true
   },
   "outputs": [],
   "source": [
    "grid_predictions = grid.predict(X_test)"
   ]
  },
  {
   "cell_type": "code",
   "execution_count": 150,
   "metadata": {
    "scrolled": true
   },
   "outputs": [
    {
     "data": {
      "text/plain": [
       "LogisticRegression(C=0.0001, class_weight=None, dual=False,\n",
       "          fit_intercept=True, intercept_scaling=1, max_iter=100,\n",
       "          multi_class='ovr', n_jobs=1, penalty='l1', random_state=None,\n",
       "          solver='liblinear', tol=0.0001, verbose=0, warm_start=False)"
      ]
     },
     "execution_count": 150,
     "metadata": {},
     "output_type": "execute_result"
    }
   ],
   "source": [
    "grid.best_estimator_"
   ]
  },
  {
   "cell_type": "code",
   "execution_count": 151,
   "metadata": {},
   "outputs": [
    {
     "data": {
      "text/plain": [
       "{'C': 0.0001, 'penalty': 'l1'}"
      ]
     },
     "execution_count": 151,
     "metadata": {},
     "output_type": "execute_result"
    }
   ],
   "source": [
    "grid.best_params_"
   ]
  },
  {
   "cell_type": "code",
   "execution_count": 152,
   "metadata": {},
   "outputs": [
    {
     "name": "stdout",
     "output_type": "stream",
     "text": [
      "[[48879    55]\n",
      " [ 3778    49]]\n",
      "\n",
      "\n",
      "             precision    recall  f1-score   support\n",
      "\n",
      "        0.0       0.93      1.00      0.96     48934\n",
      "        1.0       0.47      0.01      0.02      3827\n",
      "\n",
      "avg / total       0.90      0.93      0.89     52761\n",
      "\n"
     ]
    }
   ],
   "source": [
    "print(confusion_matrix(y_test, grid_predictions))\n",
    "print('\\n')\n",
    "print(classification_report(y_test, grid_predictions))"
   ]
  },
  {
   "cell_type": "code",
   "execution_count": 155,
   "metadata": {
    "collapsed": true
   },
   "outputs": [],
   "source": [
    "y_proba_grid = grid.fit(X_train, y_train).predict_proba(X_test)"
   ]
  },
  {
   "cell_type": "code",
   "execution_count": 156,
   "metadata": {},
   "outputs": [
    {
     "name": "stderr",
     "output_type": "stream",
     "text": [
      "/usr/local/Cellar/python3/3.6.4_1/Frameworks/Python.framework/Versions/3.6/lib/python3.6/site-packages/matplotlib/cbook/deprecation.py:106: MatplotlibDeprecationWarning: Adding an axes using the same arguments as a previous axes currently reuses the earlier instance.  In a future version, a new instance will always be created and returned.  Meanwhile, this warning can be suppressed, and the future behavior ensured, by passing a unique label to each axes instance.\n",
      "  warnings.warn(message, mplDeprecation, stacklevel=1)\n"
     ]
    },
    {
     "data": {
      "image/png": "[encoded data removed]",
      "text/plain": [
       "<matplotlib.figure.Figure at 0x108160438>"
      ]
     },
     "metadata": {},
     "output_type": "display_data"
    }
   ],
   "source": [
    "y_score_grid = grid.fit(X_train, y_train).decision_function(X_test)\n",
    "fpr_grid, tpr_grid, _ = roc_curve(y_test, y_score_grid)\n",
    "roc_auc_grid = auc(fpr_grid, tpr_grid)\n",
    "plt.figure(figsize=(10,8))\n",
    "plt.xlim([-0.01, 1.00])\n",
    "plt.ylim([-0.01, 1.01])\n",
    "plt.plot(fpr_grid, tpr_grid, lw=3, label='LogRegr ROC curve (area = {:0.2f})'.format(roc_auc_lr))\n",
    "plt.xlabel('False Positive Rate', fontsize=16)\n",
    "plt.ylabel('True Positive Rate', fontsize=16)\n",
    "plt.title('ROC curve (1-of-10 digits classifier)', fontsize=16)\n",
    "plt.legend(loc='lower right', fontsize=13)\n",
    "plt.plot([0, 1], [0, 1], color='navy', lw=3, linestyle='--')\n",
    "plt.axes().set_aspect('equal')\n",
    "plt.show()"
   ]
  },
  {
   "cell_type": "code",
   "execution_count": null,
   "metadata": {
    "collapsed": true
   },
   "outputs": [],
   "source": [
    "import pandas as pd\n",
    "import numpy as np\n",
    "from sklearn.linear_model import LogisticRegression\n",
    "from sklearn.model_selection import train_test_split\n",
    "\n",
    "def blight_model():\n",
    "    df_addr = pd.read_csv('addresses.csv')\n",
    "    df_latlon = pd.read_csv('latlons.csv')\n",
    "    df_test = pd.read_csv('test.csv', index_col='ticket_id')\n",
    "    df_train = pd.read_csv('train.csv', encoding = 'ISO-8859-1', index_col='ticket_id')\n",
    "    df_train = df_train[(df_train['compliance'] == 0) | (df_train['compliance'] ==1)]\n",
    "    df_train['zip_code'].fillna(value=\"<unknown>\", inplace=True)\n",
    "    df_train.drop(labels=['violation_zip_code', 'clean_up_cost'], axis=1, inplace=True)\n",
    "    df_addr_merge = pd.merge(df_addr, df_latlon,left_on='address', right_on='address')\n",
    "    df_addr_merge.set_index(keys='ticket_id', inplace=True)\n",
    "    df_train_merge = pd.merge(df_train, df_addr_merge, left_index=True, right_index=True)\n",
    "    df_test_merge = pd.merge(df_test, df_addr_merge, left_index=True, right_index=True)\n",
    "    df_train_merge['city'] = df_train_merge['city'].apply(lambda x: x.lower())\n",
    "    df_test_merge['city'].fillna(value=\"<unknown>\", inplace=True)\n",
    "    df_test_merge['city'] = df_test_merge['city'].apply(lambda x: x.lower())\n",
    "    df_train_merge['city'] = df_train_merge['city'].apply(lambda x: 'detroit' if x == 'det' else x)\n",
    "    df_test_merge['city'] = df_test_merge['city'].apply(lambda x: 'detroit' if x == 'det' else x)\n",
    "    df_train_merge['city_resident'] = df_train_merge['city'].apply(lambda x: 1 if x == 'detroit' else 0)\n",
    "    df_test_merge['city_resident'] = df_test_merge['city'].apply(lambda x: 1 if x == 'detroit' else 0)\n",
    "    df_train_merge['lat'].fillna(value=np.mean(df_train_merge['lat']), inplace=True)\n",
    "    df_train_merge['lon'].fillna(value=np.mean(df_train_merge['lat']), inplace=True)\n",
    "    df_test_merge['lat'].fillna(value=np.mean(df_test_merge['lat']), inplace=True)\n",
    "    df_test_merge['lon'].fillna(value=np.mean(df_test_merge['lat']), inplace=True)\n",
    "    df_train_feat = df_train_merge[['fine_amount', 'late_fee', 'city_resident', 'lat', 'lon', 'compliance']]\n",
    "    df_test_feat = df_test_merge[['fine_amount', 'late_fee', 'city_resident', 'lat', 'lon']]\n",
    "    df_train_sample = df_train_feat\n",
    "    X_unseen = df_test_feat\n",
    "    X = df_train_sample.drop(labels=['compliance'], axis=1)\n",
    "    y = df_train_sample['compliance']\n",
    "    X_train, X_test, y_train, y_test = train_test_split(X, y, test_size=0.33, random_state=42)\n",
    "    lr = LogisticRegression(C=0.0001, penalty='l1')\n",
    "    y_proba_lr = lr.fit(X_train, y_train)\n",
    "    probs = y_proba_lr.predict_proba(X_unseen)\n",
    "    compliance = pd.Series(data=probs[0:,1], index=X_unseen.index)\n",
    "    return(compliance)"
   ]
  },
  {
   "cell_type": "code",
   "execution_count": null,
   "metadata": {
    "collapsed": true
   },
   "outputs": [],
   "source": []
  }
 ],
 "metadata": {
  "coursera": {
   "course_slug": "python-machine-learning",
   "graded_item_id": "nNS8l",
   "launcher_item_id": "yWWk7",
   "part_id": "w8BSS"
  },
  "kernelspec": {
   "display_name": "Python 3",
   "language": "python",
   "name": "python3"
  },
  "language_info": {
   "codemirror_mode": {
    "name": "ipython",
    "version": 3
   },
   "file_extension": ".py",
   "mimetype": "text/x-python",
   "name": "python",
   "nbconvert_exporter": "python",
   "pygments_lexer": "ipython3",
   "version": "3.6.4"
  }
 },
 "nbformat": 4,
 "nbformat_minor": 2
}
